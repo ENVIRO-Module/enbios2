{
 "cells": [
  {
   "cell_type": "code",
   "execution_count": 30,
   "metadata": {
    "collapsed": true,
    "ExecuteTime": {
     "end_time": "2023-07-13T10:43:08.180007173Z",
     "start_time": "2023-07-13T10:43:08.167039340Z"
    }
   },
   "outputs": [],
   "source": [
    "import bw2data"
   ]
  },
  {
   "cell_type": "code",
   "execution_count": 31,
   "outputs": [],
   "source": [
    "from enbios2.generic.files import DataPath\n",
    "\n",
    "base_folder = DataPath(\"temp/alex_enb2\")"
   ],
   "metadata": {
    "collapsed": false,
    "ExecuteTime": {
     "end_time": "2023-07-13T10:43:09.102981584Z",
     "start_time": "2023-07-13T10:43:09.090954082Z"
    }
   }
  },
  {
   "cell_type": "code",
   "execution_count": 32,
   "outputs": [
    {
     "name": "stdout",
     "output_type": "stream",
     "text": [
      "Project: default\n",
      "[]\n",
      "Project: ecoinvent\n",
      "['biosphere3', 'cutoff_3.9.1_default', 'seeds']\n",
      "Project: excel_import\n",
      "['biosphere3', 'csv_db']\n"
     ]
    }
   ],
   "source": [
    "from enbios2.bw2.util import report\n",
    "\n",
    "report()"
   ],
   "metadata": {
    "collapsed": false,
    "ExecuteTime": {
     "end_time": "2023-07-13T10:43:09.568927866Z",
     "start_time": "2023-07-13T10:43:09.508859076Z"
    }
   }
  },
  {
   "cell_type": "code",
   "execution_count": 33,
   "outputs": [],
   "source": [
    "import openpyxl\n",
    "\n",
    "excel_file = base_folder / \"base_file_simplified.xlsx\"\n",
    "workbook = openpyxl.load_workbook(excel_file)\n",
    "processors = workbook[\"BareProcessors simulation\"]"
   ],
   "metadata": {
    "collapsed": false,
    "ExecuteTime": {
     "end_time": "2023-07-13T10:43:10.919119474Z",
     "start_time": "2023-07-13T10:43:10.232689289Z"
    }
   }
  },
  {
   "cell_type": "code",
   "execution_count": 34,
   "outputs": [
    {
     "data": {
      "text/plain": "[('wind_onshore', 'electricity', '81174ec2c20931c1a36f65c654bbd11e'),\n ('wind_offshore', 'electricity', '46839adbc3cf15621ddbbe687eaa6df1'),\n ('hydro_run_of_river', 'electricity', 'b870e3d3ddd5b634d016940064b27532'),\n ('hydro_reservoir', 'electricity', 'c868c4688fbf78f5ca3787ac3d83312b'),\n ('ccgt', 'electricity', '4833b6352dfe15c95ae46fd280371cd3'),\n ('chp_biofuel_extraction', 'electricity', '1952fb157a18463b0028629917057bcf'),\n ('open_field_pv', 'electricity', '206c2e2c30f45d47ea2e9a3701f8ecc5'),\n ('electrolysis', 'electricity', 'FILL'),\n ('existing_wind', 'electricity', '81174ec2c20931c1a36f65c654bbd11e'),\n ('existing_pv', 'electricity', '206c2e2c30f45d47ea2e9a3701f8ecc5'),\n ('roof_mounted_pv', 'electricity', '1d7a3591e7a3d033a25e0eaf699bb50b'),\n ('chp_wte_back_pressure', 'electricity', 'fd6356e68720aec505c69cdadb3046fc'),\n ('chp_methane_extraction', 'electricity', 'a0d0ab65435d0487d33b4be142483d76'),\n ('waste_supply', 'electricity', 'fd6356e68720aec505c69cdadb3046fc'),\n ('biofuel_supply', 'biofuel', 'f1cc5e0b69dcd3bdb2c6a4d393521a65'),\n ('chp_biofuel_extraction', 'heat', '413bc4617794c6e8b07038dbeca64adb'),\n ('chp_wte_back_pressure', 'heat', '37ebaba3250e37c42d28a353f27632f5'),\n ('chp_methane_extraction', 'heat', 'a3039e0a35ed472774d6ed66262c67f3'),\n ('biofuel_boiler', 'heat', '413bc4617794c6e8b07038dbeca64adb'),\n ('methane_boiler', 'heat', 'a3039e0a35ed472774d6ed66262c67f3'),\n ('battery', 'electricity', 'a2634d3b6d27046ccb1d0af9c0384c64'),\n ('Heat_storage_big', 'heat', '07db2c419abe9cffeb033aa0bed7f0ba'),\n ('heat_storage_small', 'heat', '14e0227e764a4a098e5fd34525ccaf3f'),\n ('Methane_storage', 'methane', 'da586847dea594ccd75188627f456d03'),\n ('pumped_hydro', 'electricity', '309ff1f1194f2b5ea34d8c077103b1e3'),\n ('el_import', 'electricity', '1373b63314d03c42313a372bca1bd648'),\n ('biofuel_to_diesel', 'diesel', '3a6586952eff793738eef72743703e90'),\n ('biofuel_to_methane', 'methane', '7d82a9b0a28dc30058260b5c68fbad95'),\n ('biofuel_to_methanol', 'methanol', 'df54a237474430370bb580c2451d405d')]"
     },
     "execution_count": 34,
     "metadata": {},
     "output_type": "execute_result"
    }
   ],
   "source": [
    "# collect processor, carrier and CODE\n",
    "processors_data = []\n",
    "for row in processors.iter_rows(min_row=2):\n",
    "    if row[1].value:\n",
    "        processors_data.append((row[1].value, row[2].value, row[9].value))\n",
    "\n",
    "# COPY, IN ORDER TO CHECK WHICH ARE MISSING\n",
    "remaining = processors_data.copy()\n",
    "\n",
    "processors_data"
   ],
   "metadata": {
    "collapsed": false,
    "ExecuteTime": {
     "end_time": "2023-07-13T10:43:10.969631417Z",
     "start_time": "2023-07-13T10:43:10.941377210Z"
    }
   }
  },
  {
   "cell_type": "code",
   "execution_count": 35,
   "outputs": [
    {
     "data": {
      "text/plain": "['biosphere3', 'cutoff_3.9.1_default', 'seeds']"
     },
     "execution_count": 35,
     "metadata": {},
     "output_type": "execute_result"
    }
   ],
   "source": [
    "bw2data.projects.set_current(\"ecoinvent\")\n",
    "list(bw2data.databases)"
   ],
   "metadata": {
    "collapsed": false,
    "ExecuteTime": {
     "end_time": "2023-07-13T10:43:11.820940359Z",
     "start_time": "2023-07-13T10:43:11.797101019Z"
    }
   }
  },
  {
   "cell_type": "code",
   "execution_count": 36,
   "outputs": [
    {
     "name": "stdout",
     "output_type": "stream",
     "text": [
      "('electrolysis', 'electricity', 'FILL') not found\n"
     ]
    }
   ],
   "source": [
    "from bw2data.errors import UnknownObject\n",
    "\n",
    "# read all values in column I\n",
    "db = bw2data.Database(\"cutoff_3.9.1_default\")\n",
    "activities = []\n",
    "\n",
    "for pd in processors_data:\n",
    "    try:\n",
    "        activity = db.get_node(pd[2])\n",
    "        activities.append((activity, *pd))\n",
    "    except UnknownObject:\n",
    "        print(pd, \"not found\")"
   ],
   "metadata": {
    "collapsed": false,
    "ExecuteTime": {
     "end_time": "2023-07-13T10:43:12.389130489Z",
     "start_time": "2023-07-13T10:43:12.341284424Z"
    }
   }
  },
  {
   "cell_type": "code",
   "execution_count": 37,
   "outputs": [
    {
     "data": {
      "text/plain": "[('electricity production, wind, 1-3MW turbine, onshore' (kilowatt hour, PT, None),\n  'wind_onshore',\n  'electricity',\n  '81174ec2c20931c1a36f65c654bbd11e'),\n ('electricity production, wind, 1-3MW turbine, offshore' (kilowatt hour, PT, None),\n  'wind_offshore',\n  'electricity',\n  '46839adbc3cf15621ddbbe687eaa6df1'),\n ('electricity production, hydro, run-of-river' (kilowatt hour, PT, None),\n  'hydro_run_of_river',\n  'electricity',\n  'b870e3d3ddd5b634d016940064b27532'),\n ('electricity production, hydro, reservoir, non-alpine region' (kilowatt hour, PT, None),\n  'hydro_reservoir',\n  'electricity',\n  'c868c4688fbf78f5ca3787ac3d83312b'),\n ('electricity production, natural gas, combined cycle power plant' (kilowatt hour, PT, None),\n  'ccgt',\n  'electricity',\n  '4833b6352dfe15c95ae46fd280371cd3'),\n ('heat and power co-generation, wood chips, 6667 kW, state-of-the-art 2014' (kilowatt hour, PT, None),\n  'chp_biofuel_extraction',\n  'electricity',\n  '1952fb157a18463b0028629917057bcf'),\n ('electricity production, photovoltaic, 570kWp open ground installation, multi-Si' (kilowatt hour, PT, None),\n  'open_field_pv',\n  'electricity',\n  '206c2e2c30f45d47ea2e9a3701f8ecc5'),\n ('electricity production, wind, 1-3MW turbine, onshore' (kilowatt hour, PT, None),\n  'existing_wind',\n  'electricity',\n  '81174ec2c20931c1a36f65c654bbd11e'),\n ('electricity production, photovoltaic, 570kWp open ground installation, multi-Si' (kilowatt hour, PT, None),\n  'existing_pv',\n  'electricity',\n  '206c2e2c30f45d47ea2e9a3701f8ecc5'),\n ('electricity production, photovoltaic, 3kWp slanted-roof installation, multi-Si, panel, mounted' (kilowatt hour, PT, None),\n  'roof_mounted_pv',\n  'electricity',\n  '1d7a3591e7a3d033a25e0eaf699bb50b'),\n ('electricity, from municipal waste incineration to generic market for electricity, medium voltage' (kilowatt hour, PT, None),\n  'chp_wte_back_pressure',\n  'electricity',\n  'fd6356e68720aec505c69cdadb3046fc'),\n ('heat and power co-generation, natural gas, combined cycle power plant, 400MW electrical' (kilowatt hour, PT, None),\n  'chp_methane_extraction',\n  'electricity',\n  'a0d0ab65435d0487d33b4be142483d76'),\n ('electricity, from municipal waste incineration to generic market for electricity, medium voltage' (kilowatt hour, PT, None),\n  'waste_supply',\n  'electricity',\n  'fd6356e68720aec505c69cdadb3046fc'),\n ('market for ethanol, without water, in 99.7% solution state, from fermentation, vehicle grade' (kilogram, CH, None),\n  'biofuel_supply',\n  'biofuel',\n  'f1cc5e0b69dcd3bdb2c6a4d393521a65'),\n ('heat and power co-generation, wood chips, 6667 kW, state-of-the-art 2014' (megajoule, PT, None),\n  'chp_biofuel_extraction',\n  'heat',\n  '413bc4617794c6e8b07038dbeca64adb'),\n ('heat, from municipal waste incineration to generic market for heat district or industrial, other than natural gas' (megajoule, PT, None),\n  'chp_wte_back_pressure',\n  'heat',\n  '37ebaba3250e37c42d28a353f27632f5'),\n ('heat and power co-generation, natural gas, combined cycle power plant, 400MW electrical' (megajoule, PT, None),\n  'chp_methane_extraction',\n  'heat',\n  'a3039e0a35ed472774d6ed66262c67f3'),\n ('heat and power co-generation, wood chips, 6667 kW, state-of-the-art 2014' (megajoule, PT, None),\n  'biofuel_boiler',\n  'heat',\n  '413bc4617794c6e8b07038dbeca64adb'),\n ('heat and power co-generation, natural gas, combined cycle power plant, 400MW electrical' (megajoule, PT, None),\n  'methane_boiler',\n  'heat',\n  'a3039e0a35ed472774d6ed66262c67f3'),\n ('market for battery cell, Li-ion, NCA' (kilogram, GLO, None),\n  'battery',\n  'electricity',\n  'a2634d3b6d27046ccb1d0af9c0384c64'),\n ('market for heat storage, 2000l' (unit, GLO, None),\n  'Heat_storage_big',\n  'heat',\n  '07db2c419abe9cffeb033aa0bed7f0ba'),\n ('market for hot water tank, 600l' (unit, GLO, None),\n  'heat_storage_small',\n  'heat',\n  '14e0227e764a4a098e5fd34525ccaf3f'),\n ('compressed air energy storage plant construction, 200 MW electrical' (unit, RER, None),\n  'Methane_storage',\n  'methane',\n  'da586847dea594ccd75188627f456d03'),\n ('electricity production, hydro, pumped storage' (kilowatt hour, PT, None),\n  'pumped_hydro',\n  'electricity',\n  '309ff1f1194f2b5ea34d8c077103b1e3'),\n ('market for electricity, high voltage' (kilowatt hour, ES, None),\n  'el_import',\n  'electricity',\n  '1373b63314d03c42313a372bca1bd648'),\n ('market for fatty acid methyl ester' (kilogram, RoW, None),\n  'biofuel_to_diesel',\n  'diesel',\n  '3a6586952eff793738eef72743703e90'),\n ('market for biomethane, high pressure' (cubic meter, CH, None),\n  'biofuel_to_methane',\n  'methane',\n  '7d82a9b0a28dc30058260b5c68fbad95'),\n ('market for methanol, from biomass' (kilogram, CH, None),\n  'biofuel_to_methanol',\n  'methanol',\n  'df54a237474430370bb580c2451d405d')]"
     },
     "execution_count": 37,
     "metadata": {},
     "output_type": "execute_result"
    }
   ],
   "source": [
    "activities"
   ],
   "metadata": {
    "collapsed": false,
    "ExecuteTime": {
     "end_time": "2023-07-13T10:43:13.151694402Z",
     "start_time": "2023-07-13T10:43:13.098952579Z"
    }
   }
  },
  {
   "cell_type": "code",
   "execution_count": 38,
   "outputs": [
    {
     "name": "stdout",
     "output_type": "stream",
     "text": [
      "All unique: False\n"
     ]
    }
   ],
   "source": [
    "from collections import Counter\n",
    "\n",
    "potential_aliases = [act[1] for act in activities]\n",
    "print(\"All unique:\", len(potential_aliases) == len(set(potential_aliases)))\n"
   ],
   "metadata": {
    "collapsed": false,
    "ExecuteTime": {
     "end_time": "2023-07-13T10:43:14.312583171Z",
     "start_time": "2023-07-13T10:43:14.295529649Z"
    }
   }
  },
  {
   "cell_type": "code",
   "execution_count": 39,
   "outputs": [
    {
     "data": {
      "text/plain": "False"
     },
     "execution_count": 39,
     "metadata": {},
     "output_type": "execute_result"
    }
   ],
   "source": [
    "# user a counter, and redo the array of activities, by adding a string the beginning with a new full unique (hopefully) alias\n",
    "counts = Counter(potential_aliases)\n",
    "\n",
    "activities_ = []\n",
    "for act in activities:\n",
    "    full_alias = f\"{act[1]}_{act[2]}\"\n",
    "    activities_.append((full_alias, *act[1:]))\n",
    "\n",
    "# check if its all good (should give False)\n",
    "any((v > 1 for v in Counter([act[0] for act in activities_]).values()))"
   ],
   "metadata": {
    "collapsed": false,
    "ExecuteTime": {
     "end_time": "2023-07-13T10:43:14.962314401Z",
     "start_time": "2023-07-13T10:43:14.950456580Z"
    }
   }
  },
  {
   "cell_type": "code",
   "execution_count": 40,
   "outputs": [
    {
     "data": {
      "text/plain": "HTML(value='<table>\\n<thead>\\n<tr><th>full alias [0]                    </th><th>orig alias            </th><t…",
      "application/vnd.jupyter.widget-view+json": {
       "version_major": 2,
       "version_minor": 0,
       "model_id": "04009ee4c8854de48050bbd78584dbd1"
      }
     },
     "metadata": {},
     "output_type": "display_data"
    }
   ],
   "source": [
    "from ipywidgets import HTML\n",
    "import tabulate\n",
    "\n",
    "activities = activities_\n",
    "\n",
    "table = tabulate.tabulate(activities, headers=[\"full alias [0]\", \"orig alias\", \"carrier\", \"code [3]\"], tablefmt='html')\n",
    "display(HTML(table))"
   ],
   "metadata": {
    "collapsed": false,
    "ExecuteTime": {
     "end_time": "2023-07-13T10:43:16.004377538Z",
     "start_time": "2023-07-13T10:43:15.902930181Z"
    }
   }
  },
  {
   "cell_type": "raw",
   "source": [
    "get the bw-activities\n",
    "copy them twice, and put them into a new database"
   ],
   "metadata": {
    "collapsed": false
   }
  },
  {
   "cell_type": "code",
   "execution_count": 41,
   "outputs": [
    {
     "data": {
      "text/plain": "{'wind_onshore_electricity': 'electricity production, wind, 1-3MW turbine, onshore' (kilowatt hour, PT, None),\n 'wind_offshore_electricity': 'electricity production, wind, 1-3MW turbine, offshore' (kilowatt hour, PT, None),\n 'hydro_run_of_river_electricity': 'electricity production, hydro, run-of-river' (kilowatt hour, PT, None),\n 'hydro_reservoir_electricity': 'electricity production, hydro, reservoir, non-alpine region' (kilowatt hour, PT, None),\n 'ccgt_electricity': 'electricity production, natural gas, combined cycle power plant' (kilowatt hour, PT, None),\n 'chp_biofuel_extraction_electricity': 'heat and power co-generation, wood chips, 6667 kW, state-of-the-art 2014' (kilowatt hour, PT, None),\n 'open_field_pv_electricity': 'electricity production, photovoltaic, 570kWp open ground installation, multi-Si' (kilowatt hour, PT, None),\n 'existing_wind_electricity': 'electricity production, wind, 1-3MW turbine, onshore' (kilowatt hour, PT, None),\n 'existing_pv_electricity': 'electricity production, photovoltaic, 570kWp open ground installation, multi-Si' (kilowatt hour, PT, None),\n 'roof_mounted_pv_electricity': 'electricity production, photovoltaic, 3kWp slanted-roof installation, multi-Si, panel, mounted' (kilowatt hour, PT, None),\n 'chp_wte_back_pressure_electricity': 'electricity, from municipal waste incineration to generic market for electricity, medium voltage' (kilowatt hour, PT, None),\n 'chp_methane_extraction_electricity': 'heat and power co-generation, natural gas, combined cycle power plant, 400MW electrical' (kilowatt hour, PT, None),\n 'waste_supply_electricity': 'electricity, from municipal waste incineration to generic market for electricity, medium voltage' (kilowatt hour, PT, None),\n 'biofuel_supply_biofuel': 'market for ethanol, without water, in 99.7% solution state, from fermentation, vehicle grade' (kilogram, CH, None),\n 'chp_biofuel_extraction_heat': 'heat and power co-generation, wood chips, 6667 kW, state-of-the-art 2014' (megajoule, PT, None),\n 'chp_wte_back_pressure_heat': 'heat, from municipal waste incineration to generic market for heat district or industrial, other than natural gas' (megajoule, PT, None),\n 'chp_methane_extraction_heat': 'heat and power co-generation, natural gas, combined cycle power plant, 400MW electrical' (megajoule, PT, None),\n 'biofuel_boiler_heat': 'heat and power co-generation, wood chips, 6667 kW, state-of-the-art 2014' (megajoule, PT, None),\n 'methane_boiler_heat': 'heat and power co-generation, natural gas, combined cycle power plant, 400MW electrical' (megajoule, PT, None),\n 'battery_electricity': 'market for battery cell, Li-ion, NCA' (kilogram, GLO, None),\n 'Heat_storage_big_heat': 'market for heat storage, 2000l' (unit, GLO, None),\n 'heat_storage_small_heat': 'market for hot water tank, 600l' (unit, GLO, None),\n 'Methane_storage_methane': 'compressed air energy storage plant construction, 200 MW electrical' (unit, RER, None),\n 'pumped_hydro_electricity': 'electricity production, hydro, pumped storage' (kilowatt hour, PT, None),\n 'el_import_electricity': 'market for electricity, high voltage' (kilowatt hour, ES, None),\n 'biofuel_to_diesel_diesel': 'market for fatty acid methyl ester' (kilogram, RoW, None),\n 'biofuel_to_methane_methane': 'market for biomethane, high pressure' (cubic meter, CH, None),\n 'biofuel_to_methanol_methanol': 'market for methanol, from biomass' (kilogram, CH, None)}"
     },
     "execution_count": 41,
     "metadata": {},
     "output_type": "execute_result"
    }
   ],
   "source": [
    "from bw2data.backends import Activity\n",
    "\n",
    "activities_bw: dict[str, Activity] = {}\n",
    "for activity in activities:\n",
    "    activities_bw[activity[0]] = db.get_node(activity[3])\n",
    "\n",
    "activities_bw"
   ],
   "metadata": {
    "collapsed": false,
    "ExecuteTime": {
     "end_time": "2023-07-13T10:43:18.222543504Z",
     "start_time": "2023-07-13T10:43:18.055081001Z"
    }
   }
  },
  {
   "cell_type": "code",
   "execution_count": 42,
   "outputs": [],
   "source": [
    "SEEDS_DB_NAME = \"seeds\"\n",
    "seeds_db = bw2data.Database(SEEDS_DB_NAME)\n",
    "seeds_db.register()"
   ],
   "metadata": {
    "collapsed": false,
    "ExecuteTime": {
     "end_time": "2023-07-13T10:43:18.897928155Z",
     "start_time": "2023-07-13T10:43:18.884592117Z"
    }
   }
  },
  {
   "cell_type": "code",
   "execution_count": 43,
   "outputs": [
    {
     "name": "stderr",
     "output_type": "stream",
     "text": [
      "  0%|          | 0/28 [00:00<?, ?it/s]"
     ]
    },
    {
     "name": "stdout",
     "output_type": "stream",
     "text": [
      "Successfully switch activity dataset to database `seeds`\n"
     ]
    },
    {
     "name": "stderr",
     "output_type": "stream",
     "text": [
      "  4%|▎         | 1/28 [00:00<00:22,  1.18it/s]"
     ]
    },
    {
     "name": "stdout",
     "output_type": "stream",
     "text": [
      "Successfully switch activity dataset to database `seeds`\n",
      "Successfully switch activity dataset to database `seeds`\n"
     ]
    },
    {
     "name": "stderr",
     "output_type": "stream",
     "text": [
      "  7%|▋         | 2/28 [00:01<00:22,  1.18it/s]"
     ]
    },
    {
     "name": "stdout",
     "output_type": "stream",
     "text": [
      "Successfully switch activity dataset to database `seeds`\n",
      "Successfully switch activity dataset to database `seeds`\n"
     ]
    },
    {
     "name": "stderr",
     "output_type": "stream",
     "text": [
      " 11%|█         | 3/28 [00:03<00:30,  1.23s/it]"
     ]
    },
    {
     "name": "stdout",
     "output_type": "stream",
     "text": [
      "Successfully switch activity dataset to database `seeds`\n",
      "Successfully switch activity dataset to database `seeds`\n"
     ]
    },
    {
     "name": "stderr",
     "output_type": "stream",
     "text": [
      " 14%|█▍        | 4/28 [00:04<00:25,  1.06s/it]"
     ]
    },
    {
     "name": "stdout",
     "output_type": "stream",
     "text": [
      "Successfully switch activity dataset to database `seeds`\n",
      "Successfully switch activity dataset to database `seeds`\n"
     ]
    },
    {
     "name": "stderr",
     "output_type": "stream",
     "text": [
      " 18%|█▊        | 5/28 [00:05<00:25,  1.11s/it]"
     ]
    },
    {
     "name": "stdout",
     "output_type": "stream",
     "text": [
      "Successfully switch activity dataset to database `seeds`\n",
      "Successfully switch activity dataset to database `seeds`\n"
     ]
    },
    {
     "name": "stderr",
     "output_type": "stream",
     "text": [
      " 21%|██▏       | 6/28 [00:06<00:28,  1.28s/it]"
     ]
    },
    {
     "name": "stdout",
     "output_type": "stream",
     "text": [
      "Successfully switch activity dataset to database `seeds`\n",
      "Successfully switch activity dataset to database `seeds`\n"
     ]
    },
    {
     "name": "stderr",
     "output_type": "stream",
     "text": [
      " 25%|██▌       | 7/28 [00:07<00:22,  1.08s/it]"
     ]
    },
    {
     "name": "stdout",
     "output_type": "stream",
     "text": [
      "Successfully switch activity dataset to database `seeds`\n",
      "Successfully switch activity dataset to database `seeds`\n"
     ]
    },
    {
     "name": "stderr",
     "output_type": "stream",
     "text": [
      " 29%|██▊       | 8/28 [00:08<00:20,  1.01s/it]"
     ]
    },
    {
     "name": "stdout",
     "output_type": "stream",
     "text": [
      "Successfully switch activity dataset to database `seeds`\n",
      "Successfully switch activity dataset to database `seeds`\n"
     ]
    },
    {
     "name": "stderr",
     "output_type": "stream",
     "text": [
      " 32%|███▏      | 9/28 [00:09<00:18,  1.05it/s]"
     ]
    },
    {
     "name": "stdout",
     "output_type": "stream",
     "text": [
      "Successfully switch activity dataset to database `seeds`\n",
      "Successfully switch activity dataset to database `seeds`\n"
     ]
    },
    {
     "name": "stderr",
     "output_type": "stream",
     "text": [
      " 36%|███▌      | 10/28 [00:09<00:15,  1.16it/s]"
     ]
    },
    {
     "name": "stdout",
     "output_type": "stream",
     "text": [
      "Successfully switch activity dataset to database `seeds`\n",
      "Successfully switch activity dataset to database `seeds`\n"
     ]
    },
    {
     "name": "stderr",
     "output_type": "stream",
     "text": [
      " 39%|███▉      | 11/28 [00:10<00:13,  1.23it/s]"
     ]
    },
    {
     "name": "stdout",
     "output_type": "stream",
     "text": [
      "Successfully switch activity dataset to database `seeds`\n",
      "Successfully switch activity dataset to database `seeds`\n"
     ]
    },
    {
     "name": "stderr",
     "output_type": "stream",
     "text": [
      " 43%|████▎     | 12/28 [00:12<00:16,  1.00s/it]"
     ]
    },
    {
     "name": "stdout",
     "output_type": "stream",
     "text": [
      "Successfully switch activity dataset to database `seeds`\n",
      "Successfully switch activity dataset to database `seeds`\n",
      "Successfully switch activity dataset to database `seeds`\n"
     ]
    },
    {
     "name": "stderr",
     "output_type": "stream",
     "text": [
      " 46%|████▋     | 13/28 [00:12<00:13,  1.08it/s]"
     ]
    },
    {
     "name": "stdout",
     "output_type": "stream",
     "text": [
      "Successfully switch activity dataset to database `seeds`\n"
     ]
    },
    {
     "name": "stderr",
     "output_type": "stream",
     "text": [
      " 50%|█████     | 14/28 [00:13<00:12,  1.09it/s]"
     ]
    },
    {
     "name": "stdout",
     "output_type": "stream",
     "text": [
      "Successfully switch activity dataset to database `seeds`\n",
      "Successfully switch activity dataset to database `seeds`\n"
     ]
    },
    {
     "name": "stderr",
     "output_type": "stream",
     "text": [
      " 54%|█████▎    | 15/28 [00:15<00:14,  1.09s/it]"
     ]
    },
    {
     "name": "stdout",
     "output_type": "stream",
     "text": [
      "Successfully switch activity dataset to database `seeds`\n",
      "Successfully switch activity dataset to database `seeds`\n"
     ]
    },
    {
     "name": "stderr",
     "output_type": "stream",
     "text": [
      " 57%|█████▋    | 16/28 [00:16<00:11,  1.00it/s]"
     ]
    },
    {
     "name": "stdout",
     "output_type": "stream",
     "text": [
      "Successfully switch activity dataset to database `seeds`\n",
      "Successfully switch activity dataset to database `seeds`\n"
     ]
    },
    {
     "name": "stderr",
     "output_type": "stream",
     "text": [
      " 61%|██████    | 17/28 [00:17<00:11,  1.07s/it]"
     ]
    },
    {
     "name": "stdout",
     "output_type": "stream",
     "text": [
      "Successfully switch activity dataset to database `seeds`\n",
      "Successfully switch activity dataset to database `seeds`\n",
      "Successfully switch activity dataset to database `seeds`\n"
     ]
    },
    {
     "name": "stderr",
     "output_type": "stream",
     "text": [
      " 64%|██████▍   | 18/28 [00:19<00:13,  1.35s/it]"
     ]
    },
    {
     "name": "stdout",
     "output_type": "stream",
     "text": [
      "Successfully switch activity dataset to database `seeds`\n"
     ]
    },
    {
     "name": "stderr",
     "output_type": "stream",
     "text": [
      " 68%|██████▊   | 19/28 [00:20<00:11,  1.33s/it]"
     ]
    },
    {
     "name": "stdout",
     "output_type": "stream",
     "text": [
      "Successfully switch activity dataset to database `seeds`\n",
      "Successfully switch activity dataset to database `seeds`\n",
      "Successfully switch activity dataset to database `seeds`\n"
     ]
    },
    {
     "name": "stderr",
     "output_type": "stream",
     "text": [
      " 71%|███████▏  | 20/28 [00:21<00:09,  1.14s/it]"
     ]
    },
    {
     "name": "stdout",
     "output_type": "stream",
     "text": [
      "Successfully switch activity dataset to database `seeds`\n"
     ]
    },
    {
     "name": "stderr",
     "output_type": "stream",
     "text": [
      " 75%|███████▌  | 21/28 [00:22<00:08,  1.16s/it]"
     ]
    },
    {
     "name": "stdout",
     "output_type": "stream",
     "text": [
      "Successfully switch activity dataset to database `seeds`\n",
      "Successfully switch activity dataset to database `seeds`\n"
     ]
    },
    {
     "name": "stderr",
     "output_type": "stream",
     "text": [
      " 79%|███████▊  | 22/28 [00:23<00:06,  1.05s/it]"
     ]
    },
    {
     "name": "stdout",
     "output_type": "stream",
     "text": [
      "Successfully switch activity dataset to database `seeds`\n",
      "Successfully switch activity dataset to database `seeds`\n",
      "Successfully switch activity dataset to database `seeds`\n"
     ]
    },
    {
     "name": "stderr",
     "output_type": "stream",
     "text": [
      " 82%|████████▏ | 23/28 [00:24<00:06,  1.23s/it]"
     ]
    },
    {
     "name": "stdout",
     "output_type": "stream",
     "text": [
      "Successfully switch activity dataset to database `seeds`\n"
     ]
    },
    {
     "name": "stderr",
     "output_type": "stream",
     "text": [
      " 86%|████████▌ | 24/28 [00:26<00:04,  1.20s/it]"
     ]
    },
    {
     "name": "stdout",
     "output_type": "stream",
     "text": [
      "Successfully switch activity dataset to database `seeds`\n",
      "Successfully switch activity dataset to database `seeds`\n"
     ]
    },
    {
     "name": "stderr",
     "output_type": "stream",
     "text": [
      " 89%|████████▉ | 25/28 [00:27<00:03,  1.25s/it]"
     ]
    },
    {
     "name": "stdout",
     "output_type": "stream",
     "text": [
      "Successfully switch activity dataset to database `seeds`\n",
      "Successfully switch activity dataset to database `seeds`\n"
     ]
    },
    {
     "name": "stderr",
     "output_type": "stream",
     "text": [
      " 93%|█████████▎| 26/28 [00:28<00:02,  1.19s/it]"
     ]
    },
    {
     "name": "stdout",
     "output_type": "stream",
     "text": [
      "Successfully switch activity dataset to database `seeds`\n",
      "Successfully switch activity dataset to database `seeds`\n"
     ]
    },
    {
     "name": "stderr",
     "output_type": "stream",
     "text": [
      " 96%|█████████▋| 27/28 [00:29<00:01,  1.18s/it]"
     ]
    },
    {
     "name": "stdout",
     "output_type": "stream",
     "text": [
      "Successfully switch activity dataset to database `seeds`\n",
      "Successfully switch activity dataset to database `seeds`\n",
      "Successfully switch activity dataset to database `seeds`\n"
     ]
    },
    {
     "name": "stderr",
     "output_type": "stream",
     "text": [
      "100%|██████████| 28/28 [00:31<00:00,  1.11s/it]\n"
     ]
    }
   ],
   "source": [
    "from tqdm import tqdm\n",
    "\n",
    "\n",
    "# from enbios2.bw2.util import full_duplicate\n",
    "\n",
    "def full_duplicate(activity: Activity, code=None, **kwargs) -> Activity:\n",
    "    \"\"\"\n",
    "    Make a copy of an activity with its upstream exchanges\n",
    "    (Otherwise, you cannot calculate the lca of the copy)\n",
    "    :param activity: the activity to copy\n",
    "    :param code: code of the new activity\n",
    "    :param kwargs: other data for the copy\n",
    "    :return: new activity\n",
    "    \"\"\"\n",
    "    activity_copy = activity.copy(code, **kwargs)\n",
    "    for upstream in activity.upstream():\n",
    "        upstream.output.new_exchange(input=activity_copy, type=upstream[\"type\"], amount=upstream.amount).save()\n",
    "    activity_copy.save()\n",
    "    return activity_copy\n",
    "\n",
    "\n",
    "for alias, activity in tqdm(activities_bw.items()):\n",
    "    clone1 = full_duplicate(activity)\n",
    "    clone1[\"name\"] = clone1[\"name\"] + \"__PRT_1\"\n",
    "    clone1[\"database\"] = SEEDS_DB_NAME\n",
    "    clone1[\"alias\"] = alias + \"__PRT_1\"\n",
    "    clone1.save()\n",
    "\n",
    "    clone2 = full_duplicate(activity)\n",
    "    clone2[\"name\"] = clone2[\"name\"] + \"__PRT_2\"\n",
    "    clone2[\"database\"] = SEEDS_DB_NAME\n",
    "    clone2[\"alias\"] = alias + \"__PRT_2\"\n",
    "    clone2.save()"
   ],
   "metadata": {
    "collapsed": false,
    "ExecuteTime": {
     "end_time": "2023-07-13T10:43:52.296352244Z",
     "start_time": "2023-07-13T10:43:21.136257701Z"
    }
   }
  },
  {
   "cell_type": "code",
   "execution_count": 44,
   "outputs": [
    {
     "data": {
      "text/plain": "['electricity production, hydro, run-of-river__PRT_2' (kilowatt hour, PT, None),\n 'market for electricity, high voltage__PRT_2' (kilowatt hour, ES, None),\n 'market for heat storage, 2000l__PRT_1' (unit, GLO, None),\n 'heat, from municipal waste incineration to generic market for heat district or industrial, other than natural gas__PRT_1' (megajoule, PT, None),\n 'market for biomethane, high pressure__PRT_1' (cubic meter, CH, None),\n 'electricity production, photovoltaic, 3kWp slanted-roof installation, multi-Si, panel, mounted__PRT_1' (kilowatt hour, PT, None),\n 'electricity production, wind, 1-3MW turbine, onshore__PRT_1' (kilowatt hour, PT, None),\n 'electricity production, photovoltaic, 3kWp slanted-roof installation, multi-Si, panel, mounted__PRT_2' (kilowatt hour, PT, None),\n 'heat and power co-generation, wood chips, 6667 kW, state-of-the-art 2014__PRT_1' (kilowatt hour, PT, None),\n 'heat and power co-generation, natural gas, combined cycle power plant, 400MW electrical__PRT_1' (megajoule, PT, None),\n 'heat and power co-generation, natural gas, combined cycle power plant, 400MW electrical__PRT_2' (megajoule, PT, None),\n 'electricity production, photovoltaic, 570kWp open ground installation, multi-Si__PRT_1' (kilowatt hour, PT, None),\n 'heat and power co-generation, natural gas, combined cycle power plant, 400MW electrical__PRT_2' (kilowatt hour, PT, None),\n 'market for battery cell, Li-ion, NCA__PRT_2' (kilogram, GLO, None),\n 'market for biomethane, high pressure__PRT_2' (cubic meter, CH, None),\n 'heat and power co-generation, wood chips, 6667 kW, state-of-the-art 2014__PRT_2' (megajoule, PT, None),\n 'market for heat storage, 2000l__PRT_2' (unit, GLO, None),\n 'market for battery cell, Li-ion, NCA__PRT_1' (kilogram, GLO, None),\n 'market for battery cell, Li-ion, NCA__PRT_2' (kilogram, GLO, None),\n 'electricity, from municipal waste incineration to generic market for electricity, medium voltage__PRT_2' (kilowatt hour, PT, None),\n 'electricity production, natural gas, combined cycle power plant__PRT_1' (kilowatt hour, PT, None),\n 'market for heat storage, 2000l__PRT_1' (unit, GLO, None),\n 'electricity production, wind, 1-3MW turbine, offshore__PRT_2' (kilowatt hour, PT, None),\n 'market for electricity, high voltage__PRT_1' (kilowatt hour, ES, None),\n 'electricity production, hydro, run-of-river__PRT_2' (kilowatt hour, PT, None),\n 'electricity production, photovoltaic, 3kWp slanted-roof installation, multi-Si, panel, mounted__PRT_2' (kilowatt hour, PT, None),\n 'electricity production, hydro, pumped storage__PRT_1' (kilowatt hour, PT, None),\n 'heat, from municipal waste incineration to generic market for heat district or industrial, other than natural gas__PRT_1' (megajoule, PT, None),\n 'market for hot water tank, 600l__PRT_2' (unit, GLO, None),\n 'market for ethanol, without water, in 99.7% solution state, from fermentation, vehicle grade__PRT_2' (kilogram, CH, None),\n 'market for fatty acid methyl ester__PRT_1' (kilogram, RoW, None),\n 'electricity production, wind, 1-3MW turbine, offshore__PRT_1' (kilowatt hour, PT, None),\n 'electricity, from municipal waste incineration to generic market for electricity, medium voltage__PRT_1' (kilowatt hour, PT, None),\n 'heat and power co-generation, natural gas, combined cycle power plant, 400MW electrical__PRT_2' (kilowatt hour, PT, None),\n 'heat and power co-generation, natural gas, combined cycle power plant, 400MW electrical__PRT_2' (megajoule, PT, None),\n 'compressed air energy storage plant construction, 200 MW electrical__PRT_1' (unit, RER, None),\n 'electricity production, hydro, reservoir, non-alpine region__PRT_2' (kilowatt hour, PT, None),\n 'electricity, from municipal waste incineration to generic market for electricity, medium voltage__PRT_2' (kilowatt hour, PT, None),\n 'electricity production, photovoltaic, 570kWp open ground installation, multi-Si__PRT_2' (kilowatt hour, PT, None),\n 'market for ethanol, without water, in 99.7% solution state, from fermentation, vehicle grade__PRT_2' (kilogram, CH, None),\n 'electricity production, wind, 1-3MW turbine, offshore__PRT_1' (kilowatt hour, PT, None),\n 'market for battery cell, Li-ion, NCA__PRT_1' (kilogram, GLO, None),\n 'market for hot water tank, 600l__PRT_2' (unit, GLO, None),\n 'electricity production, natural gas, combined cycle power plant__PRT_1' (kilowatt hour, PT, None),\n 'heat, from municipal waste incineration to generic market for heat district or industrial, other than natural gas__PRT_2' (megajoule, PT, None),\n 'market for biomethane, high pressure__PRT_1' (cubic meter, CH, None),\n 'heat and power co-generation, wood chips, 6667 kW, state-of-the-art 2014__PRT_1' (megajoule, PT, None),\n 'compressed air energy storage plant construction, 200 MW electrical__PRT_2' (unit, RER, None),\n 'compressed air energy storage plant construction, 200 MW electrical__PRT_1' (unit, RER, None),\n 'market for methanol, from biomass__PRT_2' (kilogram, CH, None),\n 'heat and power co-generation, natural gas, combined cycle power plant, 400MW electrical__PRT_1' (kilowatt hour, PT, None),\n 'market for biomethane, high pressure__PRT_2' (cubic meter, CH, None),\n 'electricity production, hydro, pumped storage__PRT_2' (kilowatt hour, PT, None),\n 'electricity, from municipal waste incineration to generic market for electricity, medium voltage__PRT_1' (kilowatt hour, PT, None),\n 'heat and power co-generation, natural gas, combined cycle power plant, 400MW electrical__PRT_2' (megajoule, PT, None),\n 'electricity production, wind, 1-3MW turbine, onshore__PRT_2' (kilowatt hour, PT, None),\n 'heat, from municipal waste incineration to generic market for heat district or industrial, other than natural gas__PRT_2' (megajoule, PT, None),\n 'market for hot water tank, 600l__PRT_1' (unit, GLO, None),\n 'electricity production, hydro, run-of-river__PRT_1' (kilowatt hour, PT, None),\n 'heat and power co-generation, wood chips, 6667 kW, state-of-the-art 2014__PRT_1' (megajoule, PT, None),\n 'market for methanol, from biomass__PRT_2' (kilogram, CH, None),\n 'market for fatty acid methyl ester__PRT_2' (kilogram, RoW, None),\n 'heat and power co-generation, wood chips, 6667 kW, state-of-the-art 2014__PRT_2' (megajoule, PT, None),\n 'electricity production, hydro, pumped storage__PRT_1' (kilowatt hour, PT, None),\n 'electricity production, hydro, run-of-river__PRT_1' (kilowatt hour, PT, None),\n 'market for electricity, high voltage__PRT_1' (kilowatt hour, ES, None),\n 'heat and power co-generation, wood chips, 6667 kW, state-of-the-art 2014__PRT_1' (kilowatt hour, PT, None),\n 'heat and power co-generation, natural gas, combined cycle power plant, 400MW electrical__PRT_1' (megajoule, PT, None),\n 'electricity production, hydro, reservoir, non-alpine region__PRT_1' (kilowatt hour, PT, None),\n 'electricity production, hydro, pumped storage__PRT_2' (kilowatt hour, PT, None),\n 'electricity production, wind, 1-3MW turbine, onshore__PRT_1' (kilowatt hour, PT, None),\n 'heat and power co-generation, wood chips, 6667 kW, state-of-the-art 2014__PRT_1' (megajoule, PT, None),\n 'heat and power co-generation, wood chips, 6667 kW, state-of-the-art 2014__PRT_2' (kilowatt hour, PT, None),\n 'electricity, from municipal waste incineration to generic market for electricity, medium voltage__PRT_1' (kilowatt hour, PT, None),\n 'electricity production, photovoltaic, 570kWp open ground installation, multi-Si__PRT_1' (kilowatt hour, PT, None),\n 'market for ethanol, without water, in 99.7% solution state, from fermentation, vehicle grade__PRT_1' (kilogram, CH, None),\n 'market for ethanol, without water, in 99.7% solution state, from fermentation, vehicle grade__PRT_1' (kilogram, CH, None),\n 'electricity production, natural gas, combined cycle power plant__PRT_2' (kilowatt hour, PT, None),\n 'heat and power co-generation, natural gas, combined cycle power plant, 400MW electrical__PRT_1' (megajoule, PT, None),\n 'electricity production, wind, 1-3MW turbine, onshore__PRT_2' (kilowatt hour, PT, None),\n 'electricity production, natural gas, combined cycle power plant__PRT_2' (kilowatt hour, PT, None),\n 'market for fatty acid methyl ester__PRT_1' (kilogram, RoW, None),\n 'electricity, from municipal waste incineration to generic market for electricity, medium voltage__PRT_2' (kilowatt hour, PT, None),\n 'electricity production, photovoltaic, 570kWp open ground installation, multi-Si__PRT_2' (kilowatt hour, PT, None),\n 'market for methanol, from biomass__PRT_1' (kilogram, CH, None),\n 'electricity production, wind, 1-3MW turbine, onshore__PRT_1' (kilowatt hour, PT, None),\n 'market for hot water tank, 600l__PRT_1' (unit, GLO, None),\n 'electricity production, photovoltaic, 570kWp open ground installation, multi-Si__PRT_1' (kilowatt hour, PT, None),\n 'market for electricity, high voltage__PRT_2' (kilowatt hour, ES, None),\n 'electricity production, wind, 1-3MW turbine, onshore__PRT_2' (kilowatt hour, PT, None),\n 'electricity production, hydro, reservoir, non-alpine region__PRT_1' (kilowatt hour, PT, None),\n 'electricity production, photovoltaic, 570kWp open ground installation, multi-Si__PRT_2' (kilowatt hour, PT, None),\n 'compressed air energy storage plant construction, 200 MW electrical__PRT_2' (unit, RER, None),\n 'electricity production, hydro, reservoir, non-alpine region__PRT_2' (kilowatt hour, PT, None),\n 'heat and power co-generation, wood chips, 6667 kW, state-of-the-art 2014__PRT_2' (kilowatt hour, PT, None),\n 'market for methanol, from biomass__PRT_1' (kilogram, CH, None),\n 'heat and power co-generation, natural gas, combined cycle power plant, 400MW electrical__PRT_1' (kilowatt hour, PT, None),\n 'market for heat storage, 2000l__PRT_2' (unit, GLO, None),\n 'heat and power co-generation, wood chips, 6667 kW, state-of-the-art 2014__PRT_2' (megajoule, PT, None),\n 'electricity production, photovoltaic, 3kWp slanted-roof installation, multi-Si, panel, mounted__PRT_1' (kilowatt hour, PT, None),\n 'market for fatty acid methyl ester__PRT_2' (kilogram, RoW, None),\n 'electricity production, wind, 1-3MW turbine, offshore__PRT_2' (kilowatt hour, PT, None)]"
     },
     "execution_count": 44,
     "metadata": {},
     "output_type": "execute_result"
    }
   ],
   "source": [
    "list(seeds_db)"
   ],
   "metadata": {
    "collapsed": false,
    "ExecuteTime": {
     "end_time": "2023-07-13T10:43:54.684570737Z",
     "start_time": "2023-07-13T10:43:54.453936019Z"
    }
   }
  },
  {
   "cell_type": "code",
   "execution_count": 45,
   "outputs": [],
   "source": [
    "enbios2_activities = {\n",
    "    activity[\"alias\"]: {\n",
    "        \"id\": {\"code\": activity[\"code\"]}\n",
    "    }\n",
    "    for activity in list(seeds_db)\n",
    "}\n",
    "\n"
   ],
   "metadata": {
    "collapsed": false,
    "ExecuteTime": {
     "end_time": "2023-07-13T10:43:56.628026629Z",
     "start_time": "2023-07-13T10:43:56.590639123Z"
    }
   }
  },
  {
   "cell_type": "code",
   "execution_count": 46,
   "outputs": [
    {
     "data": {
      "text/plain": "{'chp_methane_extraction_electricity__PRT_1': {'id': {'code': '7b43162bedf6454e839aa0a2bd71b5a6'}},\n 'chp_biofuel_extraction_heat__PRT_1': {'id': {'code': 'cd694931a2804f72a6ad25585c1f9a2f'}},\n 'hydro_run_of_river_electricity__PRT_2': {'id': {'code': 'c91f23b7a4034c38bc56b1f38a1cd1b5'}},\n 'battery_electricity__PRT_2': {'id': {'code': '4cdda062513a48c09758c3e5622a9b8f'}},\n 'ccgt_electricity__PRT_2': {'id': {'code': 'f7f36accbcba4a63991f4aa3fc1b5c74'}},\n 'waste_supply_electricity__PRT_2': {'id': {'code': '82cfe87113e348d1bdb5bc2ed4d09aef'}},\n 'biofuel_boiler_heat__PRT_2': {'id': {'code': '34293c9ab34c454d97bacb8184ba5ec1'}},\n 'heat_storage_small_heat__PRT_1': {'id': {'code': 'aadb72e8e1cb44e58c9706f9c7459b7f'}},\n 'biofuel_to_methane_methane__PRT_2': {'id': {'code': 'efb899d60c3d48a296d45d86a58b40a9'}},\n 'wind_offshore_electricity__PRT_1': {'id': {'code': '5e8b88350ae0494f95bc71488eba232f'}},\n 'existing_wind_electricity__PRT_2': {'id': {'code': 'cd7ae8afd86d4c638eb281fcc8b71845'}},\n 'chp_methane_extraction_heat__PRT_2': {'id': {'code': '8eaeca2755314fbfafd03071c67152d3'}},\n 'biofuel_to_methanol_methanol__PRT_1': {'id': {'code': 'd0d4c63986404c4f9248354383c26cff'}},\n 'waste_supply_electricity__PRT_1': {'id': {'code': 'be1e0ed89e384123b33afb28a29b9bdf'}},\n 'hydro_run_of_river_electricity__PRT_1': {'id': {'code': '2191f6839c054939ba9f82885752d498'}},\n 'wind_offshore_electricity__PRT_2': {'id': {'code': '257f80a5d1974fb7bd5836ca4954bb72'}},\n 'pumped_hydro_electricity__PRT_1': {'id': {'code': '1e793ccadf9a42c483f8d159bd3b5ca0'}},\n 'pumped_hydro_electricity__PRT_2': {'id': {'code': '26769d04271d4405bed416de23b7618f'}},\n 'heat_storage_small_heat__PRT_2': {'id': {'code': '8f3a901a77984dc3b71c4b3bf694ae60'}},\n 'biofuel_to_diesel_diesel__PRT_1': {'id': {'code': 'ed6e3a7b55264e0280113c69e93a435c'}},\n 'existing_pv_electricity__PRT_1': {'id': {'code': '5c51a5b51adb487ba1322dcaaa2630a8'}},\n 'biofuel_to_diesel_diesel__PRT_2': {'id': {'code': '30c98bc671f34766894a7f9ea2355df0'}},\n 'chp_wte_back_pressure_heat__PRT_2': {'id': {'code': '005e6588e39049638bf09a6c264ddfbc'}},\n 'Methane_storage_methane__PRT_1': {'id': {'code': '31ca935b17084c8e9c03791ab5f17b7d'}},\n 'biofuel_boiler_heat__PRT_1': {'id': {'code': '1b3a5309388f476baa427bc95a8ec65b'}},\n 'open_field_pv_electricity__PRT_2': {'id': {'code': 'dfe1c1f64f974c63ae4040916ad9bff9'}},\n 'el_import_electricity__PRT_2': {'id': {'code': '462c02c22661400d9cf26c5bdb8237fa'}},\n 'biofuel_supply_biofuel__PRT_1': {'id': {'code': '4a7d446343e44126ac1944286a919f04'}},\n 'existing_pv_electricity__PRT_2': {'id': {'code': '40f65bf522294cb59df275fe980e059c'}},\n 'hydro_reservoir_electricity__PRT_2': {'id': {'code': '25489607c6944972a59cc7607e67ddf1'}},\n 'chp_biofuel_extraction_electricity__PRT_1': {'id': {'code': '0bdecb43d2a14fd3b0f87d657789034d'}},\n 'chp_methane_extraction_electricity__PRT_2': {'id': {'code': '54678365eb59459b9c4281e5b153d430'}},\n 'el_import_electricity__PRT_1': {'id': {'code': '3c2ed5d2c0244162983b575476f815b4'}},\n 'chp_wte_back_pressure_electricity__PRT_2': {'id': {'code': '1d42c8d67d334b9c95bcdd2473e4383a'}},\n 'ccgt_electricity__PRT_1': {'id': {'code': '45d69ee4c7dc44eba107fdf9c283cb7e'}},\n 'Heat_storage_big_heat__PRT_1': {'id': {'code': '657440c918bf470687e07f918f5e3e43'}},\n 'chp_methane_extraction_heat__PRT_1': {'id': {'code': '7bd93d77662745e29c958a3f21168a35'}},\n 'chp_wte_back_pressure_heat__PRT_1': {'id': {'code': '8ea1c582828d436d8fd42a7567c38a62'}},\n 'Heat_storage_big_heat__PRT_2': {'id': {'code': 'fc51a1b1c0184073b0ad6034e16ddf28'}},\n 'existing_wind_electricity__PRT_1': {'id': {'code': '56c37d40d0af4b11a40bf13d67b66d59'}},\n 'battery_electricity__PRT_1': {'id': {'code': 'c11d83a576564cc8929bd2f96485327f'}},\n 'roof_mounted_pv_electricity__PRT_1': {'id': {'code': '996e8b7442b1400ebd741c6c75b34b3f'}},\n 'biofuel_to_methane_methane__PRT_1': {'id': {'code': '1974ff642dc74568b501097aa15fb6eb'}},\n 'hydro_reservoir_electricity__PRT_1': {'id': {'code': '3413911ace284046b839bda5b8d6d163'}},\n 'chp_biofuel_extraction_heat__PRT_2': {'id': {'code': '328368b0f04b4c10a025dd1acc96ef52'}},\n 'wind_onshore_electricity__PRT_2': {'id': {'code': '165e2b8e343b408080d3981b5b4097e8'}},\n 'chp_wte_back_pressure_electricity__PRT_1': {'id': {'code': '909574701f3848f88b43d2829fa96d10'}},\n 'biofuel_to_methanol_methanol__PRT_2': {'id': {'code': '68a452094779455b8a59b8daaea82fcf'}},\n 'methane_boiler_heat__PRT_1': {'id': {'code': '58c775d32eff4f2d8c5d1fd051a9b8aa'}},\n 'Methane_storage_methane__PRT_2': {'id': {'code': '0de51bac03494068ab0985fc789fab86'}},\n 'wind_onshore_electricity__PRT_1': {'id': {'code': '39a8206cd8484ce29c9b815ac8d8d976'}},\n 'open_field_pv_electricity__PRT_1': {'id': {'code': '970e0e22f08546faa5692a8efd13a0b9'}},\n 'biofuel_supply_biofuel__PRT_2': {'id': {'code': '1249a94185114b24ac0349f97f14f9b7'}},\n 'roof_mounted_pv_electricity__PRT_2': {'id': {'code': '2618bcd1b45a47798d01a85f330e22b1'}},\n 'chp_biofuel_extraction_electricity__PRT_2': {'id': {'code': '2eaacdd337964bb5b7fa9d2c2a1d347d'}},\n 'methane_boiler_heat__PRT_2': {'id': {'code': '1a2836611e8446ab9c691b347eb69a57'}}}"
     },
     "execution_count": 46,
     "metadata": {},
     "output_type": "execute_result"
    }
   ],
   "source": [
    "enbios2_activities"
   ],
   "metadata": {
    "collapsed": false,
    "ExecuteTime": {
     "end_time": "2023-07-13T10:43:57.305575832Z",
     "start_time": "2023-07-13T10:43:57.290501254Z"
    }
   }
  },
  {
   "cell_type": "code",
   "execution_count": 47,
   "outputs": [],
   "source": [
    "# in case things got messed up:\n",
    "# seeds_db.delete_instance()"
   ],
   "metadata": {
    "collapsed": false,
    "ExecuteTime": {
     "end_time": "2023-07-13T10:43:58.114983243Z",
     "start_time": "2023-07-13T10:43:58.096738565Z"
    }
   }
  },
  {
   "cell_type": "code",
   "execution_count": 48,
   "outputs": [
    {
     "data": {
      "text/plain": "[{'Scenarios': '0_',\n  'year': '2012',\n  'techs': 'battery',\n  'locs': 'PRT_1',\n  'carriers': 'electricity',\n  'unit': 'Twh',\n  'flow_out_sum': '0.000525631'},\n {'Scenarios': '0_',\n  'year': '2012',\n  'techs': 'battery',\n  'locs': 'PRT_2',\n  'carriers': 'electricity',\n  'unit': 'Twh',\n  'flow_out_sum': '0.000575126'},\n {'Scenarios': '0_',\n  'year': '2012',\n  'techs': 'biofuel_boiler',\n  'locs': 'PRT_1',\n  'carriers': 'heat',\n  'unit': 'Twh',\n  'flow_out_sum': '8.9698237'},\n {'Scenarios': '0_',\n  'year': '2012',\n  'techs': 'biofuel_boiler',\n  'locs': 'PRT_2',\n  'carriers': 'heat',\n  'unit': 'Twh',\n  'flow_out_sum': '0.000386907'},\n {'Scenarios': '0_',\n  'year': '2012',\n  'techs': 'biofuel_supply',\n  'locs': 'PRT_1',\n  'carriers': 'biofuel',\n  'unit': 'Twh',\n  'flow_out_sum': '20.39066515'}]"
     },
     "execution_count": 48,
     "metadata": {},
     "output_type": "execute_result"
    }
   ],
   "source": [
    "from csv import DictReader\n",
    "from enbios2.generic.files import ReadDataPath\n",
    "\n",
    "enbios2scenarios = []\n",
    "raw_scenarios = ReadDataPath(base_folder / \"data.csv\")  # .read_data()\n",
    "raw_scenario_data = list(DictReader(raw_scenarios.open(encoding=\"utf-8\"), delimiter=\";\"))\n",
    "raw_scenario_data[:5]"
   ],
   "metadata": {
    "collapsed": false,
    "ExecuteTime": {
     "end_time": "2023-07-13T10:43:59.752668482Z",
     "start_time": "2023-07-13T10:43:59.665029836Z"
    }
   }
  },
  {
   "cell_type": "code",
   "execution_count": 49,
   "outputs": [
    {
     "data": {
      "text/plain": "{'activities': {'battery_electricity__PRT_1': ['Twh', '0.000525631'],\n  'battery_electricity__PRT_2': ['Twh', '0.000575126'],\n  'biofuel_boiler_heat__PRT_1': ['Twh', '8.9698237'],\n  'biofuel_boiler_heat__PRT_2': ['Twh', '0.000386907'],\n  'biofuel_supply_biofuel__PRT_1': ['Twh', '20.39066515'],\n  'biofuel_supply_biofuel__PRT_2': ['Twh', '16.11178774'],\n  'biofuel_to_diesel_diesel__PRT_1': ['Twh', '1.075645078'],\n  'biofuel_to_diesel_diesel__PRT_2': ['Twh', '1.014019571'],\n  'biofuel_to_liquids_diesel__PRT_1': ['Twh', '0.000102565'],\n  'biofuel_to_liquids_electricity__PRT_1': ['Twh', '1.03E-05'],\n  'biofuel_to_liquids_kerosene__PRT_1': ['Twh', '5.06E-05'],\n  'biofuel_to_liquids_diesel__PRT_2': ['Twh', '2.19E-05'],\n  'biofuel_to_liquids_electricity__PRT_2': ['Twh', '2.20E-06'],\n  'biofuel_to_liquids_kerosene__PRT_2': ['Twh', '1.08E-05'],\n  'biofuel_to_methane_methane__PRT_1': ['Twh', '4.349878397'],\n  'biofuel_to_methane_methane__PRT_2': ['Twh', '3.476858228'],\n  'biofuel_to_methanol_methanol__PRT_1': ['Twh', '0.761035396'],\n  'biofuel_to_methanol_methanol__PRT_2': ['Twh', '6.14514345'],\n  'ccgt_electricity__PRT_1': ['Twh', '2.01E-05'],\n  'ccgt_electricity__PRT_2': ['Twh', '1.39E-05'],\n  'chp_biofuel_extraction_electricity__PRT_1': ['Twh', '8.59E-05'],\n  'chp_biofuel_extraction_heat__PRT_1': ['Twh', '0.000144763'],\n  'chp_biofuel_extraction_electricity__PRT_2': ['Twh', '6.97E-05'],\n  'chp_biofuel_extraction_heat__PRT_2': ['Twh', '0.000126529'],\n  'chp_hydrogen_electricity__PRT_1': ['Twh', '9.64E-05'],\n  'chp_hydrogen_heat__PRT_1': ['Twh', '6.10E-05'],\n  'chp_hydrogen_electricity__PRT_2': ['Twh', '8.52E-05'],\n  'chp_hydrogen_heat__PRT_2': ['Twh', '5.26E-05'],\n  'chp_methane_extraction_electricity__PRT_1': ['Twh', '5.89E-05'],\n  'chp_methane_extraction_heat__PRT_1': ['Twh', '1.85E-05'],\n  'chp_methane_extraction_electricity__PRT_2': ['Twh', '4.26E-05'],\n  'chp_methane_extraction_heat__PRT_2': ['Twh', '1.36E-05'],\n  'chp_wte_back_pressure_electricity__PRT_1': ['Twh', '0.223115114'],\n  'chp_wte_back_pressure_heat__PRT_1': ['Twh', '7.08E-06'],\n  'chp_wte_back_pressure_electricity__PRT_2': ['Twh', '0.218359715'],\n  'chp_wte_back_pressure_heat__PRT_2': ['Twh', '7.59E-06'],\n  'dac_co2__PRT_1': ['100kt', '25.09582129'],\n  'dac_co2__PRT_2': ['100kt', '35.24593212'],\n  'electric_heater_heat__PRT_1': ['Twh', '0.000686921'],\n  'electric_heater_heat__PRT_2': ['Twh', '0.001124756'],\n  'electric_hob_cooking__PRT_1': ['Twh', '2.397216007'],\n  'electric_hob_cooking__PRT_2': ['Twh', '2.615739383'],\n  'electrolysis_hydrogen__PRT_1': ['Twh', '0.003217242'],\n  'electrolysis_hydrogen__PRT_2': ['Twh', '29.25327653'],\n  'gas_hob_cooking__PRT_1': ['Twh', '8.71E-06'],\n  'gas_hob_cooking__PRT_2': ['Twh', '5.00E-06'],\n  'heat_storage_big_heat__PRT_1': ['Twh', '0.005351418'],\n  'heat_storage_big_heat__PRT_2': ['Twh', '0.00572828'],\n  'heat_storage_small_heat__PRT_1': ['Twh', '0.090027061'],\n  'heat_storage_small_heat__PRT_2': ['Twh', '0.087053315'],\n  'heavy_transport_ev_transport__PRT_1': ['billion_km', '0.912724575'],\n  'heavy_transport_ev_transport__PRT_2': ['billion_km', '1.131717689'],\n  'heavy_transport_ice_transport__PRT_1': ['billion_km', '6.94E-06'],\n  'heavy_transport_ice_transport__PRT_2': ['billion_km', '4.29E-06'],\n  'hp_heat__PRT_1': ['Twh', '0.013724082'],\n  'hp_heat__PRT_2': ['Twh', '10.65871706'],\n  'hydro_reservoir_electricity__PRT_1': ['Twh', '2.157392848'],\n  'hydro_reservoir_electricity__PRT_2': ['Twh', '0.393940793'],\n  'hydro_run_of_river_electricity__PRT_1': ['Twh', '2.519490706'],\n  'hydro_run_of_river_electricity__PRT_2': ['Twh', '0.37677621'],\n  'hydrogen_storage_hydrogen__PRT_1': ['Twh', '4.08E-05'],\n  'hydrogen_storage_hydrogen__PRT_2': ['Twh', '4.08E-05'],\n  'hydrogen_to_liquids_diesel__PRT_1': ['Twh', '3.583733913'],\n  'hydrogen_to_liquids_kerosene__PRT_1': ['Twh', '5.37560087'],\n  'hydrogen_to_liquids_diesel__PRT_2': ['Twh', '4.634198922'],\n  'hydrogen_to_liquids_kerosene__PRT_2': ['Twh', '6.951298383'],\n  'hydrogen_to_methane_methane__PRT_1': ['Twh', '9.90E-05'],\n  'hydrogen_to_methane_methane__PRT_2': ['Twh', '1.424853932'],\n  'hydrogen_to_methanol_methanol__PRT_1': ['Twh', '3.46E-05'],\n  'hydrogen_to_methanol_methanol__PRT_2': ['Twh', '6.34E-05'],\n  'light_transport_ev_transport__PRT_1': ['billion_km', '33.991099'],\n  'light_transport_ev_transport__PRT_2': ['billion_km', '36.03957407'],\n  'light_transport_ice_transport__PRT_1': ['billion_km', '5.43E-05'],\n  'light_transport_ice_transport__PRT_2': ['billion_km', '3.48E-05'],\n  'methane_boiler_heat__PRT_1': ['Twh', '0.000218417'],\n  'methane_boiler_heat__PRT_2': ['Twh', '0.000129578'],\n  'methane_storage_methane__PRT_1': ['Twh', '5.785354288'],\n  'methane_storage_methane__PRT_2': ['Twh', '5.861592258'],\n  'pumped_hydro_electricity__PRT_1': ['Twh', '7.851489989'],\n  'pumped_hydro_electricity__PRT_2': ['Twh', '1.308997113'],\n  'waste_supply_waste__PRT_1': ['Twh', '1.028180248'],\n  'waste_supply_waste__PRT_2': ['Twh', '1.00626597']}}"
     },
     "execution_count": 49,
     "metadata": {},
     "output_type": "execute_result"
    }
   ],
   "source": [
    "current_scenario_index = 0\n",
    "current_scenario = {}\n",
    "for row in raw_scenario_data:\n",
    "    scenario_index = int(row[\"Scenarios\"][:-1])\n",
    "    assert current_scenario_index <= scenario_index <= current_scenario_index + 1\n",
    "    if scenario_index == current_scenario_index + 1:\n",
    "        current_scenario_index = scenario_index\n",
    "        enbios2scenarios.append({\"activities\": current_scenario.copy()})\n",
    "        current_scenario = {}\n",
    "    alias = f'{row[\"techs\"]}_{row[\"carriers\"]}__{row[\"locs\"]}'\n",
    "    current_scenario[alias] = [row[\"unit\"], row[\"flow_out_sum\"]]\n",
    "\n",
    "enbios2scenarios[0]"
   ],
   "metadata": {
    "collapsed": false,
    "ExecuteTime": {
     "end_time": "2023-07-13T10:44:01.377331662Z",
     "start_time": "2023-07-13T10:44:01.326760287Z"
    }
   }
  },
  {
   "cell_type": "code",
   "execution_count": 50,
   "outputs": [
    {
     "data": {
      "text/plain": "{'ozone depletion potential (ODPinfinite)': ('ReCiPe 2016 v1.03, midpoint (H)',\n  'ozone depletion',\n  'ozone depletion potential (ODPinfinite)'),\n 'agricultural land occupation (LOP)': ('ReCiPe 2016 v1.03, midpoint (H)',\n  'land use',\n  'agricultural land occupation (LOP)'),\n 'surplus ore potential (SOP)': ('ReCiPe 2016 v1.03, midpoint (H)',\n  'material resources: metals/minerals',\n  'surplus ore potential (SOP)'),\n 'global warming potential (GWP1000)': ('ReCiPe 2016 v1.03, midpoint (H)',\n  'climate change',\n  'global warming potential (GWP1000)')}"
     },
     "execution_count": 50,
     "metadata": {},
     "output_type": "execute_result"
    }
   ],
   "source": [
    "from ast import literal_eval\n",
    "\n",
    "methods = workbook[\"ScalarIndicators\"]\n",
    "\n",
    "enbios2_methods = {}\n",
    "\n",
    "for row in methods.iter_rows(min_row=2):\n",
    "    if row[5].value:\n",
    "        method_tuple = literal_eval(row[5].value)\n",
    "        enbios2_methods[method_tuple[2]] = method_tuple\n",
    "\n",
    "enbios2_methods"
   ],
   "metadata": {
    "collapsed": false,
    "ExecuteTime": {
     "end_time": "2023-07-13T10:44:04.101029037Z",
     "start_time": "2023-07-13T10:44:04.054222554Z"
    }
   }
  },
  {
   "cell_type": "code",
   "execution_count": 51,
   "outputs": [],
   "source": [
    "enbios2_data = {\n",
    "    \"bw_project\": \"ecoinvent\",\n",
    "    \"activities\": enbios2_activities,\n",
    "    \"methods\": enbios2_methods,\n",
    "    \"scenarios\": enbios2scenarios[:1]\n",
    "}"
   ],
   "metadata": {
    "collapsed": false,
    "ExecuteTime": {
     "end_time": "2023-07-13T10:44:06.134666377Z",
     "start_time": "2023-07-13T10:44:06.130664462Z"
    }
   }
  },
  {
   "cell_type": "code",
   "execution_count": 57,
   "outputs": [
    {
     "name": "stdout",
     "output_type": "stream",
     "text": [
      "2023-07-13 12:46:51,301 - enbios2.base.experiment - DEBUG - activity dict\n",
      "2023-07-13 12:46:53,003 - enbios2.base.experiment - ERROR - Cannot parse output unit 'Twh'- of activity ExtendedExperimentActivityData(id=ExperimentActivityId(database=None, code='c11d83a576564cc8929bd2f96485327f', name='market for battery cell, Li-ion, NCA__PRT_1', location='GLO', unit='kilogram', alias='battery_electricity__PRT_1'), output=None, orig_id=ExperimentActivityId(database=None, code='c11d83a576564cc8929bd2f96485327f', name=None, location=None, unit=None, alias=None), bw_activity='market for battery cell, Li-ion, NCA__PRT_1' (kilogram, GLO, None), scenario_outputs=None). Cannot convert from 'terawatt_hour' ([length] ** 2 * [mass] / [time] ** 2) to 'kilogram' ([mass]). Consider the unit definition to 'enbios2/base/unit_registry.py'\n"
     ]
    },
    {
     "ename": "Exception",
     "evalue": "Unit error, Cannot convert from 'terawatt_hour' ([length] ** 2 * [mass] / [time] ** 2) to 'kilogram' ([mass]); For activity: ExperimentActivityId(database=None, code='c11d83a576564cc8929bd2f96485327f', name='market for battery cell, Li-ion, NCA__PRT_1', location='GLO', unit='kilogram', alias='battery_electricity__PRT_1')",
     "output_type": "error",
     "traceback": [
      "\u001B[0;31m---------------------------------------------------------------------------\u001B[0m",
      "\u001B[0;31mDimensionalityError\u001B[0m                       Traceback (most recent call last)",
      "File \u001B[0;32m~/projects/enbios2/enbios2/base/experiment.py:290\u001B[0m, in \u001B[0;36mExperiment.validate_output\u001B[0;34m(target_output, activity)\u001B[0m\n\u001B[1;32m    288\u001B[0m     target_quantity \u001B[38;5;241m=\u001B[39m ureg\u001B[38;5;241m.\u001B[39mparse_expression(\n\u001B[1;32m    289\u001B[0m         target_output\u001B[38;5;241m.\u001B[39munit, case_sensitive\u001B[38;5;241m=\u001B[39m\u001B[38;5;28;01mFalse\u001B[39;00m) \u001B[38;5;241m*\u001B[39m target_output\u001B[38;5;241m.\u001B[39mmagnitude\n\u001B[0;32m--> 290\u001B[0m     \u001B[38;5;28;01mreturn\u001B[39;00m \u001B[43mtarget_quantity\u001B[49m\u001B[38;5;241;43m.\u001B[39;49m\u001B[43mto\u001B[49m\u001B[43m(\u001B[49m\u001B[43mactivity\u001B[49m\u001B[38;5;241;43m.\u001B[39;49m\u001B[43mbw_activity\u001B[49m\u001B[43m[\u001B[49m\u001B[38;5;124;43m'\u001B[39;49m\u001B[38;5;124;43munit\u001B[39;49m\u001B[38;5;124;43m'\u001B[39;49m\u001B[43m]\u001B[49m\u001B[43m)\u001B[49m\u001B[38;5;241m.\u001B[39mmagnitude\n\u001B[1;32m    291\u001B[0m \u001B[38;5;28;01mexcept\u001B[39;00m \u001B[38;5;167;01mException\u001B[39;00m \u001B[38;5;28;01mas\u001B[39;00m err:\n",
      "File \u001B[0;32m~/projects/enbios2/venv/lib/python3.11/site-packages/pint/facets/plain/quantity.py:517\u001B[0m, in \u001B[0;36mPlainQuantity.to\u001B[0;34m(self, other, *contexts, **ctx_kwargs)\u001B[0m\n\u001B[1;32m    515\u001B[0m other \u001B[38;5;241m=\u001B[39m to_units_container(other, \u001B[38;5;28mself\u001B[39m\u001B[38;5;241m.\u001B[39m_REGISTRY)\n\u001B[0;32m--> 517\u001B[0m magnitude \u001B[38;5;241m=\u001B[39m \u001B[38;5;28;43mself\u001B[39;49m\u001B[38;5;241;43m.\u001B[39;49m\u001B[43m_convert_magnitude_not_inplace\u001B[49m\u001B[43m(\u001B[49m\u001B[43mother\u001B[49m\u001B[43m,\u001B[49m\u001B[43m \u001B[49m\u001B[38;5;241;43m*\u001B[39;49m\u001B[43mcontexts\u001B[49m\u001B[43m,\u001B[49m\u001B[43m \u001B[49m\u001B[38;5;241;43m*\u001B[39;49m\u001B[38;5;241;43m*\u001B[39;49m\u001B[43mctx_kwargs\u001B[49m\u001B[43m)\u001B[49m\n\u001B[1;32m    519\u001B[0m \u001B[38;5;28;01mreturn\u001B[39;00m \u001B[38;5;28mself\u001B[39m\u001B[38;5;241m.\u001B[39m\u001B[38;5;18m__class__\u001B[39m(magnitude, other)\n",
      "File \u001B[0;32m~/projects/enbios2/venv/lib/python3.11/site-packages/pint/facets/plain/quantity.py:462\u001B[0m, in \u001B[0;36mPlainQuantity._convert_magnitude_not_inplace\u001B[0;34m(self, other, *contexts, **ctx_kwargs)\u001B[0m\n\u001B[1;32m    460\u001B[0m         \u001B[38;5;28;01mreturn\u001B[39;00m \u001B[38;5;28mself\u001B[39m\u001B[38;5;241m.\u001B[39m_REGISTRY\u001B[38;5;241m.\u001B[39mconvert(\u001B[38;5;28mself\u001B[39m\u001B[38;5;241m.\u001B[39m_magnitude, \u001B[38;5;28mself\u001B[39m\u001B[38;5;241m.\u001B[39m_units, other)\n\u001B[0;32m--> 462\u001B[0m \u001B[38;5;28;01mreturn\u001B[39;00m \u001B[38;5;28;43mself\u001B[39;49m\u001B[38;5;241;43m.\u001B[39;49m\u001B[43m_REGISTRY\u001B[49m\u001B[38;5;241;43m.\u001B[39;49m\u001B[43mconvert\u001B[49m\u001B[43m(\u001B[49m\u001B[38;5;28;43mself\u001B[39;49m\u001B[38;5;241;43m.\u001B[39;49m\u001B[43m_magnitude\u001B[49m\u001B[43m,\u001B[49m\u001B[43m \u001B[49m\u001B[38;5;28;43mself\u001B[39;49m\u001B[38;5;241;43m.\u001B[39;49m\u001B[43m_units\u001B[49m\u001B[43m,\u001B[49m\u001B[43m \u001B[49m\u001B[43mother\u001B[49m\u001B[43m)\u001B[49m\n",
      "File \u001B[0;32m~/projects/enbios2/venv/lib/python3.11/site-packages/pint/facets/plain/registry.py:961\u001B[0m, in \u001B[0;36mGenericPlainRegistry.convert\u001B[0;34m(self, value, src, dst, inplace)\u001B[0m\n\u001B[1;32m    959\u001B[0m     \u001B[38;5;28;01mreturn\u001B[39;00m value\n\u001B[0;32m--> 961\u001B[0m \u001B[38;5;28;01mreturn\u001B[39;00m \u001B[38;5;28;43mself\u001B[39;49m\u001B[38;5;241;43m.\u001B[39;49m\u001B[43m_convert\u001B[49m\u001B[43m(\u001B[49m\u001B[43mvalue\u001B[49m\u001B[43m,\u001B[49m\u001B[43m \u001B[49m\u001B[43msrc\u001B[49m\u001B[43m,\u001B[49m\u001B[43m \u001B[49m\u001B[43mdst\u001B[49m\u001B[43m,\u001B[49m\u001B[43m \u001B[49m\u001B[43minplace\u001B[49m\u001B[43m)\u001B[49m\n",
      "File \u001B[0;32m~/projects/enbios2/venv/lib/python3.11/site-packages/pint/facets/context/registry.py:403\u001B[0m, in \u001B[0;36mGenericContextRegistry._convert\u001B[0;34m(self, value, src, dst, inplace)\u001B[0m\n\u001B[1;32m    401\u001B[0m         value, src \u001B[38;5;241m=\u001B[39m src\u001B[38;5;241m.\u001B[39m_magnitude, src\u001B[38;5;241m.\u001B[39m_units\n\u001B[0;32m--> 403\u001B[0m \u001B[38;5;28;01mreturn\u001B[39;00m \u001B[38;5;28;43msuper\u001B[39;49m\u001B[43m(\u001B[49m\u001B[43m)\u001B[49m\u001B[38;5;241;43m.\u001B[39;49m\u001B[43m_convert\u001B[49m\u001B[43m(\u001B[49m\u001B[43mvalue\u001B[49m\u001B[43m,\u001B[49m\u001B[43m \u001B[49m\u001B[43msrc\u001B[49m\u001B[43m,\u001B[49m\u001B[43m \u001B[49m\u001B[43mdst\u001B[49m\u001B[43m,\u001B[49m\u001B[43m \u001B[49m\u001B[43minplace\u001B[49m\u001B[43m)\u001B[49m\n",
      "File \u001B[0;32m~/projects/enbios2/venv/lib/python3.11/site-packages/pint/facets/nonmultiplicative/registry.py:254\u001B[0m, in \u001B[0;36mGenericNonMultiplicativeRegistry._convert\u001B[0;34m(self, value, src, dst, inplace)\u001B[0m\n\u001B[1;32m    253\u001B[0m \u001B[38;5;28;01mif\u001B[39;00m \u001B[38;5;129;01mnot\u001B[39;00m (src_offset_unit \u001B[38;5;129;01mor\u001B[39;00m dst_offset_unit):\n\u001B[0;32m--> 254\u001B[0m     \u001B[38;5;28;01mreturn\u001B[39;00m \u001B[38;5;28;43msuper\u001B[39;49m\u001B[43m(\u001B[49m\u001B[43m)\u001B[49m\u001B[38;5;241;43m.\u001B[39;49m\u001B[43m_convert\u001B[49m\u001B[43m(\u001B[49m\u001B[43mvalue\u001B[49m\u001B[43m,\u001B[49m\u001B[43m \u001B[49m\u001B[43msrc\u001B[49m\u001B[43m,\u001B[49m\u001B[43m \u001B[49m\u001B[43mdst\u001B[49m\u001B[43m,\u001B[49m\u001B[43m \u001B[49m\u001B[43minplace\u001B[49m\u001B[43m)\u001B[49m\n\u001B[1;32m    256\u001B[0m src_dim \u001B[38;5;241m=\u001B[39m \u001B[38;5;28mself\u001B[39m\u001B[38;5;241m.\u001B[39m_get_dimensionality(src)\n",
      "File \u001B[0;32m~/projects/enbios2/venv/lib/python3.11/site-packages/pint/facets/plain/registry.py:1000\u001B[0m, in \u001B[0;36mGenericPlainRegistry._convert\u001B[0;34m(self, value, src, dst, inplace, check_dimensionality)\u001B[0m\n\u001B[1;32m    999\u001B[0m     \u001B[38;5;28;01mif\u001B[39;00m src_dim \u001B[38;5;241m!=\u001B[39m dst_dim:\n\u001B[0;32m-> 1000\u001B[0m         \u001B[38;5;28;01mraise\u001B[39;00m DimensionalityError(src, dst, src_dim, dst_dim)\n\u001B[1;32m   1002\u001B[0m \u001B[38;5;66;03m# Here src and dst have only multiplicative units left. Thus we can\u001B[39;00m\n\u001B[1;32m   1003\u001B[0m \u001B[38;5;66;03m# convert with a factor.\u001B[39;00m\n",
      "\u001B[0;31mDimensionalityError\u001B[0m: Cannot convert from 'terawatt_hour' ([length] ** 2 * [mass] / [time] ** 2) to 'kilogram' ([mass])",
      "\nDuring handling of the above exception, another exception occurred:\n",
      "\u001B[0;31mException\u001B[0m                                 Traceback (most recent call last)",
      "Cell \u001B[0;32mIn[57], line 5\u001B[0m\n\u001B[1;32m      2\u001B[0m \u001B[38;5;28;01mfrom\u001B[39;00m \u001B[38;5;21;01menbios2\u001B[39;00m\u001B[38;5;21;01m.\u001B[39;00m\u001B[38;5;21;01mmodels\u001B[39;00m\u001B[38;5;21;01m.\u001B[39;00m\u001B[38;5;21;01mexperiment_models\u001B[39;00m \u001B[38;5;28;01mimport\u001B[39;00m ExperimentData\n\u001B[1;32m      4\u001B[0m exp_data \u001B[38;5;241m=\u001B[39m ExperimentData(\u001B[38;5;241m*\u001B[39m\u001B[38;5;241m*\u001B[39menbios2_data)\n\u001B[0;32m----> 5\u001B[0m exp \u001B[38;5;241m=\u001B[39m \u001B[43mExperiment\u001B[49m\u001B[43m(\u001B[49m\u001B[43mexp_data\u001B[49m\u001B[43m)\u001B[49m\n",
      "File \u001B[0;32m~/projects/enbios2/enbios2/base/experiment.py:194\u001B[0m, in \u001B[0;36mExperiment.__init__\u001B[0;34m(self, raw_data)\u001B[0m\n\u001B[1;32m    191\u001B[0m \u001B[38;5;28mself\u001B[39m\u001B[38;5;241m.\u001B[39mtechnology_root_node: BasicTreeNode[ScenarioResultNodeData] \u001B[38;5;241m=\u001B[39m \u001B[38;5;28mself\u001B[39m\u001B[38;5;241m.\u001B[39mcreate_technology_tree()\n\u001B[1;32m    193\u001B[0m \u001B[38;5;28mself\u001B[39m\u001B[38;5;241m.\u001B[39mmethods: \u001B[38;5;28mdict\u001B[39m[\u001B[38;5;28mstr\u001B[39m, ExperimentMethodData] \u001B[38;5;241m=\u001B[39m Experiment\u001B[38;5;241m.\u001B[39mvalidate_methods(\u001B[38;5;28mself\u001B[39m\u001B[38;5;241m.\u001B[39mprepare_methods())\n\u001B[0;32m--> 194\u001B[0m \u001B[38;5;28mself\u001B[39m\u001B[38;5;241m.\u001B[39mscenarios: \u001B[38;5;28mlist\u001B[39m[Scenario] \u001B[38;5;241m=\u001B[39m \u001B[38;5;28;43mself\u001B[39;49m\u001B[38;5;241;43m.\u001B[39;49m\u001B[43mvalidate_scenarios\u001B[49m\u001B[43m(\u001B[49m\u001B[43m)\u001B[49m\n",
      "File \u001B[0;32m~/projects/enbios2/enbios2/base/experiment.py:402\u001B[0m, in \u001B[0;36mExperiment.validate_scenarios\u001B[0;34m(self)\u001B[0m\n\u001B[1;32m    400\u001B[0m         \u001B[38;5;28;01mif\u001B[39;00m \u001B[38;5;129;01mnot\u001B[39;00m _scenario\u001B[38;5;241m.\u001B[39malias:\n\u001B[1;32m    401\u001B[0m             _scenario\u001B[38;5;241m.\u001B[39malias \u001B[38;5;241m=\u001B[39m ExperimentScenarioData\u001B[38;5;241m.\u001B[39malias_factory(index)\n\u001B[0;32m--> 402\u001B[0m         scenarios\u001B[38;5;241m.\u001B[39mappend(\u001B[43mvalidate_scenario\u001B[49m\u001B[43m(\u001B[49m\u001B[43m_scenario\u001B[49m\u001B[43m)\u001B[49m)\n\u001B[1;32m    403\u001B[0m \u001B[38;5;28;01melif\u001B[39;00m \u001B[38;5;28misinstance\u001B[39m(\u001B[38;5;28mself\u001B[39m\u001B[38;5;241m.\u001B[39mraw_data\u001B[38;5;241m.\u001B[39mscenarios, \u001B[38;5;28mdict\u001B[39m):\n\u001B[1;32m    404\u001B[0m     raw_scenarios: \u001B[38;5;28mdict\u001B[39m[\u001B[38;5;28mstr\u001B[39m, ExperimentScenarioData] \u001B[38;5;241m=\u001B[39m \u001B[38;5;28mself\u001B[39m\u001B[38;5;241m.\u001B[39mraw_data\u001B[38;5;241m.\u001B[39mscenarios\n",
      "File \u001B[0;32m~/projects/enbios2/enbios2/base/experiment.py:373\u001B[0m, in \u001B[0;36mExperiment.validate_scenarios.<locals>.validate_scenario\u001B[0;34m(scenario)\u001B[0m\n\u001B[1;32m    367\u001B[0m \u001B[38;5;28;01mdef\u001B[39;00m \u001B[38;5;21mvalidate_scenario\u001B[39m(scenario: ExperimentScenarioData) \u001B[38;5;241m-\u001B[39m\u001B[38;5;241m>\u001B[39m Scenario:\n\u001B[1;32m    368\u001B[0m \u001B[38;5;250m    \u001B[39m\u001B[38;5;124;03m\"\"\"\u001B[39;00m\n\u001B[1;32m    369\u001B[0m \u001B[38;5;124;03m    Validate one scenario\u001B[39;00m\n\u001B[1;32m    370\u001B[0m \u001B[38;5;124;03m    :param scenario:\u001B[39;00m\n\u001B[1;32m    371\u001B[0m \u001B[38;5;124;03m    :return:\u001B[39;00m\n\u001B[1;32m    372\u001B[0m \u001B[38;5;124;03m    \"\"\"\u001B[39;00m\n\u001B[0;32m--> 373\u001B[0m     scenario_activities_outputs: Activity_Outputs \u001B[38;5;241m=\u001B[39m \u001B[43mvalidate_activities\u001B[49m\u001B[43m(\u001B[49m\u001B[43mscenario\u001B[49m\u001B[43m)\u001B[49m\n\u001B[1;32m    374\u001B[0m     \u001B[38;5;66;03m# fill up the missing activities with default values\u001B[39;00m\n\u001B[1;32m    375\u001B[0m     \u001B[38;5;28;01mfor\u001B[39;00m activity \u001B[38;5;129;01min\u001B[39;00m \u001B[38;5;28mself\u001B[39m\u001B[38;5;241m.\u001B[39mactivitiesMap\u001B[38;5;241m.\u001B[39mvalues():\n",
      "File \u001B[0;32m~/projects/enbios2/enbios2/base/experiment.py:363\u001B[0m, in \u001B[0;36mExperiment.validate_scenarios.<locals>.validate_activities\u001B[0;34m(scenario)\u001B[0m\n\u001B[1;32m    361\u001B[0m     \u001B[38;5;28;01mfor\u001B[39;00m activity_alias, activity_output \u001B[38;5;129;01min\u001B[39;00m activities\u001B[38;5;241m.\u001B[39mitems():\n\u001B[1;32m    362\u001B[0m         activity \u001B[38;5;241m=\u001B[39m \u001B[38;5;28mself\u001B[39m\u001B[38;5;241m.\u001B[39mget_activity(activity_alias)\n\u001B[0;32m--> 363\u001B[0m         output: \u001B[38;5;28mfloat\u001B[39m \u001B[38;5;241m=\u001B[39m \u001B[43mExperiment\u001B[49m\u001B[38;5;241;43m.\u001B[39;49m\u001B[43mvalidate_output\u001B[49m\u001B[43m(\u001B[49m\u001B[43mactivity_output\u001B[49m\u001B[43m,\u001B[49m\u001B[43m \u001B[49m\u001B[43mactivity\u001B[49m\u001B[43m)\u001B[49m\n\u001B[1;32m    364\u001B[0m         activity_outputs[activity\u001B[38;5;241m.\u001B[39malias] \u001B[38;5;241m=\u001B[39m output\n\u001B[1;32m    365\u001B[0m \u001B[38;5;28;01mreturn\u001B[39;00m activity_outputs\n",
      "File \u001B[0;32m~/projects/enbios2/enbios2/base/experiment.py:295\u001B[0m, in \u001B[0;36mExperiment.validate_output\u001B[0;34m(target_output, activity)\u001B[0m\n\u001B[1;32m    291\u001B[0m \u001B[38;5;28;01mexcept\u001B[39;00m \u001B[38;5;167;01mException\u001B[39;00m \u001B[38;5;28;01mas\u001B[39;00m err:\n\u001B[1;32m    292\u001B[0m     logger\u001B[38;5;241m.\u001B[39merror(\n\u001B[1;32m    293\u001B[0m         \u001B[38;5;124mf\u001B[39m\u001B[38;5;124m\"\u001B[39m\u001B[38;5;124mCannot parse output unit \u001B[39m\u001B[38;5;124m'\u001B[39m\u001B[38;5;132;01m{\u001B[39;00mtarget_output\u001B[38;5;241m.\u001B[39munit\u001B[38;5;132;01m}\u001B[39;00m\u001B[38;5;124m'\u001B[39m\u001B[38;5;124m- of activity \u001B[39m\u001B[38;5;132;01m{\u001B[39;00mactivity\u001B[38;5;132;01m}\u001B[39;00m\u001B[38;5;124m. \u001B[39m\u001B[38;5;132;01m{\u001B[39;00merr\u001B[38;5;132;01m}\u001B[39;00m\u001B[38;5;124m. \u001B[39m\u001B[38;5;124m\"\u001B[39m\n\u001B[1;32m    294\u001B[0m         \u001B[38;5;124mf\u001B[39m\u001B[38;5;124m\"\u001B[39m\u001B[38;5;124mConsider the unit definition to \u001B[39m\u001B[38;5;124m'\u001B[39m\u001B[38;5;124menbios2/base/unit_registry.py\u001B[39m\u001B[38;5;124m'\u001B[39m\u001B[38;5;124m\"\u001B[39m)\n\u001B[0;32m--> 295\u001B[0m     \u001B[38;5;28;01mraise\u001B[39;00m \u001B[38;5;167;01mException\u001B[39;00m(\u001B[38;5;124mf\u001B[39m\u001B[38;5;124m\"\u001B[39m\u001B[38;5;124mUnit error, \u001B[39m\u001B[38;5;132;01m{\u001B[39;00merr\u001B[38;5;132;01m}\u001B[39;00m\u001B[38;5;124m; For activity: \u001B[39m\u001B[38;5;132;01m{\u001B[39;00mactivity\u001B[38;5;241m.\u001B[39mid\u001B[38;5;132;01m}\u001B[39;00m\u001B[38;5;124m\"\u001B[39m)\n",
      "\u001B[0;31mException\u001B[0m: Unit error, Cannot convert from 'terawatt_hour' ([length] ** 2 * [mass] / [time] ** 2) to 'kilogram' ([mass]); For activity: ExperimentActivityId(database=None, code='c11d83a576564cc8929bd2f96485327f', name='market for battery cell, Li-ion, NCA__PRT_1', location='GLO', unit='kilogram', alias='battery_electricity__PRT_1')"
     ]
    }
   ],
   "source": [
    "from enbios2.base.experiment import Experiment\n",
    "from enbios2.models.experiment_models import ExperimentData\n",
    "\n",
    "exp_data = ExperimentData(**enbios2_data)\n",
    "exp = Experiment(exp_data)"
   ],
   "metadata": {
    "collapsed": false,
    "ExecuteTime": {
     "end_time": "2023-07-13T10:46:53.233652092Z",
     "start_time": "2023-07-13T10:46:51.281859086Z"
    }
   }
  },
  {
   "cell_type": "code",
   "execution_count": null,
   "outputs": [],
   "source": [
    "from pathlib import Path\n",
    "\n",
    "Path(\"results\").mkdir(exist_ok=True)\n",
    "\n",
    "for scenario in exp.scenarios:\n",
    "    print(scenario.alias)\n",
    "    result_tree = scenario.run()\n",
    "    scenario.results_to_csv(Path(f\"results/{scenario.alias}.csv\"), True)"
   ],
   "metadata": {
    "collapsed": false
   }
  }
 ],
 "metadata": {
  "kernelspec": {
   "display_name": "Python 3",
   "language": "python",
   "name": "python3"
  },
  "language_info": {
   "codemirror_mode": {
    "name": "ipython",
    "version": 2
   },
   "file_extension": ".py",
   "mimetype": "text/x-python",
   "name": "python",
   "nbconvert_exporter": "python",
   "pygments_lexer": "ipython2",
   "version": "2.7.6"
  }
 },
 "nbformat": 4,
 "nbformat_minor": 0
}
