{
 "cells": [
  {
   "cell_type": "code",
   "execution_count": 1,
   "metadata": {
    "collapsed": true,
    "ExecuteTime": {
     "end_time": "2023-07-06T11:27:31.906595601Z",
     "start_time": "2023-07-06T11:27:30.480345727Z"
    }
   },
   "outputs": [],
   "source": [
    "import bw2data"
   ]
  },
  {
   "cell_type": "code",
   "execution_count": 8,
   "outputs": [],
   "source": [
    "from enbios2.generic.files import DataPath\n",
    "\n",
    "base_folder = DataPath(\"temp/alex_enb2\")"
   ],
   "metadata": {
    "collapsed": false,
    "ExecuteTime": {
     "end_time": "2023-07-06T11:29:53.127354146Z",
     "start_time": "2023-07-06T11:29:53.086575678Z"
    }
   }
  },
  {
   "cell_type": "code",
   "execution_count": 73,
   "outputs": [],
   "source": [],
   "metadata": {
    "collapsed": false,
    "ExecuteTime": {
     "end_time": "2023-07-06T11:47:18.484803343Z",
     "start_time": "2023-07-06T11:47:18.440855148Z"
    }
   }
  },
  {
   "cell_type": "code",
   "execution_count": 69,
   "outputs": [],
   "source": [
    "import openpyxl\n",
    "\n",
    "excel_file = base_folder / \"base_file_simplified.xlsx\"\n",
    "workbook = openpyxl.load_workbook(excel_file)\n",
    "processors = workbook[\"BareProcessors simulation\"]"
   ],
   "metadata": {
    "collapsed": false,
    "ExecuteTime": {
     "end_time": "2023-07-06T11:46:08.367601218Z",
     "start_time": "2023-07-06T11:46:07.867306697Z"
    }
   }
  },
  {
   "cell_type": "code",
   "execution_count": 70,
   "outputs": [
    {
     "data": {
      "text/plain": "([('wind_onshore', '530d547cc3b41e6c1ffcdd8ec7b6086b'),\n  ('wind_offshore', 'f60ae7433a185071c8c1ea48df57ddee'),\n  ('hydro_run_of_river', 'ee22a241360095cd55e1eb1b2c62c2b8'),\n  ('hydro_reservoir', '646364e0589592b04856bb49250b855a'),\n  ('ccgt', 'b92c013747a941dd4eff9ef94ddd6d9b'),\n  ('chp_biofuel_extraction', '46821ba9ba1cbc9c4140befc5b5a38df'),\n  ('open_field_pv', '32caeee931f794e1df3c8a16a2b3e3d7'),\n  ('chp_hydrogen', 'CHP_hydrogen_2050'),\n  ('existing_wind', '530d547cc3b41e6c1ffcdd8ec7b6086b'),\n  ('existing_pv', '32caeee931f794e1df3c8a16a2b3e3d7'),\n  ('roof_mounted_pv', 'c7d52ffde73e9b1f4f1c45d68d8ba2a6'),\n  ('chp_wte_back_pressure', 'eb4763f42fdea68db83d49135539bcf8'),\n  ('chp_methane_extraction', '79aa2a5fabdbf29b9aa415602f4a9a59'),\n  ('waste_supply', 'eb4763f42fdea68db83d49135539bcf8')],\n ['530d547cc3b41e6c1ffcdd8ec7b6086b',\n  'f60ae7433a185071c8c1ea48df57ddee',\n  'ee22a241360095cd55e1eb1b2c62c2b8',\n  '646364e0589592b04856bb49250b855a',\n  'b92c013747a941dd4eff9ef94ddd6d9b',\n  '46821ba9ba1cbc9c4140befc5b5a38df',\n  '32caeee931f794e1df3c8a16a2b3e3d7',\n  'CHP_hydrogen_2050',\n  '530d547cc3b41e6c1ffcdd8ec7b6086b',\n  '32caeee931f794e1df3c8a16a2b3e3d7',\n  'c7d52ffde73e9b1f4f1c45d68d8ba2a6',\n  'eb4763f42fdea68db83d49135539bcf8',\n  '79aa2a5fabdbf29b9aa415602f4a9a59',\n  'eb4763f42fdea68db83d49135539bcf8'])"
     },
     "execution_count": 70,
     "metadata": {},
     "output_type": "execute_result"
    }
   ],
   "source": [
    "processors_filenames = []\n",
    "for row in processors.iter_rows(min_row=2):\n",
    "    if row[1].value:\n",
    "        processors_filenames.append((row[1].value, row[8].value))\n",
    "filenames = [x[1] for x in processors_filenames]\n",
    "\n",
    "processors_filenames, filenames"
   ],
   "metadata": {
    "collapsed": false,
    "ExecuteTime": {
     "end_time": "2023-07-06T11:46:09.717722642Z",
     "start_time": "2023-07-06T11:46:09.710535471Z"
    }
   }
  },
  {
   "cell_type": "code",
   "execution_count": 76,
   "outputs": [
    {
     "data": {
      "text/plain": "['biosphere3',\n 'apos_3.9.1_default',\n 'consequential_3.9.1_default',\n 'cutoff_3.9.1_default',\n 'cutoff_3.9_default']"
     },
     "execution_count": 76,
     "metadata": {},
     "output_type": "execute_result"
    }
   ],
   "source": [
    "bw2data.projects.set_current(\"ecoinvent\")\n",
    "list(bw2data.databases)"
   ],
   "metadata": {
    "collapsed": false,
    "ExecuteTime": {
     "end_time": "2023-07-06T11:49:13.932762360Z",
     "start_time": "2023-07-06T11:49:13.889204381Z"
    }
   }
  },
  {
   "cell_type": "code",
   "execution_count": 74,
   "outputs": [],
   "source": [
    "# read all values in column I\n",
    "db = bw2data.Database(\"apos_3.9.1_default\")\n",
    "activities = []\n",
    "for activity in db:\n",
    "    fn = activity[\"filename\"].replace(\".spold\",\"\")\n",
    "    # print(activity, fn)\n",
    "    try:\n",
    "        index = filenames.index(fn)\n",
    "        print(processors_filenames[index])\n",
    "        activities.append(activity, *processors_filenames[index])\n",
    "    except ValueError:\n",
    "        pass"
   ],
   "metadata": {
    "collapsed": false,
    "ExecuteTime": {
     "end_time": "2023-07-06T11:47:41.436932151Z",
     "start_time": "2023-07-06T11:47:40.023741570Z"
    }
   }
  },
  {
   "cell_type": "code",
   "execution_count": 75,
   "outputs": [
    {
     "data": {
      "text/plain": "[]"
     },
     "execution_count": 75,
     "metadata": {},
     "output_type": "execute_result"
    }
   ],
   "source": [
    "activities"
   ],
   "metadata": {
    "collapsed": false,
    "ExecuteTime": {
     "end_time": "2023-07-06T11:47:41.444970290Z",
     "start_time": "2023-07-06T11:47:41.439923070Z"
    }
   }
  },
  {
   "cell_type": "code",
   "execution_count": null,
   "outputs": [],
   "source": [],
   "metadata": {
    "collapsed": false
   }
  }
 ],
 "metadata": {
  "kernelspec": {
   "display_name": "Python 3",
   "language": "python",
   "name": "python3"
  },
  "language_info": {
   "codemirror_mode": {
    "name": "ipython",
    "version": 2
   },
   "file_extension": ".py",
   "mimetype": "text/x-python",
   "name": "python",
   "nbconvert_exporter": "python",
   "pygments_lexer": "ipython2",
   "version": "2.7.6"
  }
 },
 "nbformat": 4,
 "nbformat_minor": 0
}
