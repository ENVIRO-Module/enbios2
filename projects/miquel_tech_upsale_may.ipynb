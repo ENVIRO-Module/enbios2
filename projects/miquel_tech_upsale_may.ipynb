{
 "cells": [
  {
   "cell_type": "code",
   "execution_count": 33,
   "metadata": {
    "collapsed": true,
    "ExecuteTime": {
     "start_time": "2023-05-20T02:17:10.387300Z",
     "end_time": "2023-05-20T02:17:10.443487Z"
    }
   },
   "outputs": [
    {
     "data": {
      "text/plain": "(True, True)"
     },
     "execution_count": 33,
     "metadata": {},
     "output_type": "execute_result"
    }
   ],
   "source": [
    "import csv\n",
    "\n",
    "from enbios2.const import BASE_DATA_PATH\n",
    "\n",
    "base_path = BASE_DATA_PATH / \"temp/miquel_upscaling\"\n",
    "\n",
    "# this is the sheet: \"dendrogram-technology dict\"\n",
    "base_denodo_gram_file = base_path / \"dendrogram_generation_base.csv\"\n",
    "# this is the PNIEC dendrogram sheet\n",
    "dendogram_file = base_path / \"dendrogram_generation_dendo.csv\"\n",
    "base_denodo_gram_file.exists(), dendogram_file.exists()"
   ]
  },
  {
   "cell_type": "code",
   "execution_count": 34,
   "outputs": [
    {
     "name": "stdout",
     "output_type": "stream",
     "text": [
      "['Dendrogram name', 'tech name']\n",
      "['Child', 'Parent', 'Dendrogram level']\n"
     ]
    }
   ],
   "source": [
    "dendo_base_reader = csv.DictReader(base_denodo_gram_file.open(encoding=\"utf-8\"))\n",
    "print(dendo_base_reader.fieldnames)\n",
    "all_base_rows = list(dendo_base_reader)\n",
    "\n",
    "dendo_reader = csv.DictReader(dendogram_file.open(encoding=\"utf-8\"))\n",
    "print(dendo_reader.fieldnames)\n",
    "dendo_rows = list(dendo_reader)"
   ],
   "metadata": {
    "collapsed": false,
    "ExecuteTime": {
     "start_time": "2023-05-20T02:17:11.134783Z",
     "end_time": "2023-05-20T02:17:11.166432Z"
    }
   }
  },
  {
   "cell_type": "code",
   "execution_count": 35,
   "outputs": [],
   "source": [
    "# ok. lets match tech-name : Dendrogram name to \"Child\" (in dendo_rows)\n",
    "base_dendo_names = set(row['Dendrogram name'] for row in all_base_rows)\n",
    "base_dendo_names_in_dendo = set(\n",
    "    row['Child'] for row in dendo_rows if row[\"Child\"])  # the if will filter out the empty ones"
   ],
   "metadata": {
    "collapsed": false,
    "ExecuteTime": {
     "start_time": "2023-05-20T02:17:11.806691Z",
     "end_time": "2023-05-20T02:17:11.878561Z"
    }
   }
  },
  {
   "cell_type": "code",
   "execution_count": 36,
   "outputs": [
    {
     "data": {
      "text/plain": "set()"
     },
     "execution_count": 36,
     "metadata": {},
     "output_type": "execute_result"
    }
   ],
   "source": [
    "# ok, that good. all names \"Dendrogram name\" appear somewhere as Child (of something)\n",
    "base_dendo_names - base_dendo_names_in_dendo"
   ],
   "metadata": {
    "collapsed": false,
    "ExecuteTime": {
     "start_time": "2023-05-20T02:17:12.599131Z",
     "end_time": "2023-05-20T02:17:12.628989Z"
    }
   }
  },
  {
   "cell_type": "code",
   "execution_count": 37,
   "outputs": [
    {
     "name": "stdout",
     "output_type": "stream",
     "text": [
      "The autoreload extension is already loaded. To reload it, use:\n",
      "  %reload_ext autoreload\n"
     ]
    }
   ],
   "source": [
    "%load_ext autoreload\n",
    "%autoreload 2"
   ],
   "metadata": {
    "collapsed": false,
    "ExecuteTime": {
     "start_time": "2023-05-20T02:17:13.271602Z",
     "end_time": "2023-05-20T02:17:13.296974Z"
    }
   }
  },
  {
   "cell_type": "code",
   "execution_count": 38,
   "outputs": [],
   "source": [
    "from enbios2.experiment.sum_hierarchy import HierarchyNode\n",
    "\n",
    "# ok lets build the hierarchy, or tree. dendogram is actually the last name I would give it :). Because that is the name of the plot\n",
    "# we dont care about the \"Dendrogram level\" column, but just look at the Child - Parent relationship\n",
    "\n",
    "base_tree: HierarchyNode = None\n",
    "all_nodes: list[HierarchyNode] = []\n",
    "\n",
    "for row in dendo_rows:\n",
    "    if not row[\"Child\"]:\n",
    "        continue\n",
    "    if not row[\"Parent\"]:\n",
    "        base_tree = HierarchyNode(row[\"Child\"])\n",
    "        all_nodes.append(base_tree)\n",
    "    else:\n",
    "        node = HierarchyNode(row[\"Child\"].strip())\n",
    "        parent_ = list(filter(lambda node: node.name == row[\"Parent\"], all_nodes))\n",
    "        if not parent_:\n",
    "            print(row, \"does not connect\")\n",
    "            print(all_nodes)\n",
    "            continue\n",
    "        parent = parent_[0]\n",
    "        parent.add_child(node)\n",
    "        all_nodes.append(node)"
   ],
   "metadata": {
    "collapsed": false,
    "ExecuteTime": {
     "start_time": "2023-05-20T02:17:14.173313Z",
     "end_time": "2023-05-20T02:17:14.274424Z"
    }
   }
  },
  {
   "cell_type": "code",
   "execution_count": 39,
   "outputs": [
    {
     "data": {
      "text/plain": "{'electricity production': {'children': {'renewables': {'children': {'hydro': {'children': {},\n      'value': None},\n     'wind': {'children': {'onshore': {'children': {'<1MW': {'children': {},\n          'value': None},\n         '1-3MW': {'children': {}, 'value': None},\n         '>3MW': {'children': {}, 'value': None}},\n        'value': None},\n       'offshore': {'children': {}, 'value': None}},\n      'value': None},\n     'photovoltaics': {'children': {'rooftop': {'children': {'monocrystalline': {'children': {},\n          'value': None},\n         'polycrystalline': {'children': {}, 'value': None}},\n        'value': None},\n       'openground': {'children': {}, 'value': None}},\n      'value': None},\n     'other renewables': {'children': {'biogas': {'children': {},\n        'value': None},\n       'biomass': {'children': {}, 'value': None},\n       'solar thermoelectric': {'children': {}, 'value': None},\n       'geothermal': {'children': {}, 'value': None}},\n      'value': None}},\n    'value': None},\n   'non-renewables': {'children': {'coal': {'children': {'coal <300MW': {'children': {},\n        'value': None},\n       'coal >300MW': {'children': {}, 'value': None},\n       'lignite': {'children': {}, 'value': None}},\n      'value': None},\n     'nuclear': {'children': {'nuclear pwr': {'children': {}, 'value': None},\n       'nuclear bwr': {'children': {}, 'value': None}},\n      'value': None},\n     'cogeneration': {'children': {'chp gas': {'children': {}, 'value': None},\n       'chp coal': {'children': {'chp coal <300MW': {'children': {},\n          'value': None},\n         'chp coal >300MW': {'children': {}, 'value': None}},\n        'value': None},\n       'chp oil': {'children': {}, 'value': None},\n       'chp renewables': {'children': {}, 'value': None}},\n      'value': None},\n     'combined cycle': {'children': {}, 'value': None},\n     'oil': {'children': {}, 'value': None}},\n    'value': None}},\n  'value': None}}"
     },
     "execution_count": 39,
     "metadata": {},
     "output_type": "execute_result"
    }
   ],
   "source": [
    "# ok, so far so good.\n",
    "base_tree.assert_all_names_unique()\n",
    "base_tree.as_dict()"
   ],
   "metadata": {
    "collapsed": false,
    "ExecuteTime": {
     "start_time": "2023-05-20T02:17:15.122030Z",
     "end_time": "2023-05-20T02:17:15.155662Z"
    }
   }
  },
  {
   "cell_type": "code",
   "execution_count": 40,
   "outputs": [
    {
     "data": {
      "text/plain": "<IPython.core.display.Markdown object>",
      "text/markdown": "ok this was just a test if the basic tree can be build. now lets build a mega tree.\nthe root is called \"impacts\", which has 18 children, one for each indicator and each indicator has 2 children: onsite and offsite.\neach of these 2 subtrees has some subtree of the kind we build before\n"
     },
     "metadata": {},
     "output_type": "display_data"
    }
   ],
   "source": [
    "%%markdown\n",
    "ok this was just a test if the basic tree can be build. now lets build a mega tree.\n",
    "the root is called \"impacts\", which has 18 children, one for each indicator and each indicator has 2 children: onsite and offsite.\n",
    "each of these 2 subtrees has some subtree of the kind we build before"
   ],
   "metadata": {
    "collapsed": false,
    "ExecuteTime": {
     "start_time": "2023-05-20T02:17:15.956373Z",
     "end_time": "2023-05-20T02:17:16.066689Z"
    }
   }
  },
  {
   "cell_type": "code",
   "execution_count": 41,
   "outputs": [],
   "source": [
    "# however, the generator table include technology names, which are actually not in the tree, but the mapping that \"dendrogram_generation_base.csv\" is giving.\n",
    "# so lets find all those \"Dendrogram name\" nodes and change their names to what the \"tech name\" column has...\n",
    "for row in all_base_rows:\n",
    "    #print(row)\n",
    "    node = base_tree.find_child_by_name(row['Dendrogram name'])\n",
    "    assert node\n",
    "    node.name = row[\"tech name\"]"
   ],
   "metadata": {
    "collapsed": false,
    "ExecuteTime": {
     "start_time": "2023-05-20T02:17:17.804163Z",
     "end_time": "2023-05-20T02:17:17.829781Z"
    }
   }
  },
  {
   "cell_type": "code",
   "execution_count": 42,
   "outputs": [
    {
     "data": {
      "text/plain": "(set(), set())"
     },
     "execution_count": 42,
     "metadata": {},
     "output_type": "execute_result"
    }
   ],
   "source": [
    "generation_file = base_path / \"PNIEC_generation.csv\"\n",
    "assert generation_file.exists()\n",
    "generation_rows = list(csv.DictReader(generation_file.open(encoding=\"utf-8\")))\n",
    "\n",
    "# first lets check if \"Technologies\" match the \"tech name\"\n",
    "base_tech_names = set(r[\"tech name\"] for r in all_base_rows)\n",
    "technologies = set(r[\"Technologies\"] for r in generation_rows)\n",
    "\n",
    "# el seems to be a good split token in the Technologies column\n",
    "real_tech_names = set()\n",
    "\n",
    "# lets at the same time build a map from Technologies -> tech name\n",
    "technology2tree_tech_map: dict[str,str] = {}\n",
    "\n",
    "for technology in technologies:\n",
    "    assert \"el\" in technology\n",
    "    parts = technology.split(\"_\")\n",
    "    el_index = parts.index(\"el\")\n",
    "    real_tech_name = \"_\".join(parts[:el_index])\n",
    "    #print(real_tech_name)\n",
    "    real_tech_names.add(real_tech_name)\n",
    "    if real_tech_name in base_tech_names:\n",
    "        technology2tree_tech_map[technology] = real_tech_name\n"
   ],
   "metadata": {
    "collapsed": false,
    "ExecuteTime": {
     "start_time": "2023-05-20T02:17:19.964257Z",
     "end_time": "2023-05-20T02:17:20.079584Z"
    }
   }
  },
  {
   "cell_type": "code",
   "execution_count": 43,
   "outputs": [
    {
     "data": {
      "text/plain": "['terrestrial acidification potential (TAP)',\n 'global warming potential (GWP1000)',\n 'freshwater ecotoxicity potential (FETP)',\n 'marine ecotoxicity potential (METP)',\n 'terrestrial ecotoxicity potential (TETP)',\n 'fossil fuel potential (FFP)',\n 'freshwater eutrophication potential (FEP)',\n 'marine eutrophication potential (MEP)',\n 'human toxicity potential (HTPc)',\n 'human toxicity potential (HTPnc)',\n 'ionising radiation potential (IRP)',\n 'agricultural land occupation (LOP)',\n 'surplus ore potential (SOP)',\n 'ozone depletion potential (ODPinfinite)',\n 'particulate matter formation potential (PMFP)',\n 'photochemical oxidant formation potential: humans (HOFP)',\n 'photochemical oxidant formation potential: ecosystems (EOFP)',\n 'water consumption potential (WCP)']"
     },
     "execution_count": 43,
     "metadata": {},
     "output_type": "execute_result"
    }
   ],
   "source": [
    "# ok lets build the 3 top layers with one iteration over the generation list collecting all the indicators\n",
    "first_tech: str = None\n",
    "indicators: list[str] = []\n",
    "\n",
    "for row in generation_rows:\n",
    "    if not first_tech:\n",
    "        first_tech = row[\"Technologies\"]\n",
    "    if row[\"Technologies\"] != first_tech:\n",
    "        break\n",
    "    indicators.append(row[\"Indicators\"])\n",
    "indicators"
   ],
   "metadata": {
    "collapsed": false,
    "ExecuteTime": {
     "start_time": "2023-05-20T02:17:56.495942Z",
     "end_time": "2023-05-20T02:17:56.559942Z"
    }
   }
  },
  {
   "cell_type": "code",
   "execution_count": 44,
   "outputs": [
    {
     "data": {
      "text/plain": "{'impacts': {'children': {'terrestrial acidification potential (TAP)': {'children': {'Onsite': {'children': {},\n      'value': None},\n     'Offsite': {'children': {}, 'value': None}},\n    'value': None},\n   'global warming potential (GWP1000)': {'children': {'Onsite': {'children': {},\n      'value': None},\n     'Offsite': {'children': {}, 'value': None}},\n    'value': None},\n   'freshwater ecotoxicity potential (FETP)': {'children': {'Onsite': {'children': {},\n      'value': None},\n     'Offsite': {'children': {}, 'value': None}},\n    'value': None},\n   'marine ecotoxicity potential (METP)': {'children': {'Onsite': {'children': {},\n      'value': None},\n     'Offsite': {'children': {}, 'value': None}},\n    'value': None},\n   'terrestrial ecotoxicity potential (TETP)': {'children': {'Onsite': {'children': {},\n      'value': None},\n     'Offsite': {'children': {}, 'value': None}},\n    'value': None},\n   'fossil fuel potential (FFP)': {'children': {'Onsite': {'children': {},\n      'value': None},\n     'Offsite': {'children': {}, 'value': None}},\n    'value': None},\n   'freshwater eutrophication potential (FEP)': {'children': {'Onsite': {'children': {},\n      'value': None},\n     'Offsite': {'children': {}, 'value': None}},\n    'value': None},\n   'marine eutrophication potential (MEP)': {'children': {'Onsite': {'children': {},\n      'value': None},\n     'Offsite': {'children': {}, 'value': None}},\n    'value': None},\n   'human toxicity potential (HTPc)': {'children': {'Onsite': {'children': {},\n      'value': None},\n     'Offsite': {'children': {}, 'value': None}},\n    'value': None},\n   'human toxicity potential (HTPnc)': {'children': {'Onsite': {'children': {},\n      'value': None},\n     'Offsite': {'children': {}, 'value': None}},\n    'value': None},\n   'ionising radiation potential (IRP)': {'children': {'Onsite': {'children': {},\n      'value': None},\n     'Offsite': {'children': {}, 'value': None}},\n    'value': None},\n   'agricultural land occupation (LOP)': {'children': {'Onsite': {'children': {},\n      'value': None},\n     'Offsite': {'children': {}, 'value': None}},\n    'value': None},\n   'surplus ore potential (SOP)': {'children': {'Onsite': {'children': {},\n      'value': None},\n     'Offsite': {'children': {}, 'value': None}},\n    'value': None},\n   'ozone depletion potential (ODPinfinite)': {'children': {'Onsite': {'children': {},\n      'value': None},\n     'Offsite': {'children': {}, 'value': None}},\n    'value': None},\n   'particulate matter formation potential (PMFP)': {'children': {'Onsite': {'children': {},\n      'value': None},\n     'Offsite': {'children': {}, 'value': None}},\n    'value': None},\n   'photochemical oxidant formation potential: humans (HOFP)': {'children': {'Onsite': {'children': {},\n      'value': None},\n     'Offsite': {'children': {}, 'value': None}},\n    'value': None},\n   'photochemical oxidant formation potential: ecosystems (EOFP)': {'children': {'Onsite': {'children': {},\n      'value': None},\n     'Offsite': {'children': {}, 'value': None}},\n    'value': None},\n   'water consumption potential (WCP)': {'children': {'Onsite': {'children': {},\n      'value': None},\n     'Offsite': {'children': {}, 'value': None}},\n    'value': None}},\n  'value': None}}"
     },
     "execution_count": 44,
     "metadata": {},
     "output_type": "execute_result"
    }
   ],
   "source": [
    "root = HierarchyNode(\"impacts\")\n",
    "indicator_subtrees = [] #  create this list to find it easier later\n",
    "for indicator in indicators:\n",
    "    indicator_subtree = HierarchyNode(indicator, [\n",
    "        HierarchyNode(\"Onsite\"), HierarchyNode(\"Offsite\")\n",
    "    ])\n",
    "    root.add_child(indicator_subtree)\n",
    "    indicator_subtrees.append(indicator_subtree)\n",
    "\n",
    "root.as_dict()"
   ],
   "metadata": {
    "collapsed": false,
    "ExecuteTime": {
     "start_time": "2023-05-20T02:17:59.060119Z",
     "end_time": "2023-05-20T02:17:59.140750Z"
    }
   }
  },
  {
   "cell_type": "code",
   "execution_count": 45,
   "outputs": [],
   "source": [
    "from copy import deepcopy\n",
    "\n",
    "# each of the lowest nodes (onsite, offsite) now get their own copy of the main tree we created above\n",
    "for indicator_sub_tree in indicator_subtrees:\n",
    "    onsite, offsite = indicator_sub_tree.children\n",
    "    onsite.join_tree(deepcopy(base_tree))\n",
    "    offsite.join_tree(deepcopy(base_tree))"
   ],
   "metadata": {
    "collapsed": false,
    "ExecuteTime": {
     "start_time": "2023-05-20T02:17:59.990533Z",
     "end_time": "2023-05-20T02:18:00.097266Z"
    }
   }
  },
  {
   "cell_type": "code",
   "execution_count": 46,
   "outputs": [],
   "source": [
    "# lets do some introspection..."
   ],
   "metadata": {
    "collapsed": false,
    "ExecuteTime": {
     "start_time": "2023-05-20T02:18:00.884766Z",
     "end_time": "2023-05-20T02:18:00.940680Z"
    }
   }
  },
  {
   "cell_type": "code",
   "execution_count": 47,
   "outputs": [
    {
     "data": {
      "text/plain": "[impacts - 18 children ]"
     },
     "execution_count": 47,
     "metadata": {},
     "output_type": "execute_result"
    }
   ],
   "source": [
    "root # root has 18 children. all the indicator"
   ],
   "metadata": {
    "collapsed": false,
    "ExecuteTime": {
     "start_time": "2023-05-20T02:18:01.319145Z",
     "end_time": "2023-05-20T02:18:01.346529Z"
    }
   }
  },
  {
   "cell_type": "code",
   "execution_count": 48,
   "outputs": [
    {
     "data": {
      "text/plain": "([terrestrial acidification potential (TAP) - 2 children (impacts)],\n [[Onsite - 2 children (terrestrial acidification potential (TAP))],\n  [Offsite - 2 children (terrestrial acidification potential (TAP))]])"
     },
     "execution_count": 48,
     "metadata": {},
     "output_type": "execute_result"
    }
   ],
   "source": [
    "#  first indicator, has 2 children, onsite, offsite\n",
    "root.children[0], [kid for kid in root.children[0].children]"
   ],
   "metadata": {
    "collapsed": false,
    "ExecuteTime": {
     "start_time": "2023-05-20T02:18:01.766353Z",
     "end_time": "2023-05-20T02:18:01.834306Z"
    }
   }
  },
  {
   "cell_type": "code",
   "execution_count": 49,
   "outputs": [
    {
     "data": {
      "text/plain": "([Onsite - 2 children (terrestrial acidification potential (TAP))],\n ['renewables', 'non-renewables'])"
     },
     "execution_count": 49,
     "metadata": {},
     "output_type": "execute_result"
    }
   ],
   "source": [
    "# going one step down, we see renewable and non-renewables, the base of our base tree\n",
    "root.children[0].children[0], [kid.name for kid in root.children[0].children[0].children]"
   ],
   "metadata": {
    "collapsed": false,
    "ExecuteTime": {
     "start_time": "2023-05-20T02:18:04.166719Z",
     "end_time": "2023-05-20T02:18:04.238248Z"
    }
   }
  },
  {
   "cell_type": "code",
   "execution_count": 51,
   "outputs": [],
   "source": [
    "# now we fill up all indicator sub-trees going row by row. finding the respective technology node for onsite and offsite and filling in the value\n",
    "# we will use the technology2tree_tech_map, we created before to find the technology node in the tree\n",
    "one_print = False\n",
    "for index, row in enumerate(generation_rows):\n",
    "    indicator_subtree: HierarchyNode = next(filter(lambda ind: row[\"Indicators\"] == ind.name, indicator_subtrees))\n",
    "\n",
    "    # use get, and check if it exits, in order to prevent\n",
    "    tree_tech_name = technology2tree_tech_map.get(row[\"Technologies\"], None)\n",
    "    if not tree_tech_name:\n",
    "        # print(row[\"Technologies\"], \"will be ignored\")\n",
    "        continue\n",
    "\n",
    "    # the children are called Onsite and Offsite, exactly like the 2 columns with values\n",
    "    for child in indicator_subtree.children:\n",
    "        tech_node = child.find_child_by_name(tree_tech_name)\n",
    "        if not tech_node:\n",
    "            print(\"error\", child.name, index, row[\"Technologies\"], tree_tech_name)\n",
    "            break\n",
    "        tech_node.value = float(row[child.name]) #  child.name is either Onsite or Offsite...\n",
    "\n",
    "    # assert tech_node"
   ],
   "metadata": {
    "collapsed": false,
    "ExecuteTime": {
     "start_time": "2023-05-20T02:18:32.153165Z",
     "end_time": "2023-05-20T02:18:32.268304Z"
    }
   }
  },
  {
   "cell_type": "code",
   "execution_count": 52,
   "outputs": [],
   "source": [
    "import json\n",
    "\n",
    "json.dump(root.as_dict(), (base_path / \"complete.json\").open(\"w\", encoding=\"utf-8\"), indent=2)"
   ],
   "metadata": {
    "collapsed": false,
    "ExecuteTime": {
     "start_time": "2023-05-20T02:18:33.195046Z",
     "end_time": "2023-05-20T02:18:33.277912Z"
    }
   }
  },
  {
   "cell_type": "code",
   "execution_count": 53,
   "outputs": [
    {
     "data": {
      "text/plain": "382691932571.3334"
     },
     "execution_count": 53,
     "metadata": {},
     "output_type": "execute_result"
    }
   ],
   "source": [
    "root.calc()"
   ],
   "metadata": {
    "collapsed": false,
    "ExecuteTime": {
     "start_time": "2023-05-20T02:18:34.012969Z",
     "end_time": "2023-05-20T02:18:34.073058Z"
    }
   }
  },
  {
   "cell_type": "code",
   "execution_count": 54,
   "outputs": [],
   "source": [
    "json.dump(root.as_dict(), (base_path / \"complete.json\").open(\"w\", encoding=\"utf-8\"), indent=2)"
   ],
   "metadata": {
    "collapsed": false,
    "ExecuteTime": {
     "start_time": "2023-05-20T02:18:47.840306Z",
     "end_time": "2023-05-20T02:18:47.912961Z"
    }
   }
  },
  {
   "cell_type": "code",
   "execution_count": null,
   "outputs": [],
   "source": [],
   "metadata": {
    "collapsed": false
   }
  }
 ],
 "metadata": {
  "kernelspec": {
   "display_name": "Python 3",
   "language": "python",
   "name": "python3"
  },
  "language_info": {
   "codemirror_mode": {
    "name": "ipython",
    "version": 2
   },
   "file_extension": ".py",
   "mimetype": "text/x-python",
   "name": "python",
   "nbconvert_exporter": "python",
   "pygments_lexer": "ipython2",
   "version": "2.7.6"
  }
 },
 "nbformat": 4,
 "nbformat_minor": 0
}
