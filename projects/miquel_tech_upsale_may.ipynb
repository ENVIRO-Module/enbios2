{
 "cells": [
  {
   "cell_type": "code",
   "execution_count": 1,
   "metadata": {
    "collapsed": true,
    "ExecuteTime": {
     "start_time": "2023-05-20T18:30:58.965734Z",
     "end_time": "2023-05-20T18:30:58.985292Z"
    }
   },
   "outputs": [
    {
     "data": {
      "text/plain": "(True, True)"
     },
     "execution_count": 1,
     "metadata": {},
     "output_type": "execute_result"
    }
   ],
   "source": [
    "import csv\n",
    "\n",
    "from enbios2.const import BASE_DATA_PATH\n",
    "\n",
    "base_path = BASE_DATA_PATH / \"temp/miquel_upscaling\"\n",
    "\n",
    "# this is the sheet: \"dendrogram-technology dict\"\n",
    "base_denodo_gram_file = base_path / \"dendrogram_generation_base.csv\"\n",
    "# this is the PNIEC dendrogram sheet\n",
    "dendogram_file = base_path / \"dendrogram_generation_dendo.csv\"\n",
    "base_denodo_gram_file.exists(), dendogram_file.exists()"
   ]
  },
  {
   "cell_type": "code",
   "execution_count": 2,
   "outputs": [
    {
     "name": "stdout",
     "output_type": "stream",
     "text": [
      "['Dendrogram name', 'tech name']\n",
      "['Child', 'Parent', 'Dendrogram level']\n"
     ]
    }
   ],
   "source": [
    "dendo_base_reader = csv.DictReader(base_denodo_gram_file.open(encoding=\"utf-8\"))\n",
    "print(dendo_base_reader.fieldnames)\n",
    "all_base_rows = list(dendo_base_reader)\n",
    "\n",
    "dendo_reader = csv.DictReader(dendogram_file.open(encoding=\"utf-8\"))\n",
    "print(dendo_reader.fieldnames)\n",
    "dendo_rows = list(dendo_reader)"
   ],
   "metadata": {
    "collapsed": false,
    "ExecuteTime": {
     "start_time": "2023-05-20T18:31:01.459574Z",
     "end_time": "2023-05-20T18:31:01.475426Z"
    }
   }
  },
  {
   "cell_type": "code",
   "execution_count": 3,
   "outputs": [],
   "source": [
    "# ok. lets match tech-name : Dendrogram name to \"Child\" (in dendo_rows)\n",
    "base_dendo_names = set(row['Dendrogram name'] for row in all_base_rows)\n",
    "base_dendo_names_in_dendo = set(\n",
    "    row['Child'] for row in dendo_rows if row[\"Child\"])  # the if will filter out the empty ones"
   ],
   "metadata": {
    "collapsed": false,
    "ExecuteTime": {
     "start_time": "2023-05-20T18:31:01.870219Z",
     "end_time": "2023-05-20T18:31:01.876089Z"
    }
   }
  },
  {
   "cell_type": "code",
   "execution_count": 4,
   "outputs": [
    {
     "data": {
      "text/plain": "set()"
     },
     "execution_count": 4,
     "metadata": {},
     "output_type": "execute_result"
    }
   ],
   "source": [
    "# ok, that good. all names \"Dendrogram name\" appear somewhere as Child (of something)\n",
    "base_dendo_names - base_dendo_names_in_dendo"
   ],
   "metadata": {
    "collapsed": false,
    "ExecuteTime": {
     "start_time": "2023-05-20T18:31:02.267349Z",
     "end_time": "2023-05-20T18:31:02.279852Z"
    }
   }
  },
  {
   "cell_type": "code",
   "execution_count": 5,
   "outputs": [],
   "source": [
    "%load_ext autoreload\n",
    "%autoreload 2"
   ],
   "metadata": {
    "collapsed": false,
    "ExecuteTime": {
     "start_time": "2023-05-20T18:31:02.721199Z",
     "end_time": "2023-05-20T18:31:02.755521Z"
    }
   }
  },
  {
   "cell_type": "code",
   "execution_count": 23,
   "outputs": [
    {
     "name": "stdout",
     "output_type": "stream",
     "text": [
      "True\n"
     ]
    }
   ],
   "source": [
    "from enbios2.experiment.sum_hierarchy import HierarchyNode\n",
    "\n",
    "# ok lets build the hierarchy, or tree. dendogram is actually the last name I would give it :). Because that is the name of the plot\n",
    "# we dont care about the \"Dendrogram level\" column, but just look at the Child - Parent relationship\n",
    "\n",
    "base_tree: HierarchyNode = None\n",
    "all_nodes: list[HierarchyNode] = []\n",
    "\n",
    "for row in dendo_rows:\n",
    "    if not row[\"Child\"]:\n",
    "        continue\n",
    "    if not row[\"Parent\"]:\n",
    "        base_tree = HierarchyNode(row[\"Child\"])\n",
    "        all_nodes.append(base_tree)\n",
    "    else:\n",
    "        node = HierarchyNode(row[\"Child\"].strip())\n",
    "        parent_ = list(filter(lambda node: node.name == row[\"Parent\"], all_nodes))\n",
    "        if not parent_:\n",
    "            print(row, \"does not connect\")\n",
    "            print(all_nodes)\n",
    "            continue\n",
    "        parent = parent_[0]\n",
    "        parent.add_child(node)\n",
    "        all_nodes.append(node)"
   ],
   "metadata": {
    "collapsed": false,
    "ExecuteTime": {
     "start_time": "2023-05-20T23:14:48.289324Z",
     "end_time": "2023-05-20T23:14:48.364679Z"
    }
   }
  },
  {
   "cell_type": "code",
   "execution_count": 24,
   "outputs": [
    {
     "data": {
      "text/plain": "{'electricity production': {'name': 'electricity production',\n  'children': {'renewables': {'name': 'renewables',\n    'children': {'hydro': {'name': 'hydro', 'children': {}, 'value': None},\n     'wind': {'name': 'wind',\n      'children': {'onshore': {'name': 'onshore',\n        'children': {'<1MW': {'name': '<1MW', 'children': {}, 'value': None},\n         '1-3MW': {'name': '1-3MW', 'children': {}, 'value': None},\n         '>3MW': {'name': '>3MW', 'children': {}, 'value': None}},\n        'value': None},\n       'offshore': {'name': 'offshore', 'children': {}, 'value': None}},\n      'value': None},\n     'photovoltaics': {'name': 'photovoltaics',\n      'children': {'rooftop': {'name': 'rooftop',\n        'children': {'monocrystalline': {'name': 'monocrystalline',\n          'children': {},\n          'value': None},\n         'polycrystalline': {'name': 'polycrystalline',\n          'children': {},\n          'value': None}},\n        'value': None},\n       'openground': {'name': 'openground', 'children': {}, 'value': None}},\n      'value': None},\n     'other renewables': {'name': 'other renewables',\n      'children': {'biogas': {'name': 'biogas', 'children': {}, 'value': None},\n       'biomass': {'name': 'biomass', 'children': {}, 'value': None},\n       'solar thermoelectric': {'name': 'solar thermoelectric',\n        'children': {},\n        'value': None},\n       'geothermal': {'name': 'geothermal', 'children': {}, 'value': None}},\n      'value': None}},\n    'value': None},\n   'non-renewables': {'name': 'non-renewables',\n    'children': {'coal': {'name': 'coal',\n      'children': {'coal <300MW': {'name': 'coal <300MW',\n        'children': {},\n        'value': None},\n       'coal >300MW': {'name': 'coal >300MW', 'children': {}, 'value': None},\n       'lignite': {'name': 'lignite', 'children': {}, 'value': None}},\n      'value': None},\n     'nuclear': {'name': 'nuclear',\n      'children': {'nuclear pwr': {'name': 'nuclear pwr',\n        'children': {},\n        'value': None},\n       'nuclear bwr': {'name': 'nuclear bwr', 'children': {}, 'value': None}},\n      'value': None},\n     'cogeneration': {'name': 'cogeneration',\n      'children': {'chp gas': {'name': 'chp gas',\n        'children': {},\n        'value': None},\n       'chp coal': {'name': 'chp coal',\n        'children': {'chp coal <300MW': {'name': 'chp coal <300MW',\n          'children': {},\n          'value': None},\n         'chp coal >300MW': {'name': 'chp coal >300MW',\n          'children': {},\n          'value': None}},\n        'value': None},\n       'chp oil': {'name': 'chp oil', 'children': {}, 'value': None},\n       'chp renewables': {'name': 'chp renewables',\n        'children': {},\n        'value': None}},\n      'value': None},\n     'combined cycle': {'name': 'combined cycle',\n      'children': {},\n      'value': None},\n     'oil': {'name': 'oil', 'children': {}, 'value': None}},\n    'value': None}},\n  'value': None}}"
     },
     "execution_count": 24,
     "metadata": {},
     "output_type": "execute_result"
    }
   ],
   "source": [
    "# ok, so far so good.\n",
    "base_tree.assert_all_names_unique()\n",
    "base_tree.as_dict()"
   ],
   "metadata": {
    "collapsed": false,
    "ExecuteTime": {
     "start_time": "2023-05-20T23:14:49.152102Z",
     "end_time": "2023-05-20T23:14:49.190387Z"
    }
   }
  },
  {
   "cell_type": "code",
   "execution_count": 25,
   "outputs": [
    {
     "data": {
      "text/plain": "<IPython.core.display.Markdown object>",
      "text/markdown": "ok this was just a test if the basic tree can be build. now lets build a mega tree.\nthe root is called \"impacts\", which has 18 children, one for each indicator and each indicator has 2 children: onsite and offsite.\neach of these 2 subtrees has some subtree of the kind we build before\n"
     },
     "metadata": {},
     "output_type": "display_data"
    }
   ],
   "source": [
    "%%markdown\n",
    "ok this was just a test if the basic tree can be build. now lets build a mega tree.\n",
    "the root is called \"impacts\", which has 18 children, one for each indicator and each indicator has 2 children: onsite and offsite.\n",
    "each of these 2 subtrees has some subtree of the kind we build before"
   ],
   "metadata": {
    "collapsed": false,
    "ExecuteTime": {
     "start_time": "2023-05-20T23:14:49.879471Z",
     "end_time": "2023-05-20T23:14:49.995246Z"
    }
   }
  },
  {
   "cell_type": "code",
   "execution_count": 26,
   "outputs": [],
   "source": [
    "# however, the generator table include technology names, which are actually not in the tree, but the mapping that \"dendrogram_generation_base.csv\" is giving.\n",
    "# so lets find all those \"Dendrogram name\" nodes and change their names to what the \"tech name\" column has...\n",
    "for row in all_base_rows:\n",
    "    #print(row)\n",
    "    node = base_tree.find_child_by_name(row['Dendrogram name'])\n",
    "    assert node\n",
    "    node.name = row[\"tech name\"]"
   ],
   "metadata": {
    "collapsed": false,
    "ExecuteTime": {
     "start_time": "2023-05-20T23:14:51.699357Z",
     "end_time": "2023-05-20T23:14:51.757088Z"
    }
   }
  },
  {
   "cell_type": "code",
   "execution_count": 27,
   "outputs": [],
   "source": [
    "generation_file = base_path / \"PNIEC_generation.csv\"\n",
    "assert generation_file.exists()\n",
    "generation_rows = list(csv.DictReader(generation_file.open(encoding=\"utf-8\")))\n",
    "\n",
    "# first lets check if \"Technologies\" match the \"tech name\"\n",
    "base_tech_names = set(r[\"tech name\"] for r in all_base_rows)\n",
    "technologies = set(r[\"Technologies\"] for r in generation_rows)\n",
    "\n",
    "# el seems to be a good split token in the Technologies column\n",
    "real_tech_names = set()\n",
    "\n",
    "# lets at the same time build a map from Technologies -> tech name\n",
    "technology2tree_tech_map: dict[str,str] = {}\n",
    "\n",
    "for technology in technologies:\n",
    "    assert \"el\" in technology\n",
    "    parts = technology.split(\"_\")\n",
    "    el_index = parts.index(\"el\")\n",
    "    real_tech_name = \"_\".join(parts[:el_index])\n",
    "    #print(real_tech_name)\n",
    "    real_tech_names.add(real_tech_name)\n",
    "    if real_tech_name in base_tech_names:\n",
    "        technology2tree_tech_map[technology] = real_tech_name\n"
   ],
   "metadata": {
    "collapsed": false,
    "ExecuteTime": {
     "start_time": "2023-05-20T23:14:51.754119Z",
     "end_time": "2023-05-20T23:14:51.778746Z"
    }
   }
  },
  {
   "cell_type": "code",
   "execution_count": 28,
   "outputs": [
    {
     "data": {
      "text/plain": "['terrestrial acidification potential (TAP)',\n 'global warming potential (GWP1000)',\n 'freshwater ecotoxicity potential (FETP)',\n 'marine ecotoxicity potential (METP)',\n 'terrestrial ecotoxicity potential (TETP)',\n 'fossil fuel potential (FFP)',\n 'freshwater eutrophication potential (FEP)',\n 'marine eutrophication potential (MEP)',\n 'human toxicity potential (HTPc)',\n 'human toxicity potential (HTPnc)',\n 'ionising radiation potential (IRP)',\n 'agricultural land occupation (LOP)',\n 'surplus ore potential (SOP)',\n 'ozone depletion potential (ODPinfinite)',\n 'particulate matter formation potential (PMFP)',\n 'photochemical oxidant formation potential: humans (HOFP)',\n 'photochemical oxidant formation potential: ecosystems (EOFP)',\n 'water consumption potential (WCP)']"
     },
     "execution_count": 28,
     "metadata": {},
     "output_type": "execute_result"
    }
   ],
   "source": [
    "# ok lets build the 3 top layers with one iteration over the generation list collecting all the indicators\n",
    "first_tech: str = None\n",
    "indicators: list[str] = []\n",
    "\n",
    "for row in generation_rows:\n",
    "    if not first_tech:\n",
    "        first_tech = row[\"Technologies\"]\n",
    "    if row[\"Technologies\"] != first_tech:\n",
    "        break\n",
    "    indicators.append(row[\"Indicators\"])\n",
    "indicators"
   ],
   "metadata": {
    "collapsed": false,
    "ExecuteTime": {
     "start_time": "2023-05-20T23:14:52.428476Z",
     "end_time": "2023-05-20T23:14:52.458782Z"
    }
   }
  },
  {
   "cell_type": "code",
   "execution_count": 29,
   "outputs": [
    {
     "data": {
      "text/plain": "{'impacts': {'name': 'impacts',\n  'children': {'terrestrial acidification potential (TAP)': {'name': 'terrestrial acidification potential (TAP)',\n    'children': {'Onsite': {'name': 'Onsite', 'children': {}, 'value': None},\n     'Offsite': {'name': 'Offsite', 'children': {}, 'value': None}},\n    'value': None},\n   'global warming potential (GWP1000)': {'name': 'global warming potential (GWP1000)',\n    'children': {'Onsite': {'name': 'Onsite', 'children': {}, 'value': None},\n     'Offsite': {'name': 'Offsite', 'children': {}, 'value': None}},\n    'value': None},\n   'freshwater ecotoxicity potential (FETP)': {'name': 'freshwater ecotoxicity potential (FETP)',\n    'children': {'Onsite': {'name': 'Onsite', 'children': {}, 'value': None},\n     'Offsite': {'name': 'Offsite', 'children': {}, 'value': None}},\n    'value': None},\n   'marine ecotoxicity potential (METP)': {'name': 'marine ecotoxicity potential (METP)',\n    'children': {'Onsite': {'name': 'Onsite', 'children': {}, 'value': None},\n     'Offsite': {'name': 'Offsite', 'children': {}, 'value': None}},\n    'value': None},\n   'terrestrial ecotoxicity potential (TETP)': {'name': 'terrestrial ecotoxicity potential (TETP)',\n    'children': {'Onsite': {'name': 'Onsite', 'children': {}, 'value': None},\n     'Offsite': {'name': 'Offsite', 'children': {}, 'value': None}},\n    'value': None},\n   'fossil fuel potential (FFP)': {'name': 'fossil fuel potential (FFP)',\n    'children': {'Onsite': {'name': 'Onsite', 'children': {}, 'value': None},\n     'Offsite': {'name': 'Offsite', 'children': {}, 'value': None}},\n    'value': None},\n   'freshwater eutrophication potential (FEP)': {'name': 'freshwater eutrophication potential (FEP)',\n    'children': {'Onsite': {'name': 'Onsite', 'children': {}, 'value': None},\n     'Offsite': {'name': 'Offsite', 'children': {}, 'value': None}},\n    'value': None},\n   'marine eutrophication potential (MEP)': {'name': 'marine eutrophication potential (MEP)',\n    'children': {'Onsite': {'name': 'Onsite', 'children': {}, 'value': None},\n     'Offsite': {'name': 'Offsite', 'children': {}, 'value': None}},\n    'value': None},\n   'human toxicity potential (HTPc)': {'name': 'human toxicity potential (HTPc)',\n    'children': {'Onsite': {'name': 'Onsite', 'children': {}, 'value': None},\n     'Offsite': {'name': 'Offsite', 'children': {}, 'value': None}},\n    'value': None},\n   'human toxicity potential (HTPnc)': {'name': 'human toxicity potential (HTPnc)',\n    'children': {'Onsite': {'name': 'Onsite', 'children': {}, 'value': None},\n     'Offsite': {'name': 'Offsite', 'children': {}, 'value': None}},\n    'value': None},\n   'ionising radiation potential (IRP)': {'name': 'ionising radiation potential (IRP)',\n    'children': {'Onsite': {'name': 'Onsite', 'children': {}, 'value': None},\n     'Offsite': {'name': 'Offsite', 'children': {}, 'value': None}},\n    'value': None},\n   'agricultural land occupation (LOP)': {'name': 'agricultural land occupation (LOP)',\n    'children': {'Onsite': {'name': 'Onsite', 'children': {}, 'value': None},\n     'Offsite': {'name': 'Offsite', 'children': {}, 'value': None}},\n    'value': None},\n   'surplus ore potential (SOP)': {'name': 'surplus ore potential (SOP)',\n    'children': {'Onsite': {'name': 'Onsite', 'children': {}, 'value': None},\n     'Offsite': {'name': 'Offsite', 'children': {}, 'value': None}},\n    'value': None},\n   'ozone depletion potential (ODPinfinite)': {'name': 'ozone depletion potential (ODPinfinite)',\n    'children': {'Onsite': {'name': 'Onsite', 'children': {}, 'value': None},\n     'Offsite': {'name': 'Offsite', 'children': {}, 'value': None}},\n    'value': None},\n   'particulate matter formation potential (PMFP)': {'name': 'particulate matter formation potential (PMFP)',\n    'children': {'Onsite': {'name': 'Onsite', 'children': {}, 'value': None},\n     'Offsite': {'name': 'Offsite', 'children': {}, 'value': None}},\n    'value': None},\n   'photochemical oxidant formation potential: humans (HOFP)': {'name': 'photochemical oxidant formation potential: humans (HOFP)',\n    'children': {'Onsite': {'name': 'Onsite', 'children': {}, 'value': None},\n     'Offsite': {'name': 'Offsite', 'children': {}, 'value': None}},\n    'value': None},\n   'photochemical oxidant formation potential: ecosystems (EOFP)': {'name': 'photochemical oxidant formation potential: ecosystems (EOFP)',\n    'children': {'Onsite': {'name': 'Onsite', 'children': {}, 'value': None},\n     'Offsite': {'name': 'Offsite', 'children': {}, 'value': None}},\n    'value': None},\n   'water consumption potential (WCP)': {'name': 'water consumption potential (WCP)',\n    'children': {'Onsite': {'name': 'Onsite', 'children': {}, 'value': None},\n     'Offsite': {'name': 'Offsite', 'children': {}, 'value': None}},\n    'value': None}},\n  'value': None}}"
     },
     "execution_count": 29,
     "metadata": {},
     "output_type": "execute_result"
    }
   ],
   "source": [
    "root = HierarchyNode(\"impacts\")\n",
    "indicator_subtrees = [] #  create this list to find it easier later\n",
    "for indicator in indicators:\n",
    "    indicator_subtree = HierarchyNode(indicator, [\n",
    "        HierarchyNode(\"Onsite\"), HierarchyNode(\"Offsite\")\n",
    "    ])\n",
    "    root.add_child(indicator_subtree)\n",
    "    indicator_subtrees.append(indicator_subtree)\n",
    "\n",
    "root.as_dict()"
   ],
   "metadata": {
    "collapsed": false,
    "ExecuteTime": {
     "start_time": "2023-05-20T23:14:53.255425Z",
     "end_time": "2023-05-20T23:14:53.288812Z"
    }
   }
  },
  {
   "cell_type": "code",
   "execution_count": 30,
   "outputs": [],
   "source": [
    "from copy import deepcopy\n",
    "\n",
    "# each of the lowest nodes (onsite, offsite) now get their own copy of the main tree we created above\n",
    "for indicator_sub_tree in indicator_subtrees:\n",
    "    onsite, offsite = indicator_sub_tree.children\n",
    "    onsite.join_tree(deepcopy(base_tree))\n",
    "    offsite.join_tree(deepcopy(base_tree))"
   ],
   "metadata": {
    "collapsed": false,
    "ExecuteTime": {
     "start_time": "2023-05-20T23:14:54.428004Z",
     "end_time": "2023-05-20T23:14:54.470646Z"
    }
   }
  },
  {
   "cell_type": "code",
   "execution_count": 31,
   "outputs": [],
   "source": [
    "# lets do some introspection..."
   ],
   "metadata": {
    "collapsed": false,
    "ExecuteTime": {
     "start_time": "2023-05-20T23:14:55.206828Z",
     "end_time": "2023-05-20T23:14:55.304061Z"
    }
   }
  },
  {
   "cell_type": "code",
   "execution_count": 32,
   "outputs": [
    {
     "data": {
      "text/plain": "[impacts - 18 children ]"
     },
     "execution_count": 32,
     "metadata": {},
     "output_type": "execute_result"
    }
   ],
   "source": [
    "root # root has 18 children. all the indicator"
   ],
   "metadata": {
    "collapsed": false,
    "ExecuteTime": {
     "start_time": "2023-05-20T23:14:55.574404Z",
     "end_time": "2023-05-20T23:14:55.596225Z"
    }
   }
  },
  {
   "cell_type": "code",
   "execution_count": 33,
   "outputs": [
    {
     "data": {
      "text/plain": "([terrestrial acidification potential (TAP) - 2 children ],\n [[Onsite - 2 children ], [Offsite - 2 children ]])"
     },
     "execution_count": 33,
     "metadata": {},
     "output_type": "execute_result"
    }
   ],
   "source": [
    "#  first indicator, has 2 children, onsite, offsite\n",
    "root.children[0], [kid for kid in root.children[0].children]"
   ],
   "metadata": {
    "collapsed": false,
    "ExecuteTime": {
     "start_time": "2023-05-20T23:14:55.950297Z",
     "end_time": "2023-05-20T23:14:55.973659Z"
    }
   }
  },
  {
   "cell_type": "code",
   "execution_count": 34,
   "outputs": [
    {
     "data": {
      "text/plain": "([Onsite - 2 children ], ['renewables', 'non-renewables'])"
     },
     "execution_count": 34,
     "metadata": {},
     "output_type": "execute_result"
    }
   ],
   "source": [
    "# going one step down, we see renewable and non-renewables, the base of our base tree\n",
    "root.children[0].children[0], [kid.name for kid in root.children[0].children[0].children]"
   ],
   "metadata": {
    "collapsed": false,
    "ExecuteTime": {
     "start_time": "2023-05-20T23:14:56.406297Z",
     "end_time": "2023-05-20T23:14:56.452555Z"
    }
   }
  },
  {
   "cell_type": "code",
   "execution_count": 35,
   "outputs": [],
   "source": [
    "# now we fill up all indicator sub-trees going row by row. finding the respective technology node for onsite and offsite and filling in the value\n",
    "# we will use the technology2tree_tech_map, we created before to find the technology node in the tree\n",
    "one_print = False\n",
    "for index, row in enumerate(generation_rows):\n",
    "    indicator_subtree: HierarchyNode = next(filter(lambda ind: row[\"Indicators\"] == ind.name, indicator_subtrees))\n",
    "\n",
    "    # use get, and check if it exits, in order to prevent\n",
    "    tree_tech_name = technology2tree_tech_map.get(row[\"Technologies\"], None)\n",
    "    if not tree_tech_name:\n",
    "        # print(row[\"Technologies\"], \"will be ignored\")\n",
    "        continue\n",
    "\n",
    "    # the children are called Onsite and Offsite, exactly like the 2 columns with values\n",
    "    for child in indicator_subtree.children:\n",
    "        tech_node = child.find_child_by_name(tree_tech_name)\n",
    "        if not tech_node:\n",
    "            print(\"error\", child.name, index, row[\"Technologies\"], tree_tech_name)\n",
    "            break\n",
    "        tech_node.value = float(row[child.name]) #  child.name is either Onsite or Offsite...\n",
    "\n",
    "    # assert tech_node"
   ],
   "metadata": {
    "collapsed": false,
    "ExecuteTime": {
     "start_time": "2023-05-20T23:14:56.921944Z",
     "end_time": "2023-05-20T23:14:56.979763Z"
    }
   }
  },
  {
   "cell_type": "code",
   "execution_count": 36,
   "outputs": [],
   "source": [
    "for indicator_subtree in root.children:\n",
    "    indicator_subtree.calc()"
   ],
   "metadata": {
    "collapsed": false,
    "ExecuteTime": {
     "start_time": "2023-05-20T23:14:59.975247Z",
     "end_time": "2023-05-20T23:15:00.021675Z"
    }
   }
  },
  {
   "cell_type": "code",
   "execution_count": 22,
   "outputs": [],
   "source": [
    "import json\n",
    "json.dump(root.as_dict(), (base_path / \"complete.json\").open(\"w\", encoding=\"utf-8\"), indent=2)"
   ],
   "metadata": {
    "collapsed": false,
    "ExecuteTime": {
     "start_time": "2023-05-20T18:38:09.173019Z",
     "end_time": "2023-05-20T18:38:09.230015Z"
    }
   }
  },
  {
   "cell_type": "code",
   "execution_count": 41,
   "outputs": [],
   "source": [
    "root.to_csv((base_path / \"complete.csv\"))"
   ],
   "metadata": {
    "collapsed": false,
    "ExecuteTime": {
     "start_time": "2023-05-20T23:17:55.398299Z",
     "end_time": "2023-05-20T23:17:55.532820Z"
    }
   }
  },
  {
   "cell_type": "code",
   "execution_count": null,
   "outputs": [],
   "source": [],
   "metadata": {
    "collapsed": false
   }
  }
 ],
 "metadata": {
  "kernelspec": {
   "display_name": "Python 3",
   "language": "python",
   "name": "python3"
  },
  "language_info": {
   "codemirror_mode": {
    "name": "ipython",
    "version": 2
   },
   "file_extension": ".py",
   "mimetype": "text/x-python",
   "name": "python",
   "nbconvert_exporter": "python",
   "pygments_lexer": "ipython2",
   "version": "2.7.6"
  }
 },
 "nbformat": 4,
 "nbformat_minor": 0
}
