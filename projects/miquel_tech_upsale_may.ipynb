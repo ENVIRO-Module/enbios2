{
 "cells": [
  {
   "cell_type": "code",
   "execution_count": 68,
   "metadata": {
    "collapsed": true,
    "ExecuteTime": {
     "start_time": "2023-05-22T00:12:45.582030Z",
     "end_time": "2023-05-22T00:12:45.645043Z"
    }
   },
   "outputs": [
    {
     "data": {
      "text/plain": "(True, True)"
     },
     "execution_count": 68,
     "metadata": {},
     "output_type": "execute_result"
    }
   ],
   "source": [
    "import csv\n",
    "\n",
    "from enbios2.const import BASE_DATA_PATH\n",
    "\n",
    "base_path = BASE_DATA_PATH / \"temp/miquel_upscaling\"\n",
    "\n",
    "# this is the sheet: \"dendrogram-technology dict\"\n",
    "base_denodo_gram_file = base_path / \"dendrogram_generation_base.csv\"\n",
    "# this is the PNIEC dendrogram sheet\n",
    "dendogram_file = base_path / \"dendrogram_generation_dendo.csv\"\n",
    "base_denodo_gram_file.exists(), dendogram_file.exists()"
   ]
  },
  {
   "cell_type": "code",
   "execution_count": 69,
   "outputs": [
    {
     "name": "stdout",
     "output_type": "stream",
     "text": [
      "['Dendrogram name', 'tech name']\n",
      "['Child', 'Parent', 'Dendrogram level']\n"
     ]
    }
   ],
   "source": [
    "dendo_base_reader = csv.DictReader(base_denodo_gram_file.open(encoding=\"utf-8\"))\n",
    "print(dendo_base_reader.fieldnames)\n",
    "all_base_rows = list(dendo_base_reader)\n",
    "\n",
    "dendo_reader = csv.DictReader(dendogram_file.open(encoding=\"utf-8\"))\n",
    "print(dendo_reader.fieldnames)\n",
    "dendo_rows = list(dendo_reader)"
   ],
   "metadata": {
    "collapsed": false,
    "ExecuteTime": {
     "start_time": "2023-05-22T00:12:45.514197Z",
     "end_time": "2023-05-22T00:12:45.647233Z"
    }
   }
  },
  {
   "cell_type": "code",
   "execution_count": 70,
   "outputs": [],
   "source": [
    "# ok. lets match tech-name : Dendrogram name to \"Child\" (in dendo_rows)\n",
    "base_dendo_names = set(row['Dendrogram name'] for row in all_base_rows)\n",
    "base_dendo_names_in_dendo = set(\n",
    "    row['Child'] for row in dendo_rows if row[\"Child\"])  # the if will filter out the empty ones"
   ],
   "metadata": {
    "collapsed": false,
    "ExecuteTime": {
     "start_time": "2023-05-22T00:12:45.529191Z",
     "end_time": "2023-05-22T00:12:45.647815Z"
    }
   }
  },
  {
   "cell_type": "code",
   "execution_count": 71,
   "outputs": [
    {
     "data": {
      "text/plain": "set()"
     },
     "execution_count": 71,
     "metadata": {},
     "output_type": "execute_result"
    }
   ],
   "source": [
    "# ok, that good. all names \"Dendrogram name\" appear somewhere as Child (of something)\n",
    "base_dendo_names - base_dendo_names_in_dendo"
   ],
   "metadata": {
    "collapsed": false,
    "ExecuteTime": {
     "start_time": "2023-05-22T00:12:45.542484Z",
     "end_time": "2023-05-22T00:12:45.649745Z"
    }
   }
  },
  {
   "cell_type": "code",
   "execution_count": 72,
   "outputs": [
    {
     "name": "stdout",
     "output_type": "stream",
     "text": [
      "The autoreload extension is already loaded. To reload it, use:\n",
      "  %reload_ext autoreload\n"
     ]
    }
   ],
   "source": [
    "%load_ext autoreload\n",
    "%autoreload 2"
   ],
   "metadata": {
    "collapsed": false,
    "ExecuteTime": {
     "start_time": "2023-05-22T00:12:45.585620Z",
     "end_time": "2023-05-22T00:12:45.651375Z"
    }
   }
  },
  {
   "cell_type": "code",
   "execution_count": 73,
   "outputs": [],
   "source": [
    "from enbios2.experiment.sum_hierarchy import HierarchyNode\n",
    "\n",
    "# ok lets build the hierarchy, or tree. dendogram is actually the last name I would give it :). Because that is the name of the plot\n",
    "# we dont care about the \"Dendrogram level\" column, but just look at the Child - Parent relationship\n",
    "\n",
    "base_tree: HierarchyNode = None\n",
    "all_nodes: list[HierarchyNode] = []\n",
    "\n",
    "for row in dendo_rows:\n",
    "    if not row[\"Child\"]:\n",
    "        continue\n",
    "    if not row[\"Parent\"]:\n",
    "        base_tree = HierarchyNode(row[\"Child\"])\n",
    "        all_nodes.append(base_tree)\n",
    "    else:\n",
    "        node = HierarchyNode(row[\"Child\"].strip())\n",
    "        parent_ = list(filter(lambda node: node.name == row[\"Parent\"], all_nodes))\n",
    "        if not parent_:\n",
    "            print(row, \"does not connect\")\n",
    "            print(all_nodes)\n",
    "            continue\n",
    "        parent = parent_[0]\n",
    "        parent.add_child(node)\n",
    "        all_nodes.append(node)"
   ],
   "metadata": {
    "collapsed": false,
    "ExecuteTime": {
     "start_time": "2023-05-22T00:12:45.629311Z",
     "end_time": "2023-05-22T00:12:45.849910Z"
    }
   }
  },
  {
   "cell_type": "code",
   "execution_count": 74,
   "outputs": [],
   "source": [
    "# ok, so far so good.\n",
    "base_tree.assert_all_names_unique()\n",
    "base_tree.as_dict()\n",
    "base_tree.to_csv(base_path / \"base_tree.csv\", include_attrs=[], merge_first_sub_row=True)"
   ],
   "metadata": {
    "collapsed": false,
    "ExecuteTime": {
     "start_time": "2023-05-22T00:12:45.629667Z",
     "end_time": "2023-05-22T00:12:45.850712Z"
    }
   }
  },
  {
   "cell_type": "markdown",
   "source": [
    "ok this was just a test if the basic tree can be build. now lets build a mega tree.\n",
    "the root is called \"impacts\", which has several children (ONE PER SCENARIO), which have 18 children, one for each indicator and each indicator has 2 children: onsite and offsite.\n",
    "each of these 2 subtrees has some subtree of the kind we build before"
   ],
   "metadata": {
    "collapsed": false
   }
  },
  {
   "cell_type": "code",
   "execution_count": 75,
   "outputs": [],
   "source": [
    "# however, the generator table include technology names, which are actually not in the tree, but the mapping that \"dendrogram_generation_base.csv\" is giving.\n",
    "# so lets find all those \"Dendrogram name\" nodes and change their names to what the \"tech name\" column has...\n",
    "for row in all_base_rows:\n",
    "    #print(row)\n",
    "    node = base_tree.find_child_by_name(row['Dendrogram name'])\n",
    "    assert node\n",
    "    node.name = row[\"tech name\"]"
   ],
   "metadata": {
    "collapsed": false,
    "ExecuteTime": {
     "start_time": "2023-05-22T00:12:45.649935Z",
     "end_time": "2023-05-22T00:12:45.851669Z"
    }
   }
  },
  {
   "cell_type": "code",
   "execution_count": 76,
   "outputs": [],
   "source": [
    "generation_file = base_path / \"PNIEC_generation.csv\"\n",
    "assert generation_file.exists()\n",
    "generation_rows = list(csv.DictReader(generation_file.open(encoding=\"utf-8\")))\n",
    "\n",
    "# first lets check if \"Technologies\" match the \"tech name\"\n",
    "base_tech_names = set(r[\"tech name\"] for r in all_base_rows)\n",
    "technologies = set(r[\"Technologies\"] for r in generation_rows)\n",
    "\n",
    "# this is what we read from Technologies and matches tech name\n",
    "real_tech_names = set()\n",
    "\n",
    "# let's build a map from Technologies -> tech name, we need that for mapping later\n",
    "technology2tree_tech_map: dict[str,str] = {}\n",
    "# \"el\" seems to be a good split token in the Technologies column\n",
    "for technology in technologies:\n",
    "    assert \"el\" in technology\n",
    "    parts = technology.split(\"_\")\n",
    "    el_index = parts.index(\"el\")\n",
    "    # the bits before el are the real tech name\n",
    "    real_tech_name = \"_\".join(parts[:el_index])\n",
    "    #print(real_tech_name)\n",
    "    real_tech_names.add(real_tech_name)\n",
    "    if real_tech_name in base_tech_names:\n",
    "        technology2tree_tech_map[technology] = real_tech_name\n",
    "    else: # we are happy that this is actually never printed\n",
    "        print(real_tech_name, \"not in base tech names\")\n"
   ],
   "metadata": {
    "collapsed": false,
    "ExecuteTime": {
     "start_time": "2023-05-22T00:12:45.676643Z",
     "end_time": "2023-05-22T00:12:45.930118Z"
    }
   }
  },
  {
   "cell_type": "code",
   "execution_count": 77,
   "outputs": [
    {
     "data": {
      "text/plain": "{'impacts': {'name': 'impacts',\n  'children': {'production_2015': {'name': 'production_2015',\n    'children': {'terrestrial acidification potential (TAP)': {'name': 'terrestrial acidification potential (TAP)',\n      'children': {},\n      'value': None},\n     'global warming potential (GWP1000)': {'name': 'global warming potential (GWP1000)',\n      'children': {},\n      'value': None},\n     'freshwater ecotoxicity potential (FETP)': {'name': 'freshwater ecotoxicity potential (FETP)',\n      'children': {},\n      'value': None},\n     'marine ecotoxicity potential (METP)': {'name': 'marine ecotoxicity potential (METP)',\n      'children': {},\n      'value': None},\n     'terrestrial ecotoxicity potential (TETP)': {'name': 'terrestrial ecotoxicity potential (TETP)',\n      'children': {},\n      'value': None},\n     'fossil fuel potential (FFP)': {'name': 'fossil fuel potential (FFP)',\n      'children': {},\n      'value': None},\n     'freshwater eutrophication potential (FEP)': {'name': 'freshwater eutrophication potential (FEP)',\n      'children': {},\n      'value': None},\n     'marine eutrophication potential (MEP)': {'name': 'marine eutrophication potential (MEP)',\n      'children': {},\n      'value': None},\n     'human toxicity potential (HTPc)': {'name': 'human toxicity potential (HTPc)',\n      'children': {},\n      'value': None},\n     'human toxicity potential (HTPnc)': {'name': 'human toxicity potential (HTPnc)',\n      'children': {},\n      'value': None},\n     'ionising radiation potential (IRP)': {'name': 'ionising radiation potential (IRP)',\n      'children': {},\n      'value': None},\n     'agricultural land occupation (LOP)': {'name': 'agricultural land occupation (LOP)',\n      'children': {},\n      'value': None},\n     'surplus ore potential (SOP)': {'name': 'surplus ore potential (SOP)',\n      'children': {},\n      'value': None},\n     'ozone depletion potential (ODPinfinite)': {'name': 'ozone depletion potential (ODPinfinite)',\n      'children': {},\n      'value': None},\n     'particulate matter formation potential (PMFP)': {'name': 'particulate matter formation potential (PMFP)',\n      'children': {},\n      'value': None},\n     'photochemical oxidant formation potential: humans (HOFP)': {'name': 'photochemical oxidant formation potential: humans (HOFP)',\n      'children': {},\n      'value': None},\n     'photochemical oxidant formation potential: ecosystems (EOFP)': {'name': 'photochemical oxidant formation potential: ecosystems (EOFP)',\n      'children': {},\n      'value': None},\n     'water consumption potential (WCP)': {'name': 'water consumption potential (WCP)',\n      'children': {},\n      'value': None}},\n    'value': None},\n   'tendential_2020': {'name': 'tendential_2020',\n    'children': {'terrestrial acidification potential (TAP)': {'name': 'terrestrial acidification potential (TAP)',\n      'children': {},\n      'value': None},\n     'global warming potential (GWP1000)': {'name': 'global warming potential (GWP1000)',\n      'children': {},\n      'value': None},\n     'freshwater ecotoxicity potential (FETP)': {'name': 'freshwater ecotoxicity potential (FETP)',\n      'children': {},\n      'value': None},\n     'marine ecotoxicity potential (METP)': {'name': 'marine ecotoxicity potential (METP)',\n      'children': {},\n      'value': None},\n     'terrestrial ecotoxicity potential (TETP)': {'name': 'terrestrial ecotoxicity potential (TETP)',\n      'children': {},\n      'value': None},\n     'fossil fuel potential (FFP)': {'name': 'fossil fuel potential (FFP)',\n      'children': {},\n      'value': None},\n     'freshwater eutrophication potential (FEP)': {'name': 'freshwater eutrophication potential (FEP)',\n      'children': {},\n      'value': None},\n     'marine eutrophication potential (MEP)': {'name': 'marine eutrophication potential (MEP)',\n      'children': {},\n      'value': None},\n     'human toxicity potential (HTPc)': {'name': 'human toxicity potential (HTPc)',\n      'children': {},\n      'value': None},\n     'human toxicity potential (HTPnc)': {'name': 'human toxicity potential (HTPnc)',\n      'children': {},\n      'value': None},\n     'ionising radiation potential (IRP)': {'name': 'ionising radiation potential (IRP)',\n      'children': {},\n      'value': None},\n     'agricultural land occupation (LOP)': {'name': 'agricultural land occupation (LOP)',\n      'children': {},\n      'value': None},\n     'surplus ore potential (SOP)': {'name': 'surplus ore potential (SOP)',\n      'children': {},\n      'value': None},\n     'ozone depletion potential (ODPinfinite)': {'name': 'ozone depletion potential (ODPinfinite)',\n      'children': {},\n      'value': None},\n     'particulate matter formation potential (PMFP)': {'name': 'particulate matter formation potential (PMFP)',\n      'children': {},\n      'value': None},\n     'photochemical oxidant formation potential: humans (HOFP)': {'name': 'photochemical oxidant formation potential: humans (HOFP)',\n      'children': {},\n      'value': None},\n     'photochemical oxidant formation potential: ecosystems (EOFP)': {'name': 'photochemical oxidant formation potential: ecosystems (EOFP)',\n      'children': {},\n      'value': None},\n     'water consumption potential (WCP)': {'name': 'water consumption potential (WCP)',\n      'children': {},\n      'value': None}},\n    'value': None},\n   'tendential_2025': {'name': 'tendential_2025',\n    'children': {'terrestrial acidification potential (TAP)': {'name': 'terrestrial acidification potential (TAP)',\n      'children': {},\n      'value': None},\n     'global warming potential (GWP1000)': {'name': 'global warming potential (GWP1000)',\n      'children': {},\n      'value': None},\n     'freshwater ecotoxicity potential (FETP)': {'name': 'freshwater ecotoxicity potential (FETP)',\n      'children': {},\n      'value': None},\n     'marine ecotoxicity potential (METP)': {'name': 'marine ecotoxicity potential (METP)',\n      'children': {},\n      'value': None},\n     'terrestrial ecotoxicity potential (TETP)': {'name': 'terrestrial ecotoxicity potential (TETP)',\n      'children': {},\n      'value': None},\n     'fossil fuel potential (FFP)': {'name': 'fossil fuel potential (FFP)',\n      'children': {},\n      'value': None},\n     'freshwater eutrophication potential (FEP)': {'name': 'freshwater eutrophication potential (FEP)',\n      'children': {},\n      'value': None},\n     'marine eutrophication potential (MEP)': {'name': 'marine eutrophication potential (MEP)',\n      'children': {},\n      'value': None},\n     'human toxicity potential (HTPc)': {'name': 'human toxicity potential (HTPc)',\n      'children': {},\n      'value': None},\n     'human toxicity potential (HTPnc)': {'name': 'human toxicity potential (HTPnc)',\n      'children': {},\n      'value': None},\n     'ionising radiation potential (IRP)': {'name': 'ionising radiation potential (IRP)',\n      'children': {},\n      'value': None},\n     'agricultural land occupation (LOP)': {'name': 'agricultural land occupation (LOP)',\n      'children': {},\n      'value': None},\n     'surplus ore potential (SOP)': {'name': 'surplus ore potential (SOP)',\n      'children': {},\n      'value': None},\n     'ozone depletion potential (ODPinfinite)': {'name': 'ozone depletion potential (ODPinfinite)',\n      'children': {},\n      'value': None},\n     'particulate matter formation potential (PMFP)': {'name': 'particulate matter formation potential (PMFP)',\n      'children': {},\n      'value': None},\n     'photochemical oxidant formation potential: humans (HOFP)': {'name': 'photochemical oxidant formation potential: humans (HOFP)',\n      'children': {},\n      'value': None},\n     'photochemical oxidant formation potential: ecosystems (EOFP)': {'name': 'photochemical oxidant formation potential: ecosystems (EOFP)',\n      'children': {},\n      'value': None},\n     'water consumption potential (WCP)': {'name': 'water consumption potential (WCP)',\n      'children': {},\n      'value': None}},\n    'value': None},\n   'tendential_2030': {'name': 'tendential_2030',\n    'children': {'terrestrial acidification potential (TAP)': {'name': 'terrestrial acidification potential (TAP)',\n      'children': {},\n      'value': None},\n     'global warming potential (GWP1000)': {'name': 'global warming potential (GWP1000)',\n      'children': {},\n      'value': None},\n     'freshwater ecotoxicity potential (FETP)': {'name': 'freshwater ecotoxicity potential (FETP)',\n      'children': {},\n      'value': None},\n     'marine ecotoxicity potential (METP)': {'name': 'marine ecotoxicity potential (METP)',\n      'children': {},\n      'value': None},\n     'terrestrial ecotoxicity potential (TETP)': {'name': 'terrestrial ecotoxicity potential (TETP)',\n      'children': {},\n      'value': None},\n     'fossil fuel potential (FFP)': {'name': 'fossil fuel potential (FFP)',\n      'children': {},\n      'value': None},\n     'freshwater eutrophication potential (FEP)': {'name': 'freshwater eutrophication potential (FEP)',\n      'children': {},\n      'value': None},\n     'marine eutrophication potential (MEP)': {'name': 'marine eutrophication potential (MEP)',\n      'children': {},\n      'value': None},\n     'human toxicity potential (HTPc)': {'name': 'human toxicity potential (HTPc)',\n      'children': {},\n      'value': None},\n     'human toxicity potential (HTPnc)': {'name': 'human toxicity potential (HTPnc)',\n      'children': {},\n      'value': None},\n     'ionising radiation potential (IRP)': {'name': 'ionising radiation potential (IRP)',\n      'children': {},\n      'value': None},\n     'agricultural land occupation (LOP)': {'name': 'agricultural land occupation (LOP)',\n      'children': {},\n      'value': None},\n     'surplus ore potential (SOP)': {'name': 'surplus ore potential (SOP)',\n      'children': {},\n      'value': None},\n     'ozone depletion potential (ODPinfinite)': {'name': 'ozone depletion potential (ODPinfinite)',\n      'children': {},\n      'value': None},\n     'particulate matter formation potential (PMFP)': {'name': 'particulate matter formation potential (PMFP)',\n      'children': {},\n      'value': None},\n     'photochemical oxidant formation potential: humans (HOFP)': {'name': 'photochemical oxidant formation potential: humans (HOFP)',\n      'children': {},\n      'value': None},\n     'photochemical oxidant formation potential: ecosystems (EOFP)': {'name': 'photochemical oxidant formation potential: ecosystems (EOFP)',\n      'children': {},\n      'value': None},\n     'water consumption potential (WCP)': {'name': 'water consumption potential (WCP)',\n      'children': {},\n      'value': None}},\n    'value': None},\n   'target_2020': {'name': 'target_2020',\n    'children': {'terrestrial acidification potential (TAP)': {'name': 'terrestrial acidification potential (TAP)',\n      'children': {},\n      'value': None},\n     'global warming potential (GWP1000)': {'name': 'global warming potential (GWP1000)',\n      'children': {},\n      'value': None},\n     'freshwater ecotoxicity potential (FETP)': {'name': 'freshwater ecotoxicity potential (FETP)',\n      'children': {},\n      'value': None},\n     'marine ecotoxicity potential (METP)': {'name': 'marine ecotoxicity potential (METP)',\n      'children': {},\n      'value': None},\n     'terrestrial ecotoxicity potential (TETP)': {'name': 'terrestrial ecotoxicity potential (TETP)',\n      'children': {},\n      'value': None},\n     'fossil fuel potential (FFP)': {'name': 'fossil fuel potential (FFP)',\n      'children': {},\n      'value': None},\n     'freshwater eutrophication potential (FEP)': {'name': 'freshwater eutrophication potential (FEP)',\n      'children': {},\n      'value': None},\n     'marine eutrophication potential (MEP)': {'name': 'marine eutrophication potential (MEP)',\n      'children': {},\n      'value': None},\n     'human toxicity potential (HTPc)': {'name': 'human toxicity potential (HTPc)',\n      'children': {},\n      'value': None},\n     'human toxicity potential (HTPnc)': {'name': 'human toxicity potential (HTPnc)',\n      'children': {},\n      'value': None},\n     'ionising radiation potential (IRP)': {'name': 'ionising radiation potential (IRP)',\n      'children': {},\n      'value': None},\n     'agricultural land occupation (LOP)': {'name': 'agricultural land occupation (LOP)',\n      'children': {},\n      'value': None},\n     'surplus ore potential (SOP)': {'name': 'surplus ore potential (SOP)',\n      'children': {},\n      'value': None},\n     'ozone depletion potential (ODPinfinite)': {'name': 'ozone depletion potential (ODPinfinite)',\n      'children': {},\n      'value': None},\n     'particulate matter formation potential (PMFP)': {'name': 'particulate matter formation potential (PMFP)',\n      'children': {},\n      'value': None},\n     'photochemical oxidant formation potential: humans (HOFP)': {'name': 'photochemical oxidant formation potential: humans (HOFP)',\n      'children': {},\n      'value': None},\n     'photochemical oxidant formation potential: ecosystems (EOFP)': {'name': 'photochemical oxidant formation potential: ecosystems (EOFP)',\n      'children': {},\n      'value': None},\n     'water consumption potential (WCP)': {'name': 'water consumption potential (WCP)',\n      'children': {},\n      'value': None}},\n    'value': None},\n   'target_2025': {'name': 'target_2025',\n    'children': {'terrestrial acidification potential (TAP)': {'name': 'terrestrial acidification potential (TAP)',\n      'children': {},\n      'value': None},\n     'global warming potential (GWP1000)': {'name': 'global warming potential (GWP1000)',\n      'children': {},\n      'value': None},\n     'freshwater ecotoxicity potential (FETP)': {'name': 'freshwater ecotoxicity potential (FETP)',\n      'children': {},\n      'value': None},\n     'marine ecotoxicity potential (METP)': {'name': 'marine ecotoxicity potential (METP)',\n      'children': {},\n      'value': None},\n     'terrestrial ecotoxicity potential (TETP)': {'name': 'terrestrial ecotoxicity potential (TETP)',\n      'children': {},\n      'value': None},\n     'fossil fuel potential (FFP)': {'name': 'fossil fuel potential (FFP)',\n      'children': {},\n      'value': None},\n     'freshwater eutrophication potential (FEP)': {'name': 'freshwater eutrophication potential (FEP)',\n      'children': {},\n      'value': None},\n     'marine eutrophication potential (MEP)': {'name': 'marine eutrophication potential (MEP)',\n      'children': {},\n      'value': None},\n     'human toxicity potential (HTPc)': {'name': 'human toxicity potential (HTPc)',\n      'children': {},\n      'value': None},\n     'human toxicity potential (HTPnc)': {'name': 'human toxicity potential (HTPnc)',\n      'children': {},\n      'value': None},\n     'ionising radiation potential (IRP)': {'name': 'ionising radiation potential (IRP)',\n      'children': {},\n      'value': None},\n     'agricultural land occupation (LOP)': {'name': 'agricultural land occupation (LOP)',\n      'children': {},\n      'value': None},\n     'surplus ore potential (SOP)': {'name': 'surplus ore potential (SOP)',\n      'children': {},\n      'value': None},\n     'ozone depletion potential (ODPinfinite)': {'name': 'ozone depletion potential (ODPinfinite)',\n      'children': {},\n      'value': None},\n     'particulate matter formation potential (PMFP)': {'name': 'particulate matter formation potential (PMFP)',\n      'children': {},\n      'value': None},\n     'photochemical oxidant formation potential: humans (HOFP)': {'name': 'photochemical oxidant formation potential: humans (HOFP)',\n      'children': {},\n      'value': None},\n     'photochemical oxidant formation potential: ecosystems (EOFP)': {'name': 'photochemical oxidant formation potential: ecosystems (EOFP)',\n      'children': {},\n      'value': None},\n     'water consumption potential (WCP)': {'name': 'water consumption potential (WCP)',\n      'children': {},\n      'value': None}},\n    'value': None},\n   'target_2030': {'name': 'target_2030',\n    'children': {'terrestrial acidification potential (TAP)': {'name': 'terrestrial acidification potential (TAP)',\n      'children': {},\n      'value': None},\n     'global warming potential (GWP1000)': {'name': 'global warming potential (GWP1000)',\n      'children': {},\n      'value': None},\n     'freshwater ecotoxicity potential (FETP)': {'name': 'freshwater ecotoxicity potential (FETP)',\n      'children': {},\n      'value': None},\n     'marine ecotoxicity potential (METP)': {'name': 'marine ecotoxicity potential (METP)',\n      'children': {},\n      'value': None},\n     'terrestrial ecotoxicity potential (TETP)': {'name': 'terrestrial ecotoxicity potential (TETP)',\n      'children': {},\n      'value': None},\n     'fossil fuel potential (FFP)': {'name': 'fossil fuel potential (FFP)',\n      'children': {},\n      'value': None},\n     'freshwater eutrophication potential (FEP)': {'name': 'freshwater eutrophication potential (FEP)',\n      'children': {},\n      'value': None},\n     'marine eutrophication potential (MEP)': {'name': 'marine eutrophication potential (MEP)',\n      'children': {},\n      'value': None},\n     'human toxicity potential (HTPc)': {'name': 'human toxicity potential (HTPc)',\n      'children': {},\n      'value': None},\n     'human toxicity potential (HTPnc)': {'name': 'human toxicity potential (HTPnc)',\n      'children': {},\n      'value': None},\n     'ionising radiation potential (IRP)': {'name': 'ionising radiation potential (IRP)',\n      'children': {},\n      'value': None},\n     'agricultural land occupation (LOP)': {'name': 'agricultural land occupation (LOP)',\n      'children': {},\n      'value': None},\n     'surplus ore potential (SOP)': {'name': 'surplus ore potential (SOP)',\n      'children': {},\n      'value': None},\n     'ozone depletion potential (ODPinfinite)': {'name': 'ozone depletion potential (ODPinfinite)',\n      'children': {},\n      'value': None},\n     'particulate matter formation potential (PMFP)': {'name': 'particulate matter formation potential (PMFP)',\n      'children': {},\n      'value': None},\n     'photochemical oxidant formation potential: humans (HOFP)': {'name': 'photochemical oxidant formation potential: humans (HOFP)',\n      'children': {},\n      'value': None},\n     'photochemical oxidant formation potential: ecosystems (EOFP)': {'name': 'photochemical oxidant formation potential: ecosystems (EOFP)',\n      'children': {},\n      'value': None},\n     'water consumption potential (WCP)': {'name': 'water consumption potential (WCP)',\n      'children': {},\n      'value': None}},\n    'value': None}},\n  'value': None}}"
     },
     "execution_count": 77,
     "metadata": {},
     "output_type": "execute_result"
    }
   ],
   "source": [
    "# ok lets build the 4 top layers with one iteration over the generation list collecting all the indicators.\n",
    "# let's collect the scenarios and indicators...\n",
    "\n",
    "# here we build the scenario and indicator layers\n",
    "root = HierarchyNode(\"impacts\")\n",
    "\n",
    "for row in generation_rows:\n",
    "    if (scenario := row[\"Scenario\"]) not in root:\n",
    "        scenario_node = HierarchyNode(scenario)\n",
    "        root.add_child(scenario_node)\n",
    "    if (indicator := row[\"Indicators\"]) not in scenario_node:\n",
    "        scenario_node.add_child(HierarchyNode(indicator))\n",
    "\n",
    "root.as_dict()"
   ],
   "metadata": {
    "collapsed": false,
    "ExecuteTime": {
     "start_time": "2023-05-22T00:12:45.724196Z",
     "end_time": "2023-05-22T00:12:45.932814Z"
    }
   }
  },
  {
   "cell_type": "code",
   "execution_count": 78,
   "outputs": [],
   "source": [
    "# Here we add the Onsite/Offsite layer and for each of them a copy of the base tree\n",
    "from copy import deepcopy\n",
    "\n",
    "for leave in root.get_leaves():\n",
    "    onsite = HierarchyNode(\"Onsite\")\n",
    "    offsite = HierarchyNode(\"Offsite\")\n",
    "    leave.add_child(onsite)\n",
    "    leave.add_child(offsite)\n",
    "    onsite.join_tree(deepcopy(base_tree))\n",
    "    offsite.join_tree(deepcopy(base_tree))"
   ],
   "metadata": {
    "collapsed": false,
    "ExecuteTime": {
     "start_time": "2023-05-22T00:12:45.748779Z",
     "end_time": "2023-05-22T00:12:45.992638Z"
    }
   }
  },
  {
   "cell_type": "markdown",
   "source": [
    "lets do some introspection..."
   ],
   "metadata": {
    "collapsed": false
   }
  },
  {
   "cell_type": "code",
   "execution_count": 79,
   "outputs": [
    {
     "data": {
      "text/plain": "([impacts - 7 children],\n ['production_2015',\n  'tendential_2020',\n  'tendential_2025',\n  'tendential_2030',\n  'target_2020',\n  'target_2025',\n  'target_2030'])"
     },
     "execution_count": 79,
     "metadata": {},
     "output_type": "execute_result"
    }
   ],
   "source": [
    "root, root.get_child_names() # root has 7 children. all the scenarios"
   ],
   "metadata": {
    "collapsed": false,
    "ExecuteTime": {
     "start_time": "2023-05-22T00:12:45.836384Z",
     "end_time": "2023-05-22T00:12:45.994670Z"
    }
   }
  },
  {
   "cell_type": "code",
   "execution_count": 80,
   "outputs": [
    {
     "data": {
      "text/plain": "(['terrestrial acidification potential (TAP)',\n  'global warming potential (GWP1000)',\n  'freshwater ecotoxicity potential (FETP)',\n  'marine ecotoxicity potential (METP)',\n  'terrestrial ecotoxicity potential (TETP)',\n  'fossil fuel potential (FFP)',\n  'freshwater eutrophication potential (FEP)',\n  'marine eutrophication potential (MEP)',\n  'human toxicity potential (HTPc)',\n  'human toxicity potential (HTPnc)',\n  'ionising radiation potential (IRP)',\n  'agricultural land occupation (LOP)',\n  'surplus ore potential (SOP)',\n  'ozone depletion potential (ODPinfinite)',\n  'particulate matter formation potential (PMFP)',\n  'photochemical oxidant formation potential: humans (HOFP)',\n  'photochemical oxidant formation potential: ecosystems (EOFP)',\n  'water consumption potential (WCP)'],\n 18)"
     },
     "execution_count": 80,
     "metadata": {},
     "output_type": "execute_result"
    }
   ],
   "source": [
    "#  first indicator, has 2 children, onsite, offsite\n",
    "# note. we added __getitem__ to BaseNode, so we can use the [] operator to get the children\n",
    "some_scenario = root[0]\n",
    "some_scenario.get_child_names(), some_scenario.get_num_children()"
   ],
   "metadata": {
    "collapsed": false,
    "ExecuteTime": {
     "start_time": "2023-05-22T00:12:45.861916Z",
     "end_time": "2023-05-22T00:12:46.173641Z"
    }
   }
  },
  {
   "cell_type": "code",
   "execution_count": 81,
   "outputs": [
    {
     "data": {
      "text/plain": "(['Onsite', 'Offsite'], ['renewables', 'non-renewables'])"
     },
     "execution_count": 81,
     "metadata": {},
     "output_type": "execute_result"
    }
   ],
   "source": [
    "# going one step down, we have Onsite and Offsite\n",
    "some_scenario[0].get_child_names(), some_scenario[0][0].get_child_names()"
   ],
   "metadata": {
    "collapsed": false,
    "ExecuteTime": {
     "start_time": "2023-05-22T00:12:45.905237Z",
     "end_time": "2023-05-22T00:12:46.174642Z"
    }
   }
  },
  {
   "cell_type": "code",
   "execution_count": 82,
   "outputs": [],
   "source": [
    "# now we fill up all indicator subtrees going row by row. finding the respective technology node for onsite and offsite and filling in the value\n",
    "# we will use the technology2tree_tech_map, we created before to find the technology node in the tree\n",
    "for index, row in enumerate(generation_rows):\n",
    "    # get the scenario subtree\n",
    "    scenario_subtree = root[row[\"Scenario\"]]\n",
    "\n",
    "    indicator_subtree = scenario_subtree[row[\"Indicators\"]]\n",
    "    # print(scenario_subtree, indicator_subtree)\n",
    "    # use get, and check if it exits, in order to prevent\n",
    "    tree_tech_name = technology2tree_tech_map.get(row[\"Technologies\"], None)\n",
    "    if not tree_tech_name:\n",
    "        print(row[\"Technologies\"], \"will be ignored\")\n",
    "    #\n",
    "    # # the children are called Onsite and Offsite, exactly like the 2 columns with values\n",
    "    for child in indicator_subtree.children:\n",
    "        tech_node = child.find_child_by_name(tree_tech_name)\n",
    "        if not tech_node:\n",
    "            print(\"error\", child.name, index, row[\"Technologies\"], tree_tech_name)\n",
    "            break\n",
    "        tech_node.value = float(row[child.name]) #  child.name is either Onsite or Offsite...\n",
    "\n",
    "    # assert tech_node"
   ],
   "metadata": {
    "collapsed": false,
    "ExecuteTime": {
     "start_time": "2023-05-22T00:12:45.953096Z",
     "end_time": "2023-05-22T00:12:46.176482Z"
    }
   }
  },
  {
   "cell_type": "code",
   "execution_count": 83,
   "outputs": [],
   "source": [
    "for indicator_subtree in root.collect_all_nodes_at_level(2):\n",
    "    indicator_subtree: HierarchyNode = indicator_subtree\n",
    "    indicator_subtree.calc()"
   ],
   "metadata": {
    "collapsed": false,
    "ExecuteTime": {
     "start_time": "2023-05-22T00:12:46.028543Z",
     "end_time": "2023-05-22T00:12:46.177511Z"
    }
   }
  },
  {
   "cell_type": "code",
   "execution_count": 84,
   "outputs": [],
   "source": [
    "import json\n",
    "json.dump(root.as_dict(), (base_path / \"complete.json\").open(\"w\", encoding=\"utf-8\"), indent=2)"
   ],
   "metadata": {
    "collapsed": false,
    "ExecuteTime": {
     "start_time": "2023-05-22T00:12:46.057155Z",
     "end_time": "2023-05-22T00:12:46.253030Z"
    }
   }
  },
  {
   "cell_type": "code",
   "execution_count": 85,
   "outputs": [],
   "source": [
    "root.to_csv((base_path / \"complete.csv\"))"
   ],
   "metadata": {
    "collapsed": false,
    "ExecuteTime": {
     "start_time": "2023-05-22T00:12:46.150643Z",
     "end_time": "2023-05-22T00:12:46.282246Z"
    }
   }
  },
  {
   "cell_type": "code",
   "execution_count": 90,
   "outputs": [],
   "source": [
    "from enbios2.generic.util import safe_name\n",
    "\n",
    "# one sanky csv file per indicator.\n",
    "# ! these hierarchies do not have unique names (same subtree in Onsite/Offsite), so we need to make them unique before we can write them to csv\n",
    "(base_path / \"sanky\").mkdir(exist_ok=True)\n",
    "\n",
    "root_cp = deepcopy(root)\n",
    "\n",
    "root_cp.make_names_unique()\n",
    "# json.dump(root.as_dict(), (base_path / \"complete_renamed.json\").open(\"w\", encoding=\"utf-8\"), indent=2)\n",
    "for scenario in root_cp.collect_all_nodes_at_level(1):\n",
    "    scenario_folder = (base_path / \"sanky\" / scenario.name)\n",
    "    scenario_folder.mkdir(exist_ok=True)\n",
    "\n",
    "    for indicator_subtree in scenario.collect_all_nodes_at_level(1):\n",
    "        indicator_subtree.to_sanky_tree(scenario_folder /\n",
    "                                        f\"{safe_name(indicator_subtree.name)}_sanky.csv\")"
   ],
   "metadata": {
    "collapsed": false,
    "ExecuteTime": {
     "start_time": "2023-05-22T00:17:59.795265Z",
     "end_time": "2023-05-22T00:17:59.952714Z"
    }
   }
  },
  {
   "cell_type": "code",
   "execution_count": null,
   "outputs": [],
   "source": [],
   "metadata": {
    "collapsed": false
   }
  }
 ],
 "metadata": {
  "kernelspec": {
   "display_name": "Python 3",
   "language": "python",
   "name": "python3"
  },
  "language_info": {
   "codemirror_mode": {
    "name": "ipython",
    "version": 2
   },
   "file_extension": ".py",
   "mimetype": "text/x-python",
   "name": "python",
   "nbconvert_exporter": "python",
   "pygments_lexer": "ipython2",
   "version": "2.7.6"
  }
 },
 "nbformat": 4,
 "nbformat_minor": 0
}
