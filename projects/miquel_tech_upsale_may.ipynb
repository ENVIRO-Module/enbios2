{
 "cells": [
  {
   "cell_type": "code",
   "execution_count": 11,
   "metadata": {
    "collapsed": true,
    "ExecuteTime": {
     "start_time": "2023-05-21T17:53:10.871138Z",
     "end_time": "2023-05-21T17:53:10.918839Z"
    }
   },
   "outputs": [
    {
     "data": {
      "text/plain": "(True, True)"
     },
     "execution_count": 11,
     "metadata": {},
     "output_type": "execute_result"
    }
   ],
   "source": [
    "import csv\n",
    "\n",
    "from enbios2.const import BASE_DATA_PATH\n",
    "\n",
    "base_path = BASE_DATA_PATH / \"temp/miquel_upscaling\"\n",
    "\n",
    "# this is the sheet: \"dendrogram-technology dict\"\n",
    "base_denodo_gram_file = base_path / \"dendrogram_generation_base.csv\"\n",
    "# this is the PNIEC dendrogram sheet\n",
    "dendogram_file = base_path / \"dendrogram_generation_dendo.csv\"\n",
    "base_denodo_gram_file.exists(), dendogram_file.exists()"
   ]
  },
  {
   "cell_type": "code",
   "execution_count": 12,
   "outputs": [
    {
     "name": "stdout",
     "output_type": "stream",
     "text": [
      "['Dendrogram name', 'tech name']\n",
      "['Child', 'Parent', 'Dendrogram level']\n"
     ]
    }
   ],
   "source": [
    "dendo_base_reader = csv.DictReader(base_denodo_gram_file.open(encoding=\"utf-8\"))\n",
    "print(dendo_base_reader.fieldnames)\n",
    "all_base_rows = list(dendo_base_reader)\n",
    "\n",
    "dendo_reader = csv.DictReader(dendogram_file.open(encoding=\"utf-8\"))\n",
    "print(dendo_reader.fieldnames)\n",
    "dendo_rows = list(dendo_reader)"
   ],
   "metadata": {
    "collapsed": false,
    "ExecuteTime": {
     "start_time": "2023-05-21T17:53:12.144992Z",
     "end_time": "2023-05-21T17:53:12.177100Z"
    }
   }
  },
  {
   "cell_type": "code",
   "execution_count": 13,
   "outputs": [],
   "source": [
    "# ok. lets match tech-name : Dendrogram name to \"Child\" (in dendo_rows)\n",
    "base_dendo_names = set(row['Dendrogram name'] for row in all_base_rows)\n",
    "base_dendo_names_in_dendo = set(\n",
    "    row['Child'] for row in dendo_rows if row[\"Child\"])  # the if will filter out the empty ones"
   ],
   "metadata": {
    "collapsed": false,
    "ExecuteTime": {
     "start_time": "2023-05-21T17:53:12.854575Z",
     "end_time": "2023-05-21T17:53:12.868158Z"
    }
   }
  },
  {
   "cell_type": "code",
   "execution_count": 14,
   "outputs": [
    {
     "data": {
      "text/plain": "set()"
     },
     "execution_count": 14,
     "metadata": {},
     "output_type": "execute_result"
    }
   ],
   "source": [
    "# ok, that good. all names \"Dendrogram name\" appear somewhere as Child (of something)\n",
    "base_dendo_names - base_dendo_names_in_dendo"
   ],
   "metadata": {
    "collapsed": false,
    "ExecuteTime": {
     "start_time": "2023-05-21T17:53:13.277104Z",
     "end_time": "2023-05-21T17:53:13.305955Z"
    }
   }
  },
  {
   "cell_type": "code",
   "execution_count": 15,
   "outputs": [
    {
     "name": "stdout",
     "output_type": "stream",
     "text": [
      "The autoreload extension is already loaded. To reload it, use:\n",
      "  %reload_ext autoreload\n"
     ]
    }
   ],
   "source": [
    "%load_ext autoreload\n",
    "%autoreload 2"
   ],
   "metadata": {
    "collapsed": false,
    "ExecuteTime": {
     "start_time": "2023-05-21T17:53:13.760100Z",
     "end_time": "2023-05-21T17:53:13.772118Z"
    }
   }
  },
  {
   "cell_type": "code",
   "execution_count": 16,
   "outputs": [],
   "source": [
    "from enbios2.experiment.sum_hierarchy import HierarchyNode\n",
    "\n",
    "# ok lets build the hierarchy, or tree. dendogram is actually the last name I would give it :). Because that is the name of the plot\n",
    "# we dont care about the \"Dendrogram level\" column, but just look at the Child - Parent relationship\n",
    "\n",
    "base_tree: HierarchyNode = None\n",
    "all_nodes: list[HierarchyNode] = []\n",
    "\n",
    "for row in dendo_rows:\n",
    "    if not row[\"Child\"]:\n",
    "        continue\n",
    "    if not row[\"Parent\"]:\n",
    "        base_tree = HierarchyNode(row[\"Child\"])\n",
    "        all_nodes.append(base_tree)\n",
    "    else:\n",
    "        node = HierarchyNode(row[\"Child\"].strip())\n",
    "        parent_ = list(filter(lambda node: node.name == row[\"Parent\"], all_nodes))\n",
    "        if not parent_:\n",
    "            print(row, \"does not connect\")\n",
    "            print(all_nodes)\n",
    "            continue\n",
    "        parent = parent_[0]\n",
    "        parent.add_child(node)\n",
    "        all_nodes.append(node)"
   ],
   "metadata": {
    "collapsed": false,
    "ExecuteTime": {
     "start_time": "2023-05-21T17:53:14.145911Z",
     "end_time": "2023-05-21T17:53:14.169517Z"
    }
   }
  },
  {
   "cell_type": "code",
   "execution_count": 17,
   "outputs": [],
   "source": [
    "# ok, so far so good.\n",
    "base_tree.assert_all_names_unique()\n",
    "base_tree.as_dict()\n",
    "base_tree.to_csv(base_path / \"base_tree.csv\", include_attrs=[], merge_first_sub_row=True)"
   ],
   "metadata": {
    "collapsed": false,
    "ExecuteTime": {
     "start_time": "2023-05-21T17:53:14.798887Z",
     "end_time": "2023-05-21T17:53:14.811206Z"
    }
   }
  },
  {
   "cell_type": "code",
   "execution_count": 18,
   "outputs": [
    {
     "data": {
      "text/plain": "<IPython.core.display.Markdown object>",
      "text/markdown": "ok this was just a test if the basic tree can be build. now lets build a mega tree.\nthe root is called \"impacts\", which has 18 children, one for each indicator and each indicator has 2 children: onsite and offsite.\neach of these 2 subtrees has some subtree of the kind we build before\n"
     },
     "metadata": {},
     "output_type": "display_data"
    }
   ],
   "source": [
    "%%markdown\n",
    "ok this was just a test if the basic tree can be build. now lets build a mega tree.\n",
    "the root is called \"impacts\", which has 18 children, one for each indicator and each indicator has 2 children: onsite and offsite.\n",
    "each of these 2 subtrees has some subtree of the kind we build before"
   ],
   "metadata": {
    "collapsed": false,
    "ExecuteTime": {
     "start_time": "2023-05-21T17:53:15.534156Z",
     "end_time": "2023-05-21T17:53:15.564605Z"
    }
   }
  },
  {
   "cell_type": "code",
   "execution_count": 19,
   "outputs": [],
   "source": [
    "# however, the generator table include technology names, which are actually not in the tree, but the mapping that \"dendrogram_generation_base.csv\" is giving.\n",
    "# so lets find all those \"Dendrogram name\" nodes and change their names to what the \"tech name\" column has...\n",
    "for row in all_base_rows:\n",
    "    #print(row)\n",
    "    node = base_tree.find_child_by_name(row['Dendrogram name'])\n",
    "    assert node\n",
    "    node.name = row[\"tech name\"]"
   ],
   "metadata": {
    "collapsed": false,
    "ExecuteTime": {
     "start_time": "2023-05-21T17:53:16.312590Z",
     "end_time": "2023-05-21T17:53:16.336566Z"
    }
   }
  },
  {
   "cell_type": "code",
   "execution_count": 20,
   "outputs": [],
   "source": [
    "generation_file = base_path / \"PNIEC_generation.csv\"\n",
    "assert generation_file.exists()\n",
    "generation_rows = list(csv.DictReader(generation_file.open(encoding=\"utf-8\")))\n",
    "\n",
    "# first lets check if \"Technologies\" match the \"tech name\"\n",
    "base_tech_names = set(r[\"tech name\"] for r in all_base_rows)\n",
    "technologies = set(r[\"Technologies\"] for r in generation_rows)\n",
    "\n",
    "# this is what we read from Technologies and matches tech name\n",
    "real_tech_names = set()\n",
    "\n",
    "# lets build a map from Technologies -> tech name, we need that for mapping later\n",
    "technology2tree_tech_map: dict[str,str] = {}\n",
    "# \"el\" seems to be a good split token in the Technologies column\n",
    "for technology in technologies:\n",
    "    assert \"el\" in technology\n",
    "    parts = technology.split(\"_\")\n",
    "    el_index = parts.index(\"el\")\n",
    "    # the bits before el are the real tech name\n",
    "    real_tech_name = \"_\".join(parts[:el_index])\n",
    "    #print(real_tech_name)\n",
    "    real_tech_names.add(real_tech_name)\n",
    "    if real_tech_name in base_tech_names:\n",
    "        technology2tree_tech_map[technology] = real_tech_name\n",
    "    else: # we are happy that this is actually never printed\n",
    "        print(real_tech_name, \"not in base tech names\")\n"
   ],
   "metadata": {
    "collapsed": false,
    "ExecuteTime": {
     "start_time": "2023-05-21T17:53:16.855895Z",
     "end_time": "2023-05-21T17:53:16.945984Z"
    }
   }
  },
  {
   "cell_type": "code",
   "execution_count": 21,
   "outputs": [
    {
     "data": {
      "text/plain": "['terrestrial acidification potential (TAP)',\n 'global warming potential (GWP1000)',\n 'freshwater ecotoxicity potential (FETP)',\n 'marine ecotoxicity potential (METP)',\n 'terrestrial ecotoxicity potential (TETP)',\n 'fossil fuel potential (FFP)',\n 'freshwater eutrophication potential (FEP)',\n 'marine eutrophication potential (MEP)',\n 'human toxicity potential (HTPc)',\n 'human toxicity potential (HTPnc)',\n 'ionising radiation potential (IRP)',\n 'agricultural land occupation (LOP)',\n 'surplus ore potential (SOP)',\n 'ozone depletion potential (ODPinfinite)',\n 'particulate matter formation potential (PMFP)',\n 'photochemical oxidant formation potential: humans (HOFP)',\n 'photochemical oxidant formation potential: ecosystems (EOFP)',\n 'water consumption potential (WCP)']"
     },
     "execution_count": 21,
     "metadata": {},
     "output_type": "execute_result"
    }
   ],
   "source": [
    "# ok lets build the 3 top layers with one iteration over the generation list collecting all the indicators. we actually just need to run over the very first tech, all the indicators will be there\n",
    "# surely this could also be done with one call of pandas.\n",
    "first_tech: str = None\n",
    "indicators: list[str] = []\n",
    "\n",
    "for row in generation_rows:\n",
    "    if not first_tech:\n",
    "        first_tech = row[\"Technologies\"]\n",
    "    if row[\"Technologies\"] != first_tech:\n",
    "        break\n",
    "    indicators.append(row[\"Indicators\"])\n",
    "indicators"
   ],
   "metadata": {
    "collapsed": false,
    "ExecuteTime": {
     "start_time": "2023-05-21T17:53:17.728342Z",
     "end_time": "2023-05-21T17:53:17.805859Z"
    }
   }
  },
  {
   "cell_type": "code",
   "execution_count": 22,
   "outputs": [
    {
     "data": {
      "text/plain": "{'impacts': {'name': 'impacts',\n  'children': {'terrestrial acidification potential (TAP)': {'name': 'terrestrial acidification potential (TAP)',\n    'children': {'Onsite': {'name': 'Onsite', 'children': {}, 'value': None},\n     'Offsite': {'name': 'Offsite', 'children': {}, 'value': None}},\n    'value': None},\n   'global warming potential (GWP1000)': {'name': 'global warming potential (GWP1000)',\n    'children': {'Onsite': {'name': 'Onsite', 'children': {}, 'value': None},\n     'Offsite': {'name': 'Offsite', 'children': {}, 'value': None}},\n    'value': None},\n   'freshwater ecotoxicity potential (FETP)': {'name': 'freshwater ecotoxicity potential (FETP)',\n    'children': {'Onsite': {'name': 'Onsite', 'children': {}, 'value': None},\n     'Offsite': {'name': 'Offsite', 'children': {}, 'value': None}},\n    'value': None},\n   'marine ecotoxicity potential (METP)': {'name': 'marine ecotoxicity potential (METP)',\n    'children': {'Onsite': {'name': 'Onsite', 'children': {}, 'value': None},\n     'Offsite': {'name': 'Offsite', 'children': {}, 'value': None}},\n    'value': None},\n   'terrestrial ecotoxicity potential (TETP)': {'name': 'terrestrial ecotoxicity potential (TETP)',\n    'children': {'Onsite': {'name': 'Onsite', 'children': {}, 'value': None},\n     'Offsite': {'name': 'Offsite', 'children': {}, 'value': None}},\n    'value': None},\n   'fossil fuel potential (FFP)': {'name': 'fossil fuel potential (FFP)',\n    'children': {'Onsite': {'name': 'Onsite', 'children': {}, 'value': None},\n     'Offsite': {'name': 'Offsite', 'children': {}, 'value': None}},\n    'value': None},\n   'freshwater eutrophication potential (FEP)': {'name': 'freshwater eutrophication potential (FEP)',\n    'children': {'Onsite': {'name': 'Onsite', 'children': {}, 'value': None},\n     'Offsite': {'name': 'Offsite', 'children': {}, 'value': None}},\n    'value': None},\n   'marine eutrophication potential (MEP)': {'name': 'marine eutrophication potential (MEP)',\n    'children': {'Onsite': {'name': 'Onsite', 'children': {}, 'value': None},\n     'Offsite': {'name': 'Offsite', 'children': {}, 'value': None}},\n    'value': None},\n   'human toxicity potential (HTPc)': {'name': 'human toxicity potential (HTPc)',\n    'children': {'Onsite': {'name': 'Onsite', 'children': {}, 'value': None},\n     'Offsite': {'name': 'Offsite', 'children': {}, 'value': None}},\n    'value': None},\n   'human toxicity potential (HTPnc)': {'name': 'human toxicity potential (HTPnc)',\n    'children': {'Onsite': {'name': 'Onsite', 'children': {}, 'value': None},\n     'Offsite': {'name': 'Offsite', 'children': {}, 'value': None}},\n    'value': None},\n   'ionising radiation potential (IRP)': {'name': 'ionising radiation potential (IRP)',\n    'children': {'Onsite': {'name': 'Onsite', 'children': {}, 'value': None},\n     'Offsite': {'name': 'Offsite', 'children': {}, 'value': None}},\n    'value': None},\n   'agricultural land occupation (LOP)': {'name': 'agricultural land occupation (LOP)',\n    'children': {'Onsite': {'name': 'Onsite', 'children': {}, 'value': None},\n     'Offsite': {'name': 'Offsite', 'children': {}, 'value': None}},\n    'value': None},\n   'surplus ore potential (SOP)': {'name': 'surplus ore potential (SOP)',\n    'children': {'Onsite': {'name': 'Onsite', 'children': {}, 'value': None},\n     'Offsite': {'name': 'Offsite', 'children': {}, 'value': None}},\n    'value': None},\n   'ozone depletion potential (ODPinfinite)': {'name': 'ozone depletion potential (ODPinfinite)',\n    'children': {'Onsite': {'name': 'Onsite', 'children': {}, 'value': None},\n     'Offsite': {'name': 'Offsite', 'children': {}, 'value': None}},\n    'value': None},\n   'particulate matter formation potential (PMFP)': {'name': 'particulate matter formation potential (PMFP)',\n    'children': {'Onsite': {'name': 'Onsite', 'children': {}, 'value': None},\n     'Offsite': {'name': 'Offsite', 'children': {}, 'value': None}},\n    'value': None},\n   'photochemical oxidant formation potential: humans (HOFP)': {'name': 'photochemical oxidant formation potential: humans (HOFP)',\n    'children': {'Onsite': {'name': 'Onsite', 'children': {}, 'value': None},\n     'Offsite': {'name': 'Offsite', 'children': {}, 'value': None}},\n    'value': None},\n   'photochemical oxidant formation potential: ecosystems (EOFP)': {'name': 'photochemical oxidant formation potential: ecosystems (EOFP)',\n    'children': {'Onsite': {'name': 'Onsite', 'children': {}, 'value': None},\n     'Offsite': {'name': 'Offsite', 'children': {}, 'value': None}},\n    'value': None},\n   'water consumption potential (WCP)': {'name': 'water consumption potential (WCP)',\n    'children': {'Onsite': {'name': 'Onsite', 'children': {}, 'value': None},\n     'Offsite': {'name': 'Offsite', 'children': {}, 'value': None}},\n    'value': None}},\n  'value': None}}"
     },
     "execution_count": 22,
     "metadata": {},
     "output_type": "execute_result"
    }
   ],
   "source": [
    "# The main tree root\n",
    "root = HierarchyNode(\"impacts\")\n",
    "indicator_subtrees = [] #  create this list, to find the subtree easier later\n",
    "# 2nd layer. indicators / and 3rd layer onsite/offsite\n",
    "for indicator in indicators:\n",
    "    indicator_subtree = HierarchyNode(indicator, [\n",
    "        HierarchyNode(\"Onsite\"), HierarchyNode(\"Offsite\")\n",
    "    ])\n",
    "    root.add_child(indicator_subtree)\n",
    "    indicator_subtrees.append(indicator_subtree)\n",
    "\n",
    "root.as_dict()"
   ],
   "metadata": {
    "collapsed": false,
    "ExecuteTime": {
     "start_time": "2023-05-21T17:53:19.029261Z",
     "end_time": "2023-05-21T17:53:19.116888Z"
    }
   }
  },
  {
   "cell_type": "code",
   "execution_count": 23,
   "outputs": [],
   "source": [
    "from copy import deepcopy\n",
    "\n",
    "# each of the lowest nodes (onsite, offsite) now get their own copy of the base tree we created above\n",
    "for indicator_sub_tree in indicator_subtrees:\n",
    "    onsite, offsite = indicator_sub_tree.children\n",
    "    onsite.join_tree(deepcopy(base_tree))\n",
    "    offsite.join_tree(deepcopy(base_tree))"
   ],
   "metadata": {
    "collapsed": false,
    "ExecuteTime": {
     "start_time": "2023-05-21T17:53:22.503158Z",
     "end_time": "2023-05-21T17:53:22.546592Z"
    }
   }
  },
  {
   "cell_type": "code",
   "execution_count": 24,
   "outputs": [],
   "source": [
    "# lets do some introspection..."
   ],
   "metadata": {
    "collapsed": false,
    "ExecuteTime": {
     "start_time": "2023-05-21T17:53:23.530664Z",
     "end_time": "2023-05-21T17:53:23.550299Z"
    }
   }
  },
  {
   "cell_type": "code",
   "execution_count": 25,
   "outputs": [
    {
     "data": {
      "text/plain": "[impacts - 18 children ]"
     },
     "execution_count": 25,
     "metadata": {},
     "output_type": "execute_result"
    }
   ],
   "source": [
    "root # root has 18 children. all the indicator"
   ],
   "metadata": {
    "collapsed": false,
    "ExecuteTime": {
     "start_time": "2023-05-21T17:53:23.864015Z",
     "end_time": "2023-05-21T17:53:23.887759Z"
    }
   }
  },
  {
   "cell_type": "code",
   "execution_count": 26,
   "outputs": [
    {
     "data": {
      "text/plain": "([terrestrial acidification potential (TAP) - 2 children ],\n [[Onsite - 2 children ], [Offsite - 2 children ]])"
     },
     "execution_count": 26,
     "metadata": {},
     "output_type": "execute_result"
    }
   ],
   "source": [
    "#  first indicator, has 2 children, onsite, offsite\n",
    "root.children[0], [kid for kid in root.children[0].children]"
   ],
   "metadata": {
    "collapsed": false,
    "ExecuteTime": {
     "start_time": "2023-05-21T17:53:25.117779Z",
     "end_time": "2023-05-21T17:53:25.131379Z"
    }
   }
  },
  {
   "cell_type": "code",
   "execution_count": 27,
   "outputs": [
    {
     "data": {
      "text/plain": "([Onsite - 2 children ], ['renewables', 'non-renewables'])"
     },
     "execution_count": 27,
     "metadata": {},
     "output_type": "execute_result"
    }
   ],
   "source": [
    "# going one step down, we see renewable and non-renewables, the base of our base tree\n",
    "root.children[0].children[0], [kid.name for kid in root.children[0].children[0].children]"
   ],
   "metadata": {
    "collapsed": false,
    "ExecuteTime": {
     "start_time": "2023-05-21T17:53:36.933381Z",
     "end_time": "2023-05-21T17:53:36.953876Z"
    }
   }
  },
  {
   "cell_type": "code",
   "execution_count": 28,
   "outputs": [],
   "source": [
    "# now we fill up all indicator sub-trees going row by row. finding the respective technology node for onsite and offsite and filling in the value\n",
    "# we will use the technology2tree_tech_map, we created before to find the technology node in the tree\n",
    "for index, row in enumerate(generation_rows):\n",
    "    # find the indicator subtree with the filter function.\n",
    "    # next gives us the first (one and only) element of the filter function\n",
    "    indicator_subtree: HierarchyNode = next(filter(lambda ind: row[\"Indicators\"] == ind.name, indicator_subtrees))\n",
    "\n",
    "    # use get, and check if it exits, in order to prevent\n",
    "    tree_tech_name = technology2tree_tech_map.get(row[\"Technologies\"], None)\n",
    "    if not tree_tech_name:\n",
    "        print(row[\"Technologies\"], \"will be ignored\")\n",
    "\n",
    "    # the children are called Onsite and Offsite, exactly like the 2 columns with values\n",
    "    for child in indicator_subtree.children:\n",
    "        tech_node = child.find_child_by_name(tree_tech_name)\n",
    "        if not tech_node:\n",
    "            print(\"error\", child.name, index, row[\"Technologies\"], tree_tech_name)\n",
    "            break\n",
    "        tech_node.value = float(row[child.name]) #  child.name is either Onsite or Offsite...\n",
    "\n",
    "    # assert tech_node"
   ],
   "metadata": {
    "collapsed": false,
    "ExecuteTime": {
     "start_time": "2023-05-21T17:55:36.735076Z",
     "end_time": "2023-05-21T17:55:36.820675Z"
    }
   }
  },
  {
   "cell_type": "code",
   "execution_count": 29,
   "outputs": [],
   "source": [
    "for indicator_subtree in root.children:\n",
    "    indicator_subtree.calc()"
   ],
   "metadata": {
    "collapsed": false,
    "ExecuteTime": {
     "start_time": "2023-05-21T17:55:45.924867Z",
     "end_time": "2023-05-21T17:55:45.945098Z"
    }
   }
  },
  {
   "cell_type": "code",
   "execution_count": 30,
   "outputs": [],
   "source": [
    "import json\n",
    "json.dump(root.as_dict(), (base_path / \"complete.json\").open(\"w\", encoding=\"utf-8\"), indent=2)"
   ],
   "metadata": {
    "collapsed": false,
    "ExecuteTime": {
     "start_time": "2023-05-21T17:55:47.941252Z",
     "end_time": "2023-05-21T17:55:47.995688Z"
    }
   }
  },
  {
   "cell_type": "code",
   "execution_count": 35,
   "outputs": [],
   "source": [
    "root.to_csv((base_path / \"complete.csv\"))"
   ],
   "metadata": {
    "collapsed": false,
    "ExecuteTime": {
     "start_time": "2023-05-21T17:58:58.375058Z",
     "end_time": "2023-05-21T17:58:58.438685Z"
    }
   }
  },
  {
   "cell_type": "code",
   "execution_count": null,
   "outputs": [],
   "source": [],
   "metadata": {
    "collapsed": false
   }
  }
 ],
 "metadata": {
  "kernelspec": {
   "display_name": "Python 3",
   "language": "python",
   "name": "python3"
  },
  "language_info": {
   "codemirror_mode": {
    "name": "ipython",
    "version": 2
   },
   "file_extension": ".py",
   "mimetype": "text/x-python",
   "name": "python",
   "nbconvert_exporter": "python",
   "pygments_lexer": "ipython2",
   "version": "2.7.6"
  }
 },
 "nbformat": 4,
 "nbformat_minor": 0
}
