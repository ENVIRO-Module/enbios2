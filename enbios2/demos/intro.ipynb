{
 "cells": [
  {
   "cell_type": "code",
   "execution_count": null,
   "outputs": [],
   "source": [
    "from random import choice\n",
    "from enbios2.base.experiment import Experiment\n",
    "import bw2data\n",
    "\n",
    "from enbios2.models.experiment_models import ExperimentData"
   ],
   "metadata": {
    "collapsed": false
   }
  },
  {
   "cell_type": "code",
   "execution_count": null,
   "outputs": [],
   "source": [
    "# %reload_ext autoreload"
   ],
   "metadata": {
    "collapsed": false
   }
  },
  {
   "cell_type": "code",
   "execution_count": null,
   "outputs": [],
   "source": [
    "bw2data.projects.set_current(\"ecoinvent\")"
   ],
   "metadata": {
    "collapsed": false
   }
  },
  {
   "cell_type": "code",
   "execution_count": null,
   "outputs": [],
   "source": [
    "list(bw2data.databases)"
   ],
   "metadata": {
    "collapsed": false
   }
  },
  {
   "cell_type": "code",
   "execution_count": null,
   "outputs": [],
   "source": [
    "database_name = 'cutoff_3.9.1_default'\n",
    "db = bw2data.Database(database_name)"
   ],
   "metadata": {
    "collapsed": false
   }
  },
  {
   "cell_type": "code",
   "execution_count": null,
   "outputs": [],
   "source": [
    "db.get_node(\"46839adbc3cf15621ddbbe687eaa6df1\")"
   ],
   "metadata": {
    "collapsed": false
   }
  },
  {
   "cell_type": "code",
   "execution_count": null,
   "outputs": [],
   "source": [
    "experiment_activities = [\n",
    "    {\n",
    "        \"id\": {\n",
    "            \"code\": \"81174ec2c20931c1a36f65c654bbd11e\",\n",
    "            \"name\": 'electricity production, wind, 1-3MW turbine, onshore',\n",
    "        }\n",
    "    }, {\n",
    "        \"id\": {\n",
    "            \"code\": \"46839adbc3cf15621ddbbe687eaa6df1\",\n",
    "            \"name\": 'electricity production, wind, 1-3MW turbine, offshore',\n",
    "        }\n",
    "    }\n",
    "]"
   ],
   "metadata": {
    "collapsed": false
   }
  },
  {
   "cell_type": "code",
   "execution_count": null,
   "outputs": [],
   "source": [
    "experiment_activities"
   ],
   "metadata": {
    "collapsed": false
   }
  },
  {
   "cell_type": "code",
   "execution_count": null,
   "outputs": [],
   "source": [
    "all_methods = list(bw2data.methods)\n",
    "methods = [choice(all_methods) for _ in range(3)]\n",
    "methods"
   ],
   "metadata": {
    "collapsed": false
   }
  },
  {
   "cell_type": "code",
   "execution_count": null,
   "outputs": [],
   "source": [
    "experiment_methods = [\n",
    "    {\n",
    "        \"id\": method\n",
    "    }\n",
    "    for method in methods\n",
    "]"
   ],
   "metadata": {
    "collapsed": false
   }
  },
  {
   "cell_type": "code",
   "execution_count": null,
   "outputs": [],
   "source": [
    "exp_data = ExperimentData(\n",
    "    bw_project=\"ecoinvent\",\n",
    "    activities=experiment_activities,\n",
    "    methods=experiment_methods\n",
    ")"
   ],
   "metadata": {
    "collapsed": false
   }
  },
  {
   "cell_type": "code",
   "execution_count": null,
   "outputs": [],
   "source": [
    "exp: Experiment = Experiment(exp_data)"
   ],
   "metadata": {
    "collapsed": false
   }
  },
  {
   "cell_type": "code",
   "execution_count": null,
   "outputs": [],
   "source": [
    "exp"
   ],
   "metadata": {
    "collapsed": false
   }
  },
  {
   "cell_type": "code",
   "execution_count": null,
   "outputs": [],
   "source": [
    "results = exp.run()"
   ],
   "metadata": {
    "collapsed": false
   }
  },
  {
   "cell_type": "code",
   "execution_count": null,
   "outputs": [],
   "source": [
    "results"
   ],
   "metadata": {
    "collapsed": false
   }
  },
  {
   "cell_type": "code",
   "execution_count": null,
   "outputs": [],
   "source": [
    "from enbios2.models.experiment_models import ExperimentScenarioData\n",
    "\n",
    "exp_data.scenarios = []\n",
    "\n",
    "for _ in range(3):\n",
    "    random_activity = choice(list(exp.activitiesMap.keys()))\n",
    "    # print(random_activity)\n",
    "    exp_data.scenarios.append(\n",
    "        ExperimentScenarioData(activities={\n",
    "            random_activity: [exp.activitiesMap[random_activity].output.unit, 3]\n",
    "        })\n",
    "    )\n",
    "\n",
    "exp_data.scenarios"
   ],
   "metadata": {
    "collapsed": false
   }
  },
  {
   "cell_type": "code",
   "execution_count": null,
   "outputs": [],
   "source": [
    "exp: Experiment = Experiment(exp_data)\n",
    "# results = exp.run()"
   ],
   "metadata": {
    "collapsed": false
   }
  },
  {
   "cell_type": "code",
   "execution_count": null,
   "outputs": [],
   "source": [
    "exp.scenarios"
   ],
   "metadata": {
    "collapsed": false
   }
  },
  {
   "cell_type": "code",
   "execution_count": null,
   "outputs": [],
   "source": [
    "results = exp.run()"
   ],
   "metadata": {
    "collapsed": false
   }
  },
  {
   "cell_type": "code",
   "execution_count": null,
   "outputs": [],
   "source": [],
   "metadata": {
    "collapsed": false
   }
  }
 ],
 "metadata": {
  "kernelspec": {
   "display_name": "Python 3",
   "language": "python",
   "name": "python3"
  },
  "language_info": {
   "codemirror_mode": {
    "name": "ipython",
    "version": 2
   },
   "file_extension": ".py",
   "mimetype": "text/x-python",
   "name": "python",
   "nbconvert_exporter": "python",
   "pygments_lexer": "ipython2",
   "version": "2.7.6"
  }
 },
 "nbformat": 4,
 "nbformat_minor": 0
}
