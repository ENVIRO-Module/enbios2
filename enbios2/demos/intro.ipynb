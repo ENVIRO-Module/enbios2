{
 "cells": [
  {
   "cell_type": "code",
   "execution_count": 1,
   "outputs": [],
   "source": [
    "from random import choice\n",
    "from enbios2.base.experiment import Experiment\n",
    "import bw2data\n",
    "\n",
    "from enbios2.models.experiment_models import ExperimentData"
   ],
   "metadata": {
    "collapsed": false,
    "ExecuteTime": {
     "end_time": "2023-07-05T14:07:07.833338023Z",
     "start_time": "2023-07-05T14:07:05.175147823Z"
    }
   }
  },
  {
   "cell_type": "code",
   "execution_count": 2,
   "outputs": [
    {
     "name": "stdout",
     "output_type": "stream",
     "text": [
      "2023-07-05 16:07:07,850 - enbios2.base.experiment - DEBUG - activity list\n"
     ]
    }
   ],
   "source": [
    "bw2data.projects.set_current(\"ecoinvent\")\n",
    "exp = Experiment.create(\"ecoinvent\")"
   ],
   "metadata": {
    "collapsed": false,
    "ExecuteTime": {
     "end_time": "2023-07-05T14:07:07.875415534Z",
     "start_time": "2023-07-05T14:07:07.836553033Z"
    }
   }
  },
  {
   "cell_type": "code",
   "execution_count": 3,
   "outputs": [
    {
     "data": {
      "text/plain": "['biosphere3',\n 'apos_3.9.1_default',\n 'consequential_3.9.1_default',\n 'cutoff_3.9.1_default',\n 'cutoff_3.9_default']"
     },
     "execution_count": 3,
     "metadata": {},
     "output_type": "execute_result"
    }
   ],
   "source": [
    "list(bw2data.databases)"
   ],
   "metadata": {
    "collapsed": false,
    "ExecuteTime": {
     "end_time": "2023-07-05T14:07:07.941624933Z",
     "start_time": "2023-07-05T14:07:07.856143022Z"
    }
   }
  },
  {
   "cell_type": "code",
   "execution_count": 11,
   "outputs": [
    {
     "data": {
      "text/plain": "['market for waste polyethylene terephthalate' (kilogram, SI, None),\n 'market group for natural gas, high pressure' (cubic meter, GLO, None),\n 'market for paper, woodcontaining, lightweight coated' (kilogram, RER, None),\n 'electricity production, hydro, pumped storage' (kilowatt hour, CN-JS, None),\n 'electricity production, hydro, run-of-river' (kilowatt hour, IN-JH, None),\n 'fibre production, cotton, ginning' (kilogram, IN, None),\n 'treatment of spent antifreezer liquid, hazardous waste incineration' (kilogram, RoW, None),\n 'pyridine-compound production' (kilogram, RER, None),\n 'planing, lath, softwood, u=20%' (cubic meter, Europe without Switzerland, None),\n 'generator production, 200kW electrical' (unit, RER, None)]"
     },
     "execution_count": 11,
     "metadata": {},
     "output_type": "execute_result"
    }
   ],
   "source": [
    "database_name = 'cutoff_3.9.1_default'\n",
    "db = bw2data.Database(database_name)\n",
    "activities = [db.random() for _ in range(10)]\n",
    "activities"
   ],
   "metadata": {
    "collapsed": false,
    "ExecuteTime": {
     "end_time": "2023-07-05T14:19:41.604374521Z",
     "start_time": "2023-07-05T14:19:41.213817903Z"
    }
   }
  },
  {
   "cell_type": "code",
   "execution_count": 21,
   "outputs": [],
   "source": [
    "experiment_activities = [\n",
    "    {\n",
    "        \"id\": {\n",
    "            \"code\": act[\"code\"],\n",
    "            \"name\": act[\"name\"],\n",
    "        },\n",
    "        \"output\": [act[\"unit\"], 1]\n",
    "    }\n",
    "    for act in activities\n",
    "]"
   ],
   "metadata": {
    "collapsed": false,
    "ExecuteTime": {
     "end_time": "2023-07-05T14:22:13.135182115Z",
     "start_time": "2023-07-05T14:22:13.093606132Z"
    }
   }
  },
  {
   "cell_type": "code",
   "execution_count": 13,
   "outputs": [
    {
     "data": {
      "text/plain": "[{'id': {'code': '18277df8a10170108ac21b60acb13c16'},\n  'output': ['kilogram', 1]},\n {'id': {'code': 'a41a1c1d58c1e6160f6c6516f7f4bff9'},\n  'output': ['cubic meter', 1]},\n {'id': {'code': 'd7499ddf8138ff5183e068df563c0654'},\n  'output': ['kilogram', 1]},\n {'id': {'code': 'b8a74c3cf4075b7bbb23b6b50d9f8676'},\n  'output': ['kilowatt hour', 1]},\n {'id': {'code': 'ba7d962ab827002fbc8df6ff0086f318'},\n  'output': ['kilowatt hour', 1]},\n {'id': {'code': '807ecabdf7a9f10e6801fb0723e86f57'},\n  'output': ['kilogram', 1]},\n {'id': {'code': 'a8bd1a2516a229ff785b789f89f10cd2'},\n  'output': ['kilogram', 1]},\n {'id': {'code': 'd1588ab1309a995d9ad42ce62655efb9'},\n  'output': ['kilogram', 1]},\n {'id': {'code': '1588fc543ab66e47895120ed281029f2'},\n  'output': ['cubic meter', 1]},\n {'id': {'code': '4b29bed545b4cd0b308c4514d31f4ba9'}, 'output': ['unit', 1]}]"
     },
     "execution_count": 13,
     "metadata": {},
     "output_type": "execute_result"
    }
   ],
   "source": [
    "experiment_activities"
   ],
   "metadata": {
    "collapsed": false,
    "ExecuteTime": {
     "end_time": "2023-07-05T14:19:42.045353794Z",
     "start_time": "2023-07-05T14:19:42.041174040Z"
    }
   }
  },
  {
   "cell_type": "code",
   "execution_count": 14,
   "outputs": [
    {
     "data": {
      "text/plain": "[('EF v3.1 EN15804', 'ozone depletion', 'ozone depletion potential (ODP)'),\n ('ReCiPe 2016 v1.03, endpoint (E)',\n  'total: natural resources',\n  'natural resources'),\n ('ReCiPe 2016 v1.03, endpoint (H)',\n  'ecosystem quality',\n  'photochemical oxidant formation: terrestrial ecosystems')]"
     },
     "execution_count": 14,
     "metadata": {},
     "output_type": "execute_result"
    }
   ],
   "source": [
    "all_methods = list(bw2data.methods)\n",
    "methods = [choice(all_methods) for _ in range(3)]\n",
    "methods"
   ],
   "metadata": {
    "collapsed": false,
    "ExecuteTime": {
     "end_time": "2023-07-05T14:19:42.448707710Z",
     "start_time": "2023-07-05T14:19:42.442819587Z"
    }
   }
  },
  {
   "cell_type": "code",
   "execution_count": 15,
   "outputs": [],
   "source": [
    "experiment_methods = [\n",
    "    {\n",
    "        \"id\": method\n",
    "    }\n",
    "    for method in methods\n",
    "]"
   ],
   "metadata": {
    "collapsed": false,
    "ExecuteTime": {
     "end_time": "2023-07-05T14:19:43.034951488Z",
     "start_time": "2023-07-05T14:19:42.973924509Z"
    }
   }
  },
  {
   "cell_type": "code",
   "execution_count": 16,
   "outputs": [],
   "source": [
    "exp_data = ExperimentData(\n",
    "    bw_project=\"ecoinvent\",\n",
    "    activities=experiment_activities,\n",
    "    methods=experiment_methods\n",
    ")"
   ],
   "metadata": {
    "collapsed": false,
    "ExecuteTime": {
     "end_time": "2023-07-05T14:19:43.741694575Z",
     "start_time": "2023-07-05T14:19:43.708495599Z"
    }
   }
  },
  {
   "cell_type": "code",
   "execution_count": 17,
   "outputs": [
    {
     "name": "stdout",
     "output_type": "stream",
     "text": [
      "2023-07-05 16:19:44,695 - enbios2.base.experiment - DEBUG - activity list\n"
     ]
    }
   ],
   "source": [
    "exp: Experiment = Experiment(exp_data)"
   ],
   "metadata": {
    "collapsed": false,
    "ExecuteTime": {
     "end_time": "2023-07-05T14:19:45.729977031Z",
     "start_time": "2023-07-05T14:19:44.682984920Z"
    }
   }
  },
  {
   "cell_type": "code",
   "execution_count": 18,
   "outputs": [
    {
     "name": "stdout",
     "output_type": "stream",
     "text": [
      "2023-07-05 16:19:46,682 - enbios2.base.experiment - INFO - Running scenario 'default scenario'\n",
      "2023-07-05 16:21:30,428 - enbios2.base.experiment - WARNING - Cannot aggregate output to parent: root. From earlier children the base unit is 1.0 kilogram and from market group for natural gas, high pressure it is meter ** 3. Cannot convert from 'kilogram' ([mass]) to 'meter ** 3' ([length] ** 3)\n",
      "2023-07-05 16:21:30,431 - enbios2.base.experiment - WARNING - Cannot aggregate output to parent: root. From earlier children the base unit is 2.0 kilogram and from electricity production, hydro, pumped storage it is kilowatt_hour. Cannot convert from 'kilogram' ([mass]) to 'kilowatt_hour' ([length] ** 2 * [mass] / [time] ** 2)\n",
      "2023-07-05 16:21:30,432 - enbios2.base.experiment - WARNING - Cannot aggregate output to parent: root. From earlier children the base unit is 2.0 kilogram and from electricity production, hydro, run-of-river it is kilowatt_hour. Cannot convert from 'kilogram' ([mass]) to 'kilowatt_hour' ([length] ** 2 * [mass] / [time] ** 2)\n",
      "2023-07-05 16:21:30,435 - enbios2.base.experiment - WARNING - Cannot aggregate output to parent: root. From earlier children the base unit is 5.0 kilogram and from planing, lath, softwood, u=20% it is meter ** 3. Cannot convert from 'kilogram' ([mass]) to 'meter ** 3' ([length] ** 3)\n",
      "2023-07-05 16:21:30,436 - enbios2.base.experiment - WARNING - Cannot aggregate output to parent: root. From earlier children the base unit is 5.0 kilogram and from generator production, 200kW electrical it is micronit. Cannot convert from 'kilogram' ([mass]) to 'micronit' ([luminosity] / [length] ** 2)\n"
     ]
    }
   ],
   "source": [
    "results = exp.run()"
   ],
   "metadata": {
    "collapsed": false,
    "ExecuteTime": {
     "end_time": "2023-07-05T14:21:30.471513089Z",
     "start_time": "2023-07-05T14:19:46.690136943Z"
    }
   }
  },
  {
   "cell_type": "code",
   "execution_count": 20,
   "outputs": [
    {
     "data": {
      "text/plain": "{'default scenario': {'name': 'root',\n  'children': [{'name': 'market for waste polyethylene terephthalate',\n    'children': [],\n    'data': ScenarioResultNodeData(output=('kilogram', 1.0), results={'EF v3.1 EN15804_ozone depletion_ozone depletion potential (ODP)': -6.968850056331269e-10, 'ReCiPe 2016 v1.03, endpoint (E)_total: natural resources_natural resources': -0.0036601317945314927, 'ReCiPe 2016 v1.03, endpoint (H)_ecosystem quality_photochemical oxidant formation: terrestrial ecosystems': -6.448358281675913e-11})},\n   {'name': 'market group for natural gas, high pressure',\n    'children': [],\n    'data': ScenarioResultNodeData(output=('cubic_meter', 1.0), results={'EF v3.1 EN15804_ozone depletion_ozone depletion potential (ODP)': 6.015459474346291e-08, 'ReCiPe 2016 v1.03, endpoint (E)_total: natural resources_natural resources': 0.340832970055725, 'ReCiPe 2016 v1.03, endpoint (H)_ecosystem quality_photochemical oxidant formation: terrestrial ecosystems': 2.3076906566011318e-10})},\n   {'name': 'market for paper, woodcontaining, lightweight coated',\n    'children': [],\n    'data': ScenarioResultNodeData(output=('kilogram', 1.0), results={'EF v3.1 EN15804_ozone depletion_ozone depletion potential (ODP)': 5.3206833227755424e-08, 'ReCiPe 2016 v1.03, endpoint (E)_total: natural resources_natural resources': 0.2032238377242202, 'ReCiPe 2016 v1.03, endpoint (H)_ecosystem quality_photochemical oxidant formation: terrestrial ecosystems': 5.257583980565444e-10})},\n   {'name': 'electricity production, hydro, pumped storage',\n    'children': [],\n    'data': ScenarioResultNodeData(output=('kilowatt_hour', 1.0), results={'EF v3.1 EN15804_ozone depletion_ozone depletion potential (ODP)': 1.6525057039294427e-09, 'ReCiPe 2016 v1.03, endpoint (E)_total: natural resources_natural resources': 0.0359376805319168, 'ReCiPe 2016 v1.03, endpoint (H)_ecosystem quality_photochemical oxidant formation: terrestrial ecosystems': 4.30916242606925e-10})},\n   {'name': 'electricity production, hydro, run-of-river',\n    'children': [],\n    'data': ScenarioResultNodeData(output=('kilowatt_hour', 1.0), results={'EF v3.1 EN15804_ozone depletion_ozone depletion potential (ODP)': 4.7657352770001833e-11, 'ReCiPe 2016 v1.03, endpoint (E)_total: natural resources_natural resources': 0.00036309914959826707, 'ReCiPe 2016 v1.03, endpoint (H)_ecosystem quality_photochemical oxidant formation: terrestrial ecosystems': 2.309771682675907e-12})},\n   {'name': 'fibre production, cotton, ginning',\n    'children': [],\n    'data': ScenarioResultNodeData(output=('kilogram', 1.0), results={'EF v3.1 EN15804_ozone depletion_ozone depletion potential (ODP)': 1.0643304808349443e-08, 'ReCiPe 2016 v1.03, endpoint (E)_total: natural resources_natural resources': 0.0641691118940172, 'ReCiPe 2016 v1.03, endpoint (H)_ecosystem quality_photochemical oxidant formation: terrestrial ecosystems': 7.650503234497522e-10})},\n   {'name': 'treatment of spent antifreezer liquid, hazardous waste incineration',\n    'children': [],\n    'data': ScenarioResultNodeData(output=('kilogram', 1.0), results={'EF v3.1 EN15804_ozone depletion_ozone depletion potential (ODP)': -3.130183020495317e-08, 'ReCiPe 2016 v1.03, endpoint (E)_total: natural resources_natural resources': -0.28730012891702034, 'ReCiPe 2016 v1.03, endpoint (H)_ecosystem quality_photochemical oxidant formation: terrestrial ecosystems': -3.504771312056107e-10})},\n   {'name': 'pyridine-compound production',\n    'children': [],\n    'data': ScenarioResultNodeData(output=('kilogram', 1.0), results={'EF v3.1 EN15804_ozone depletion_ozone depletion potential (ODP)': 2.267025260979995e-06, 'ReCiPe 2016 v1.03, endpoint (E)_total: natural resources_natural resources': 1.0806061421100945, 'ReCiPe 2016 v1.03, endpoint (H)_ecosystem quality_photochemical oxidant formation: terrestrial ecosystems': 2.811710037861902e-09})},\n   {'name': 'planing, lath, softwood, u=20%',\n    'children': [],\n    'data': ScenarioResultNodeData(output=('cubic_meter', 1.0), results={'EF v3.1 EN15804_ozone depletion_ozone depletion potential (ODP)': 1.1817867799655416e-06, 'ReCiPe 2016 v1.03, endpoint (E)_total: natural resources_natural resources': 6.994867317767239, 'ReCiPe 2016 v1.03, endpoint (H)_ecosystem quality_photochemical oxidant formation: terrestrial ecosystems': 5.2035625376635794e-08})},\n   {'name': 'generator production, 200kW electrical',\n    'children': [],\n    'data': ScenarioResultNodeData(output=('unit', 1.0), results={'EF v3.1 EN15804_ozone depletion_ozone depletion potential (ODP)': 6.748581898776833e-05, 'ReCiPe 2016 v1.03, endpoint (E)_total: natural resources_natural resources': 445.08039322860265, 'ReCiPe 2016 v1.03, endpoint (H)_ecosystem quality_photochemical oxidant formation: terrestrial ecosystems': 2.879417438332e-06})}],\n  'data': ScenarioResultNodeData(output=('kilogram', 5.0), results={'EF v3.1 EN15804_ozone depletion_ozone depletion potential (ODP)': 7.102833720933955e-05, 'ReCiPe 2016 v1.03, endpoint (E)_total: natural resources_natural resources': 453.5094331271239, 'ReCiPe 2016 v1.03, endpoint (H)_ecosystem quality_photochemical oxidant formation: terrestrial ecosystems': 2.935804616833931e-06})}}"
     },
     "execution_count": 20,
     "metadata": {},
     "output_type": "execute_result"
    }
   ],
   "source": [
    "results"
   ],
   "metadata": {
    "collapsed": false,
    "ExecuteTime": {
     "end_time": "2023-07-05T14:21:30.681991879Z",
     "start_time": "2023-07-05T14:21:30.542509748Z"
    }
   }
  },
  {
   "cell_type": "code",
   "execution_count": null,
   "outputs": [],
   "source": [
    "# SCENARIOS NEED SOME REPAIR!"
   ],
   "metadata": {
    "collapsed": false
   }
  },
  {
   "cell_type": "code",
   "execution_count": 32,
   "outputs": [
    {
     "data": {
      "text/plain": "[{'pyridine-compound production': ['kilogram', 3]},\n {'electricity production, hydro, run-of-river': ['kilowatt hour', 3]},\n {'electricity production, hydro, pumped storage': ['kilowatt hour', 3]}]"
     },
     "execution_count": 32,
     "metadata": {},
     "output_type": "execute_result"
    }
   ],
   "source": [
    "exp_data.scenarios = []\n",
    "\n",
    "for _ in range(3):\n",
    "    random_activity = choice(list(exp.activitiesMap.keys()))\n",
    "    # print(random_activity)\n",
    "    exp_data.scenarios.append(\n",
    "        {\n",
    "            random_activity: [exp.activitiesMap[random_activity].output.unit, 3]\n",
    "        }\n",
    "    )\n",
    "\n",
    "exp_data.scenarios"
   ],
   "metadata": {
    "collapsed": false,
    "ExecuteTime": {
     "end_time": "2023-07-05T14:31:51.356553471Z",
     "start_time": "2023-07-05T14:31:51.301314477Z"
    }
   }
  },
  {
   "cell_type": "code",
   "execution_count": 34,
   "outputs": [
    {
     "name": "stdout",
     "output_type": "stream",
     "text": [
      "2023-07-05 16:32:03,819 - enbios2.base.experiment - DEBUG - activity list\n"
     ]
    },
    {
     "ename": "AttributeError",
     "evalue": "'dict' object has no attribute 'alias'",
     "output_type": "error",
     "traceback": [
      "\u001B[0;31m---------------------------------------------------------------------------\u001B[0m",
      "\u001B[0;31mAttributeError\u001B[0m                            Traceback (most recent call last)",
      "Cell \u001B[0;32mIn[34], line 1\u001B[0m\n\u001B[0;32m----> 1\u001B[0m exp: Experiment \u001B[38;5;241m=\u001B[39m \u001B[43mExperiment\u001B[49m\u001B[43m(\u001B[49m\u001B[43mexp_data\u001B[49m\u001B[43m)\u001B[49m\n\u001B[1;32m      2\u001B[0m results \u001B[38;5;241m=\u001B[39m exp\u001B[38;5;241m.\u001B[39mrun()\n",
      "File \u001B[0;32m/mnt/SSD/projects/LIVENLab/enbios2/enbios2/base/experiment.py:184\u001B[0m, in \u001B[0;36mExperiment.__init__\u001B[0;34m(self, raw_data)\u001B[0m\n\u001B[1;32m    181\u001B[0m \u001B[38;5;28mself\u001B[39m\u001B[38;5;241m.\u001B[39mtechnology_root_node: BasicTreeNode[ScenarioResultNodeData] \u001B[38;5;241m=\u001B[39m \u001B[38;5;28mself\u001B[39m\u001B[38;5;241m.\u001B[39mcreate_technology_tree()\n\u001B[1;32m    183\u001B[0m \u001B[38;5;28mself\u001B[39m\u001B[38;5;241m.\u001B[39mmethods: \u001B[38;5;28mdict\u001B[39m[\u001B[38;5;28mstr\u001B[39m, ExperimentMethodData] \u001B[38;5;241m=\u001B[39m Experiment\u001B[38;5;241m.\u001B[39mvalidate_methods(\u001B[38;5;28mself\u001B[39m\u001B[38;5;241m.\u001B[39mprepare_methods())\n\u001B[0;32m--> 184\u001B[0m \u001B[38;5;28mself\u001B[39m\u001B[38;5;241m.\u001B[39mscenarios: \u001B[38;5;28mlist\u001B[39m[Scenario] \u001B[38;5;241m=\u001B[39m \u001B[38;5;28;43mself\u001B[39;49m\u001B[38;5;241;43m.\u001B[39;49m\u001B[43mvalidate_scenarios\u001B[49m\u001B[43m(\u001B[49m\u001B[43m)\u001B[49m\n",
      "File \u001B[0;32m/mnt/SSD/projects/LIVENLab/enbios2/enbios2/base/experiment.py:387\u001B[0m, in \u001B[0;36mExperiment.validate_scenarios\u001B[0;34m(self)\u001B[0m\n\u001B[1;32m    385\u001B[0m raw_scenarios: \u001B[38;5;28mlist\u001B[39m[ExperimentScenarioData] \u001B[38;5;241m=\u001B[39m \u001B[38;5;28mself\u001B[39m\u001B[38;5;241m.\u001B[39mraw_data\u001B[38;5;241m.\u001B[39mscenarios\n\u001B[1;32m    386\u001B[0m \u001B[38;5;28;01mfor\u001B[39;00m index, _scenario \u001B[38;5;129;01min\u001B[39;00m \u001B[38;5;28menumerate\u001B[39m(raw_scenarios):\n\u001B[0;32m--> 387\u001B[0m     \u001B[38;5;28;01mif\u001B[39;00m \u001B[38;5;129;01mnot\u001B[39;00m \u001B[43m_scenario\u001B[49m\u001B[38;5;241;43m.\u001B[39;49m\u001B[43malias\u001B[49m:\n\u001B[1;32m    388\u001B[0m         _scenario\u001B[38;5;241m.\u001B[39malias \u001B[38;5;241m=\u001B[39m ExperimentScenarioData\u001B[38;5;241m.\u001B[39malias_factory(index)\n\u001B[1;32m    389\u001B[0m     scenarios\u001B[38;5;241m.\u001B[39mappend(validate_scenario(_scenario))\n",
      "\u001B[0;31mAttributeError\u001B[0m: 'dict' object has no attribute 'alias'"
     ]
    }
   ],
   "source": [
    "exp: Experiment = Experiment(exp_data)\n",
    "results = exp.run()"
   ],
   "metadata": {
    "collapsed": false,
    "ExecuteTime": {
     "end_time": "2023-07-05T14:32:05.207856135Z",
     "start_time": "2023-07-05T14:32:03.791502362Z"
    }
   }
  },
  {
   "cell_type": "code",
   "execution_count": 27,
   "outputs": [
    {
     "data": {
      "text/plain": "[]"
     },
     "execution_count": 27,
     "metadata": {},
     "output_type": "execute_result"
    }
   ],
   "source": [
    "# exp.scenarios"
   ],
   "metadata": {
    "collapsed": false,
    "ExecuteTime": {
     "end_time": "2023-07-05T14:26:39.435286101Z",
     "start_time": "2023-07-05T14:26:39.428193209Z"
    }
   }
  },
  {
   "cell_type": "code",
   "execution_count": null,
   "outputs": [],
   "source": [],
   "metadata": {
    "collapsed": false
   }
  }
 ],
 "metadata": {
  "kernelspec": {
   "display_name": "Python 3",
   "language": "python",
   "name": "python3"
  },
  "language_info": {
   "codemirror_mode": {
    "name": "ipython",
    "version": 2
   },
   "file_extension": ".py",
   "mimetype": "text/x-python",
   "name": "python",
   "nbconvert_exporter": "python",
   "pygments_lexer": "ipython2",
   "version": "2.7.6"
  }
 },
 "nbformat": 4,
 "nbformat_minor": 0
}
