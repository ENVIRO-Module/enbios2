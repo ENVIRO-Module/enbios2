{
 "cells": [
  {
   "cell_type": "code",
   "execution_count": 7,
   "outputs": [],
   "source": [
    "from random import choice\n",
    "from enbios2.base.experiment import Experiment\n",
    "import bw2data\n",
    "\n",
    "from enbios2.models.experiment_models import ExperimentData"
   ],
   "metadata": {
    "collapsed": false,
    "ExecuteTime": {
     "end_time": "2023-07-06T09:00:51.814359197Z",
     "start_time": "2023-07-06T09:00:51.807174703Z"
    }
   }
  },
  {
   "cell_type": "code",
   "execution_count": 8,
   "outputs": [],
   "source": [
    "# %reload_ext autoreload"
   ],
   "metadata": {
    "collapsed": false,
    "ExecuteTime": {
     "end_time": "2023-07-06T09:00:52.280638249Z",
     "start_time": "2023-07-06T09:00:52.272227193Z"
    }
   }
  },
  {
   "cell_type": "code",
   "execution_count": 9,
   "outputs": [],
   "source": [
    "bw2data.projects.set_current(\"ecoinvent\")"
   ],
   "metadata": {
    "collapsed": false,
    "ExecuteTime": {
     "end_time": "2023-07-06T09:00:52.548618499Z",
     "start_time": "2023-07-06T09:00:52.529418643Z"
    }
   }
  },
  {
   "cell_type": "code",
   "execution_count": 10,
   "outputs": [
    {
     "data": {
      "text/plain": "['biosphere3',\n 'apos_3.9.1_default',\n 'consequential_3.9.1_default',\n 'cutoff_3.9.1_default',\n 'cutoff_3.9_default']"
     },
     "execution_count": 10,
     "metadata": {},
     "output_type": "execute_result"
    }
   ],
   "source": [
    "list(bw2data.databases)"
   ],
   "metadata": {
    "collapsed": false,
    "ExecuteTime": {
     "end_time": "2023-07-06T09:00:52.818134666Z",
     "start_time": "2023-07-06T09:00:52.809257431Z"
    }
   }
  },
  {
   "cell_type": "code",
   "execution_count": 11,
   "outputs": [
    {
     "data": {
      "text/plain": "['operation, dried roughage store, non ventilated' (kilogram, CA-QC, None),\n 'electricity production, natural gas, combined cycle power plant' (kilowatt hour, JP, None),\n 'operation, computer, desktop, with cathode ray tube display, off mode' (hour, Europe without Switzerland, None),\n 'electricity voltage transformation from medium to low voltage' (kilowatt hour, HN, None),\n 'palm oil refinery operation' (kilogram, GLO, None),\n 'market for residue from TiO2 production, sulfate process' (kilogram, GLO, None),\n 'market for pear' (kilogram, GLO, None),\n 'mulberry production' (kilogram, RoW, None),\n 'treatment of residues, MSWI-WWT, WW from particle board production, residual material landfill' (kilogram, RoW, None),\n 'electricity, low voltage, residual mix' (kilowatt hour, LT, None)]"
     },
     "execution_count": 11,
     "metadata": {},
     "output_type": "execute_result"
    }
   ],
   "source": [
    "database_name = 'cutoff_3.9.1_default'\n",
    "db = bw2data.Database(database_name)\n",
    "activities = [db.random() for _ in range(10)]\n",
    "activities"
   ],
   "metadata": {
    "collapsed": false,
    "ExecuteTime": {
     "end_time": "2023-07-06T09:00:53.526688328Z",
     "start_time": "2023-07-06T09:00:53.126369857Z"
    }
   }
  },
  {
   "cell_type": "code",
   "execution_count": 12,
   "outputs": [],
   "source": [
    "experiment_activities = [\n",
    "    {\n",
    "        \"id\": {\n",
    "            \"code\": act[\"code\"],\n",
    "            \"name\": act[\"name\"],\n",
    "        },\n",
    "        \"output\": [act[\"unit\"], 1]\n",
    "    }\n",
    "    for act in activities\n",
    "]"
   ],
   "metadata": {
    "collapsed": false,
    "ExecuteTime": {
     "end_time": "2023-07-06T09:00:53.668652674Z",
     "start_time": "2023-07-06T09:00:53.624338473Z"
    }
   }
  },
  {
   "cell_type": "code",
   "execution_count": 13,
   "outputs": [
    {
     "data": {
      "text/plain": "[{'id': {'code': '1b823acf104c38b3b3adb4e569280ec9',\n   'name': 'operation, dried roughage store, non ventilated'},\n  'output': ['kilogram', 1]},\n {'id': {'code': '7e6636262ed75869fc0d87ee01b299b0',\n   'name': 'electricity production, natural gas, combined cycle power plant'},\n  'output': ['kilowatt hour', 1]},\n {'id': {'code': 'ac9439ac83fafc0ec3217c3ae4a0f16e',\n   'name': 'operation, computer, desktop, with cathode ray tube display, off mode'},\n  'output': ['hour', 1]},\n {'id': {'code': 'd538979a0b69a409f5986fab7609b306',\n   'name': 'electricity voltage transformation from medium to low voltage'},\n  'output': ['kilowatt hour', 1]},\n {'id': {'code': 'deb04357869945cac9a909beaf8b478b',\n   'name': 'palm oil refinery operation'},\n  'output': ['kilogram', 1]},\n {'id': {'code': 'f6edb61bb96fe5a101888de2d173c613',\n   'name': 'market for residue from TiO2 production, sulfate process'},\n  'output': ['kilogram', 1]},\n {'id': {'code': 'de09bd76fd0a2942041893fc210247d7',\n   'name': 'market for pear'},\n  'output': ['kilogram', 1]},\n {'id': {'code': '28021f2bfd76633035b7dc8d3dc49159',\n   'name': 'mulberry production'},\n  'output': ['kilogram', 1]},\n {'id': {'code': 'ec0f090c7edbf65ac390e2ecc2660e9a',\n   'name': 'treatment of residues, MSWI-WWT, WW from particle board production, residual material landfill'},\n  'output': ['kilogram', 1]},\n {'id': {'code': '08e7c83ad7496a53ba5b8a489617af39',\n   'name': 'electricity, low voltage, residual mix'},\n  'output': ['kilowatt hour', 1]}]"
     },
     "execution_count": 13,
     "metadata": {},
     "output_type": "execute_result"
    }
   ],
   "source": [
    "experiment_activities"
   ],
   "metadata": {
    "collapsed": false,
    "ExecuteTime": {
     "end_time": "2023-07-06T09:00:54.268542283Z",
     "start_time": "2023-07-06T09:00:54.264044578Z"
    }
   }
  },
  {
   "cell_type": "code",
   "execution_count": 14,
   "outputs": [
    {
     "data": {
      "text/plain": "[('CML v4.8 2016 no LT',\n  'ecotoxicity: marine no LT',\n  'marine aquatic ecotoxicity (MAETP inf) no LT'),\n ('ReCiPe 2016 v1.03, endpoint (E) no LT',\n  'ecosystem quality no LT',\n  'water use: aquatic ecosystems no LT'),\n ('TRACI v2.1 no LT',\n  'acidification no LT',\n  'acidification potential (AP) no LT')]"
     },
     "execution_count": 14,
     "metadata": {},
     "output_type": "execute_result"
    }
   ],
   "source": [
    "all_methods = list(bw2data.methods)\n",
    "methods = [choice(all_methods) for _ in range(3)]\n",
    "methods"
   ],
   "metadata": {
    "collapsed": false,
    "ExecuteTime": {
     "end_time": "2023-07-06T09:00:54.868086937Z",
     "start_time": "2023-07-06T09:00:54.856494228Z"
    }
   }
  },
  {
   "cell_type": "code",
   "execution_count": 15,
   "outputs": [],
   "source": [
    "experiment_methods = [\n",
    "    {\n",
    "        \"id\": method\n",
    "    }\n",
    "    for method in methods\n",
    "]"
   ],
   "metadata": {
    "collapsed": false,
    "ExecuteTime": {
     "end_time": "2023-07-06T09:00:55.253934233Z",
     "start_time": "2023-07-06T09:00:55.244536944Z"
    }
   }
  },
  {
   "cell_type": "code",
   "execution_count": 16,
   "outputs": [],
   "source": [
    "exp_data = ExperimentData(\n",
    "    bw_project=\"ecoinvent\",\n",
    "    activities=experiment_activities,\n",
    "    methods=experiment_methods\n",
    ")"
   ],
   "metadata": {
    "collapsed": false,
    "ExecuteTime": {
     "end_time": "2023-07-06T09:00:55.567776602Z",
     "start_time": "2023-07-06T09:00:55.561520007Z"
    }
   }
  },
  {
   "cell_type": "code",
   "execution_count": 17,
   "outputs": [
    {
     "name": "stdout",
     "output_type": "stream",
     "text": [
      "2023-07-06 11:00:55,953 - enbios2.base.experiment - DEBUG - activity list\n"
     ]
    }
   ],
   "source": [
    "exp: Experiment = Experiment(exp_data)"
   ],
   "metadata": {
    "collapsed": false,
    "ExecuteTime": {
     "end_time": "2023-07-06T09:00:57.034212996Z",
     "start_time": "2023-07-06T09:00:55.945084892Z"
    }
   }
  },
  {
   "cell_type": "code",
   "execution_count": 18,
   "outputs": [],
   "source": [
    "# results = exp.run()"
   ],
   "metadata": {
    "collapsed": false,
    "ExecuteTime": {
     "end_time": "2023-07-06T09:00:57.038997641Z",
     "start_time": "2023-07-06T09:00:57.035236019Z"
    }
   }
  },
  {
   "cell_type": "code",
   "execution_count": 19,
   "outputs": [],
   "source": [
    "# results"
   ],
   "metadata": {
    "collapsed": false,
    "ExecuteTime": {
     "end_time": "2023-07-06T09:00:57.117015532Z",
     "start_time": "2023-07-06T09:00:57.039625377Z"
    }
   }
  },
  {
   "cell_type": "code",
   "execution_count": 20,
   "outputs": [
    {
     "data": {
      "text/plain": "[ExperimentScenarioData(activities={'palm oil refinery operation': ExperimentActivityOutputDict(unit='kilogram', magnitude=3.0)}, methods=None, alias=None),\n ExperimentScenarioData(activities={'treatment of residues, MSWI-WWT, WW from particle board production, residual material landfill': ExperimentActivityOutputDict(unit='kilogram', magnitude=3.0)}, methods=None, alias=None),\n ExperimentScenarioData(activities={'market for residue from TiO2 production, sulfate process': ExperimentActivityOutputDict(unit='kilogram', magnitude=3.0)}, methods=None, alias=None)]"
     },
     "execution_count": 20,
     "metadata": {},
     "output_type": "execute_result"
    }
   ],
   "source": [
    "from enbios2.models.experiment_models import ExperimentScenarioData\n",
    "\n",
    "exp_data.scenarios = []\n",
    "\n",
    "for _ in range(3):\n",
    "    random_activity = choice(list(exp.activitiesMap.keys()))\n",
    "    # print(random_activity)\n",
    "    exp_data.scenarios.append(\n",
    "        ExperimentScenarioData(activities={\n",
    "            random_activity: [exp.activitiesMap[random_activity].output.unit, 3]\n",
    "        })\n",
    "    )\n",
    "\n",
    "exp_data.scenarios"
   ],
   "metadata": {
    "collapsed": false,
    "ExecuteTime": {
     "end_time": "2023-07-06T09:00:57.210410594Z",
     "start_time": "2023-07-06T09:00:57.160413991Z"
    }
   }
  },
  {
   "cell_type": "code",
   "execution_count": 21,
   "outputs": [
    {
     "name": "stdout",
     "output_type": "stream",
     "text": [
      "2023-07-06 11:00:57,890 - enbios2.base.experiment - DEBUG - activity list\n"
     ]
    }
   ],
   "source": [
    "exp: Experiment = Experiment(exp_data)\n",
    "# results = exp.run()"
   ],
   "metadata": {
    "collapsed": false,
    "ExecuteTime": {
     "end_time": "2023-07-06T09:00:59.006346795Z",
     "start_time": "2023-07-06T09:00:57.845355299Z"
    }
   }
  },
  {
   "cell_type": "code",
   "execution_count": 22,
   "outputs": [
    {
     "data": {
      "text/plain": "[Scenario(experiment=<enbios2.base.experiment.Experiment object at 0x7f4e5c1cb880>, alias='Scenario 0', orig_outputs={}, activities_outputs={'palm oil refinery operation': 3.0, 'operation, dried roughage store, non ventilated': 1.0, 'electricity production, natural gas, combined cycle power plant': 1.0, 'operation, computer, desktop, with cathode ray tube display, off mode': 1.0, 'electricity voltage transformation from medium to low voltage': 1.0, 'market for residue from TiO2 production, sulfate process': 1.0, 'market for pear': 1.0, 'mulberry production': 1.0, 'treatment of residues, MSWI-WWT, WW from particle board production, residual material landfill': 1.0, 'electricity, low voltage, residual mix': 1.0}, result_tree=None, methods=None),\n Scenario(experiment=<enbios2.base.experiment.Experiment object at 0x7f4e5c1cb880>, alias='Scenario 1', orig_outputs={}, activities_outputs={'treatment of residues, MSWI-WWT, WW from particle board production, residual material landfill': 3.0, 'operation, dried roughage store, non ventilated': 1.0, 'electricity production, natural gas, combined cycle power plant': 1.0, 'operation, computer, desktop, with cathode ray tube display, off mode': 1.0, 'electricity voltage transformation from medium to low voltage': 1.0, 'palm oil refinery operation': 1.0, 'market for residue from TiO2 production, sulfate process': 1.0, 'market for pear': 1.0, 'mulberry production': 1.0, 'electricity, low voltage, residual mix': 1.0}, result_tree=None, methods=None),\n Scenario(experiment=<enbios2.base.experiment.Experiment object at 0x7f4e5c1cb880>, alias='Scenario 2', orig_outputs={}, activities_outputs={'market for residue from TiO2 production, sulfate process': 3.0, 'operation, dried roughage store, non ventilated': 1.0, 'electricity production, natural gas, combined cycle power plant': 1.0, 'operation, computer, desktop, with cathode ray tube display, off mode': 1.0, 'electricity voltage transformation from medium to low voltage': 1.0, 'palm oil refinery operation': 1.0, 'market for pear': 1.0, 'mulberry production': 1.0, 'treatment of residues, MSWI-WWT, WW from particle board production, residual material landfill': 1.0, 'electricity, low voltage, residual mix': 1.0}, result_tree=None, methods=None)]"
     },
     "execution_count": 22,
     "metadata": {},
     "output_type": "execute_result"
    }
   ],
   "source": [
    "exp.scenarios"
   ],
   "metadata": {
    "collapsed": false,
    "ExecuteTime": {
     "end_time": "2023-07-06T09:00:59.052745622Z",
     "start_time": "2023-07-06T09:00:59.009661851Z"
    }
   }
  },
  {
   "cell_type": "code",
   "execution_count": 23,
   "outputs": [
    {
     "name": "stdout",
     "output_type": "stream",
     "text": [
      "2023-07-06 11:01:02,102 - enbios2.base.experiment - INFO - Running scenario 'Scenario 0'\n",
      "2023-07-06 11:02:09,864 - enbios2.base.experiment - WARNING - Cannot aggregate output to parent: root. From earlier children the base unit is 1.0 kilogram and from electricity production, natural gas, combined cycle power plant it is kilowatt_hour. Cannot convert from 'kilogram' ([mass]) to 'kilowatt_hour' ([length] ** 2 * [mass] / [time] ** 2)\n",
      "2023-07-06 11:02:09,865 - enbios2.base.experiment - WARNING - Cannot aggregate output to parent: root. From earlier children the base unit is 1.0 kilogram and from operation, computer, desktop, with cathode ray tube display, off mode it is hour. Cannot convert from 'kilogram' ([mass]) to 'hour' ([time])\n",
      "2023-07-06 11:02:09,867 - enbios2.base.experiment - WARNING - Cannot aggregate output to parent: root. From earlier children the base unit is 1.0 kilogram and from electricity voltage transformation from medium to low voltage it is kilowatt_hour. Cannot convert from 'kilogram' ([mass]) to 'kilowatt_hour' ([length] ** 2 * [mass] / [time] ** 2)\n",
      "2023-07-06 11:02:09,870 - enbios2.base.experiment - WARNING - Cannot aggregate output to parent: root. From earlier children the base unit is 8.0 kilogram and from electricity, low voltage, residual mix it is kilowatt_hour. Cannot convert from 'kilogram' ([mass]) to 'kilowatt_hour' ([length] ** 2 * [mass] / [time] ** 2)\n",
      "2023-07-06 11:02:09,872 - enbios2.base.experiment - INFO - Running scenario 'Scenario 1'\n",
      "2023-07-06 11:03:28,691 - enbios2.base.experiment - WARNING - Cannot aggregate output to parent: root. From earlier children the base unit is 1.0 kilogram and from electricity production, natural gas, combined cycle power plant it is kilowatt_hour. Cannot convert from 'kilogram' ([mass]) to 'kilowatt_hour' ([length] ** 2 * [mass] / [time] ** 2)\n",
      "2023-07-06 11:03:28,692 - enbios2.base.experiment - WARNING - Cannot aggregate output to parent: root. From earlier children the base unit is 1.0 kilogram and from operation, computer, desktop, with cathode ray tube display, off mode it is hour. Cannot convert from 'kilogram' ([mass]) to 'hour' ([time])\n",
      "2023-07-06 11:03:28,694 - enbios2.base.experiment - WARNING - Cannot aggregate output to parent: root. From earlier children the base unit is 1.0 kilogram and from electricity voltage transformation from medium to low voltage it is kilowatt_hour. Cannot convert from 'kilogram' ([mass]) to 'kilowatt_hour' ([length] ** 2 * [mass] / [time] ** 2)\n",
      "2023-07-06 11:03:28,696 - enbios2.base.experiment - WARNING - Cannot aggregate output to parent: root. From earlier children the base unit is 8.0 kilogram and from electricity, low voltage, residual mix it is kilowatt_hour. Cannot convert from 'kilogram' ([mass]) to 'kilowatt_hour' ([length] ** 2 * [mass] / [time] ** 2)\n",
      "2023-07-06 11:03:28,698 - enbios2.base.experiment - INFO - Running scenario 'Scenario 2'\n",
      "2023-07-06 11:04:42,574 - enbios2.base.experiment - WARNING - Cannot aggregate output to parent: root. From earlier children the base unit is 1.0 kilogram and from electricity production, natural gas, combined cycle power plant it is kilowatt_hour. Cannot convert from 'kilogram' ([mass]) to 'kilowatt_hour' ([length] ** 2 * [mass] / [time] ** 2)\n",
      "2023-07-06 11:04:42,575 - enbios2.base.experiment - WARNING - Cannot aggregate output to parent: root. From earlier children the base unit is 1.0 kilogram and from operation, computer, desktop, with cathode ray tube display, off mode it is hour. Cannot convert from 'kilogram' ([mass]) to 'hour' ([time])\n",
      "2023-07-06 11:04:42,577 - enbios2.base.experiment - WARNING - Cannot aggregate output to parent: root. From earlier children the base unit is 1.0 kilogram and from electricity voltage transformation from medium to low voltage it is kilowatt_hour. Cannot convert from 'kilogram' ([mass]) to 'kilowatt_hour' ([length] ** 2 * [mass] / [time] ** 2)\n",
      "2023-07-06 11:04:42,579 - enbios2.base.experiment - WARNING - Cannot aggregate output to parent: root. From earlier children the base unit is 8.0 kilogram and from electricity, low voltage, residual mix it is kilowatt_hour. Cannot convert from 'kilogram' ([mass]) to 'kilowatt_hour' ([length] ** 2 * [mass] / [time] ** 2)\n"
     ]
    }
   ],
   "source": [
    "results = exp.run()"
   ],
   "metadata": {
    "collapsed": false,
    "ExecuteTime": {
     "end_time": "2023-07-06T09:04:42.624723984Z",
     "start_time": "2023-07-06T09:01:02.105216038Z"
    }
   }
  },
  {
   "cell_type": "code",
   "execution_count": null,
   "outputs": [],
   "source": [],
   "metadata": {
    "collapsed": false
   }
  }
 ],
 "metadata": {
  "kernelspec": {
   "display_name": "Python 3",
   "language": "python",
   "name": "python3"
  },
  "language_info": {
   "codemirror_mode": {
    "name": "ipython",
    "version": 2
   },
   "file_extension": ".py",
   "mimetype": "text/x-python",
   "name": "python",
   "nbconvert_exporter": "python",
   "pygments_lexer": "ipython2",
   "version": "2.7.6"
  }
 },
 "nbformat": 4,
 "nbformat_minor": 0
}
