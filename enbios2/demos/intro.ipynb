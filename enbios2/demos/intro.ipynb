{
 "cells": [
  {
   "cell_type": "code",
   "execution_count": 1,
   "outputs": [],
   "source": [
    "from random import choice\n",
    "from enbios2.base.experiment import Experiment\n",
    "import bw2data"
   ],
   "metadata": {
    "collapsed": false,
    "ExecuteTime": {
     "end_time": "2023-06-27T14:48:08.094468471Z",
     "start_time": "2023-06-27T14:48:05.104669540Z"
    }
   }
  },
  {
   "cell_type": "code",
   "execution_count": 2,
   "outputs": [
    {
     "name": "stdout",
     "output_type": "stream",
     "text": [
      "2023-06-27 16:48:08,916 - enbios2.base.experiment - DEBUG - activity list\n"
     ]
    }
   ],
   "source": [
    "bw2data.projects.set_current(\"ecoinvent\")\n",
    "exp = Experiment.create(\"ecoinvent\")"
   ],
   "metadata": {
    "collapsed": false,
    "ExecuteTime": {
     "end_time": "2023-06-27T14:48:08.921333119Z",
     "start_time": "2023-06-27T14:48:08.890351138Z"
    }
   }
  },
  {
   "cell_type": "code",
   "execution_count": 3,
   "outputs": [
    {
     "data": {
      "text/plain": "['biosphere3',\n 'apos_3.9.1_default',\n 'consequential_3.9.1_default',\n 'cutoff_3.9.1_default',\n 'cutoff_3.9_default']"
     },
     "execution_count": 3,
     "metadata": {},
     "output_type": "execute_result"
    }
   ],
   "source": [
    "list(bw2data.databases)"
   ],
   "metadata": {
    "collapsed": false,
    "ExecuteTime": {
     "end_time": "2023-06-27T14:48:09.359449939Z",
     "start_time": "2023-06-27T14:48:09.338581157Z"
    }
   }
  },
  {
   "cell_type": "code",
   "execution_count": 4,
   "outputs": [
    {
     "data": {
      "text/plain": "'cyclohexane production' (kilogram, RoW, None)"
     },
     "execution_count": 4,
     "metadata": {},
     "output_type": "execute_result"
    }
   ],
   "source": [
    "database_name = 'cutoff_3.9.1_default'\n",
    "random_activity = bw2data.Database(database_name).random()\n",
    "random_activity"
   ],
   "metadata": {
    "collapsed": false,
    "ExecuteTime": {
     "end_time": "2023-06-27T14:48:09.994662717Z",
     "start_time": "2023-06-27T14:48:09.953274278Z"
    }
   }
  },
  {
   "cell_type": "code",
   "execution_count": 5,
   "outputs": [],
   "source": [
    "exp.add_activity(random_activity, default_demand=[random_activity[\"unit\"],1])"
   ],
   "metadata": {
    "collapsed": false,
    "ExecuteTime": {
     "end_time": "2023-06-27T14:48:10.596815626Z",
     "start_time": "2023-06-27T14:48:10.588844580Z"
    }
   }
  },
  {
   "cell_type": "code",
   "execution_count": 6,
   "outputs": [
    {
     "data": {
      "text/plain": "{'cyclohexane production': ExtendedExperimentActivityData(id=ExperimentActivityId(database='cutoff_3.9.1_default', code='7d5525311687b27493b6d616de7f7618', name=None, location=None, unit=None, alias='cyclohexane production'), output=ExtendedExperimentActivityOutput(unit='kilogram', magnitude=1.0), orig_id=None, bw_activity='cyclohexane production' (kilogram, RoW, None), scenario_outputs=None)}"
     },
     "execution_count": 6,
     "metadata": {},
     "output_type": "execute_result"
    }
   ],
   "source": [
    "exp.activitiesMap"
   ],
   "metadata": {
    "collapsed": false,
    "ExecuteTime": {
     "end_time": "2023-06-27T14:48:11.092251482Z",
     "start_time": "2023-06-27T14:48:11.086473964Z"
    }
   }
  },
  {
   "cell_type": "code",
   "execution_count": 7,
   "outputs": [
    {
     "data": {
      "text/plain": "[Scenario(experiment=<enbios2.base.experiment.Experiment object at 0x7f14527f9250>, alias='default scenario', activities_outputs={}, results=None, result_tree=None, methods=None)]"
     },
     "execution_count": 7,
     "metadata": {},
     "output_type": "execute_result"
    }
   ],
   "source": [
    "exp.scenarios"
   ],
   "metadata": {
    "collapsed": false,
    "ExecuteTime": {
     "end_time": "2023-06-27T14:48:12.152780881Z",
     "start_time": "2023-06-27T14:48:12.150592235Z"
    }
   }
  },
  {
   "cell_type": "code",
   "execution_count": 8,
   "outputs": [
    {
     "ename": "ValueError",
     "evalue": "Scenario 'default scenario' has no methods",
     "output_type": "error",
     "traceback": [
      "\u001B[0;31m---------------------------------------------------------------------------\u001B[0m",
      "\u001B[0;31mValueError\u001B[0m                                Traceback (most recent call last)",
      "Cell \u001B[0;32mIn[8], line 2\u001B[0m\n\u001B[1;32m      1\u001B[0m \u001B[38;5;66;03m# this won't work because we don't have methods yet\u001B[39;00m\n\u001B[0;32m----> 2\u001B[0m \u001B[43mexp\u001B[49m\u001B[38;5;241;43m.\u001B[39;49m\u001B[43mrun\u001B[49m\u001B[43m(\u001B[49m\u001B[43m)\u001B[49m\n",
      "File \u001B[0;32m/mnt/SSD/projects/LIVENLab/enbios2/enbios2/base/experiment.py:416\u001B[0m, in \u001B[0;36mExperiment.run\u001B[0;34m(self)\u001B[0m\n\u001B[1;32m    414\u001B[0m results \u001B[38;5;241m=\u001B[39m {}\n\u001B[1;32m    415\u001B[0m \u001B[38;5;28;01mfor\u001B[39;00m scenario \u001B[38;5;129;01min\u001B[39;00m \u001B[38;5;28mself\u001B[39m\u001B[38;5;241m.\u001B[39mscenarios:\n\u001B[0;32m--> 416\u001B[0m     results[scenario\u001B[38;5;241m.\u001B[39malias] \u001B[38;5;241m=\u001B[39m \u001B[38;5;28;43mself\u001B[39;49m\u001B[38;5;241;43m.\u001B[39;49m\u001B[43mrun_scenario\u001B[49m\u001B[43m(\u001B[49m\u001B[43mscenario\u001B[49m\u001B[38;5;241;43m.\u001B[39;49m\u001B[43malias\u001B[49m\u001B[43m)\u001B[49m\n\u001B[1;32m    417\u001B[0m \u001B[38;5;28;01mreturn\u001B[39;00m results\n",
      "File \u001B[0;32m/mnt/SSD/projects/LIVENLab/enbios2/enbios2/base/experiment.py:410\u001B[0m, in \u001B[0;36mExperiment.run_scenario\u001B[0;34m(self, scenario_name)\u001B[0m\n\u001B[1;32m    408\u001B[0m \u001B[38;5;28;01mdef\u001B[39;00m \u001B[38;5;21mrun_scenario\u001B[39m(\u001B[38;5;28mself\u001B[39m, scenario_name: \u001B[38;5;28mstr\u001B[39m) \u001B[38;5;241m-\u001B[39m\u001B[38;5;241m>\u001B[39m \u001B[38;5;28mdict\u001B[39m:\n\u001B[1;32m    409\u001B[0m     scenario \u001B[38;5;241m=\u001B[39m \u001B[38;5;28mself\u001B[39m\u001B[38;5;241m.\u001B[39mget_scenario(scenario_name)\n\u001B[0;32m--> 410\u001B[0m     \u001B[43mscenario\u001B[49m\u001B[38;5;241;43m.\u001B[39;49m\u001B[43mrun\u001B[49m\u001B[43m(\u001B[49m\u001B[43m)\u001B[49m\n\u001B[1;32m    411\u001B[0m     \u001B[38;5;28;01mreturn\u001B[39;00m scenario\u001B[38;5;241m.\u001B[39mresult_tree\u001B[38;5;241m.\u001B[39mas_dict(include_data\u001B[38;5;241m=\u001B[39m\u001B[38;5;28;01mTrue\u001B[39;00m)\n",
      "File \u001B[0;32m/mnt/SSD/projects/LIVENLab/enbios2/enbios2/base/experiment.py:82\u001B[0m, in \u001B[0;36mScenario.run\u001B[0;34m(self)\u001B[0m\n\u001B[1;32m     80\u001B[0m \u001B[38;5;28;01mdef\u001B[39;00m \u001B[38;5;21mrun\u001B[39m(\u001B[38;5;28mself\u001B[39m):\n\u001B[1;32m     81\u001B[0m     \u001B[38;5;28;01mif\u001B[39;00m \u001B[38;5;129;01mnot\u001B[39;00m \u001B[38;5;28mself\u001B[39m\u001B[38;5;241m.\u001B[39mget_methods():\n\u001B[0;32m---> 82\u001B[0m         \u001B[38;5;28;01mraise\u001B[39;00m \u001B[38;5;167;01mValueError\u001B[39;00m(\u001B[38;5;124mf\u001B[39m\u001B[38;5;124m\"\u001B[39m\u001B[38;5;124mScenario \u001B[39m\u001B[38;5;124m'\u001B[39m\u001B[38;5;132;01m{\u001B[39;00m\u001B[38;5;28mself\u001B[39m\u001B[38;5;241m.\u001B[39malias\u001B[38;5;132;01m}\u001B[39;00m\u001B[38;5;124m'\u001B[39m\u001B[38;5;124m has no methods\u001B[39m\u001B[38;5;124m\"\u001B[39m)\n\u001B[1;32m     83\u001B[0m     logger\u001B[38;5;241m.\u001B[39minfo(\u001B[38;5;124mf\u001B[39m\u001B[38;5;124m\"\u001B[39m\u001B[38;5;124mRunning scenario \u001B[39m\u001B[38;5;124m'\u001B[39m\u001B[38;5;132;01m{\u001B[39;00m\u001B[38;5;28mself\u001B[39m\u001B[38;5;241m.\u001B[39malias\u001B[38;5;132;01m}\u001B[39;00m\u001B[38;5;124m'\u001B[39m\u001B[38;5;124m\"\u001B[39m)\n\u001B[1;32m     84\u001B[0m     bw_calc_setup \u001B[38;5;241m=\u001B[39m \u001B[38;5;28mself\u001B[39m\u001B[38;5;241m.\u001B[39mcreate_bw_calculation_setup()\n",
      "\u001B[0;31mValueError\u001B[0m: Scenario 'default scenario' has no methods"
     ]
    }
   ],
   "source": [
    "# this won't work because we don't have methods yet\n",
    "exp.run()"
   ],
   "metadata": {
    "collapsed": false,
    "ExecuteTime": {
     "end_time": "2023-06-27T14:48:13.788487943Z",
     "start_time": "2023-06-27T14:48:12.937228450Z"
    }
   }
  },
  {
   "cell_type": "code",
   "execution_count": 9,
   "outputs": [
    {
     "data": {
      "text/plain": "('EF v3.1',\n 'eutrophication: marine',\n 'fraction of nutrients reaching marine end compartment (N)')"
     },
     "execution_count": 9,
     "metadata": {},
     "output_type": "execute_result"
    }
   ],
   "source": [
    "all_methods = list(bw2data.methods)\n",
    "random_method = choice(all_methods)\n",
    "random_method"
   ],
   "metadata": {
    "collapsed": false,
    "ExecuteTime": {
     "end_time": "2023-06-27T14:48:15.882918714Z",
     "start_time": "2023-06-27T14:48:15.878450450Z"
    }
   }
  },
  {
   "cell_type": "code",
   "execution_count": 10,
   "outputs": [],
   "source": [
    "exp.add_method(random_method)"
   ],
   "metadata": {
    "collapsed": false,
    "ExecuteTime": {
     "end_time": "2023-06-27T14:48:17.742989308Z",
     "start_time": "2023-06-27T14:48:17.734336364Z"
    }
   }
  },
  {
   "cell_type": "code",
   "execution_count": 18,
   "outputs": [
    {
     "name": "stdout",
     "output_type": "stream",
     "text": [
      "2023-06-27 16:48:41,824 - enbios2.base.experiment - INFO - Running scenario 'default scenario'\n"
     ]
    },
    {
     "ename": "AttributeError",
     "evalue": "'NoneType' object has no attribute 'items'",
     "output_type": "error",
     "traceback": [
      "\u001B[0;31m---------------------------------------------------------------------------\u001B[0m",
      "\u001B[0;31mAttributeError\u001B[0m                            Traceback (most recent call last)",
      "Cell \u001B[0;32mIn[12], line 1\u001B[0m\n\u001B[0;32m----> 1\u001B[0m \u001B[43mexp\u001B[49m\u001B[38;5;241;43m.\u001B[39;49m\u001B[43mrun\u001B[49m\u001B[43m(\u001B[49m\u001B[43m)\u001B[49m\n",
      "File \u001B[0;32m/mnt/SSD/projects/LIVENLab/enbios2/enbios2/base/experiment.py:416\u001B[0m, in \u001B[0;36mExperiment.run\u001B[0;34m(self)\u001B[0m\n\u001B[1;32m    414\u001B[0m results \u001B[38;5;241m=\u001B[39m {}\n\u001B[1;32m    415\u001B[0m \u001B[38;5;28;01mfor\u001B[39;00m scenario \u001B[38;5;129;01min\u001B[39;00m \u001B[38;5;28mself\u001B[39m\u001B[38;5;241m.\u001B[39mscenarios:\n\u001B[0;32m--> 416\u001B[0m     results[scenario\u001B[38;5;241m.\u001B[39malias] \u001B[38;5;241m=\u001B[39m \u001B[38;5;28;43mself\u001B[39;49m\u001B[38;5;241;43m.\u001B[39;49m\u001B[43mrun_scenario\u001B[49m\u001B[43m(\u001B[49m\u001B[43mscenario\u001B[49m\u001B[38;5;241;43m.\u001B[39;49m\u001B[43malias\u001B[49m\u001B[43m)\u001B[49m\n\u001B[1;32m    417\u001B[0m \u001B[38;5;28;01mreturn\u001B[39;00m results\n",
      "File \u001B[0;32m/mnt/SSD/projects/LIVENLab/enbios2/enbios2/base/experiment.py:410\u001B[0m, in \u001B[0;36mExperiment.run_scenario\u001B[0;34m(self, scenario_name)\u001B[0m\n\u001B[1;32m    408\u001B[0m \u001B[38;5;28;01mdef\u001B[39;00m \u001B[38;5;21mrun_scenario\u001B[39m(\u001B[38;5;28mself\u001B[39m, scenario_name: \u001B[38;5;28mstr\u001B[39m) \u001B[38;5;241m-\u001B[39m\u001B[38;5;241m>\u001B[39m \u001B[38;5;28mdict\u001B[39m:\n\u001B[1;32m    409\u001B[0m     scenario \u001B[38;5;241m=\u001B[39m \u001B[38;5;28mself\u001B[39m\u001B[38;5;241m.\u001B[39mget_scenario(scenario_name)\n\u001B[0;32m--> 410\u001B[0m     \u001B[43mscenario\u001B[49m\u001B[38;5;241;43m.\u001B[39;49m\u001B[43mrun\u001B[49m\u001B[43m(\u001B[49m\u001B[43m)\u001B[49m\n\u001B[1;32m    411\u001B[0m     \u001B[38;5;28;01mreturn\u001B[39;00m scenario\u001B[38;5;241m.\u001B[39mresult_tree\u001B[38;5;241m.\u001B[39mas_dict(include_data\u001B[38;5;241m=\u001B[39m\u001B[38;5;28;01mTrue\u001B[39;00m)\n",
      "File \u001B[0;32m/mnt/SSD/projects/LIVENLab/enbios2/enbios2/base/experiment.py:85\u001B[0m, in \u001B[0;36mScenario.run\u001B[0;34m(self)\u001B[0m\n\u001B[1;32m     83\u001B[0m logger\u001B[38;5;241m.\u001B[39minfo(\u001B[38;5;124mf\u001B[39m\u001B[38;5;124m\"\u001B[39m\u001B[38;5;124mRunning scenario \u001B[39m\u001B[38;5;124m'\u001B[39m\u001B[38;5;132;01m{\u001B[39;00m\u001B[38;5;28mself\u001B[39m\u001B[38;5;241m.\u001B[39malias\u001B[38;5;132;01m}\u001B[39;00m\u001B[38;5;124m'\u001B[39m\u001B[38;5;124m\"\u001B[39m)\n\u001B[1;32m     84\u001B[0m bw_calc_setup \u001B[38;5;241m=\u001B[39m \u001B[38;5;28mself\u001B[39m\u001B[38;5;241m.\u001B[39mcreate_bw_calculation_setup()\n\u001B[0;32m---> 85\u001B[0m \u001B[38;5;28mself\u001B[39m\u001B[38;5;241m.\u001B[39mresults \u001B[38;5;241m=\u001B[39m \u001B[43mMultiLCA\u001B[49m\u001B[43m(\u001B[49m\u001B[43mbw_calc_setup\u001B[49m\u001B[38;5;241;43m.\u001B[39;49m\u001B[43mname\u001B[49m\u001B[43m)\u001B[49m\u001B[38;5;241m.\u001B[39mresults\n\u001B[1;32m     86\u001B[0m \u001B[38;5;28mself\u001B[39m\u001B[38;5;241m.\u001B[39mresult_tree \u001B[38;5;241m=\u001B[39m \u001B[38;5;28mself\u001B[39m\u001B[38;5;241m.\u001B[39mexperiment\u001B[38;5;241m.\u001B[39mtechnology_root_node\u001B[38;5;241m.\u001B[39mcopy()\n\u001B[1;32m     87\u001B[0m \u001B[38;5;28mself\u001B[39m\u001B[38;5;241m.\u001B[39madd_results_to_technology_tree()\n",
      "File \u001B[0;32m/mnt/SSD/projects/LIVENLab/enbios2/venv/lib/python3.9/site-packages/bw2calc/multi_lca.py:52\u001B[0m, in \u001B[0;36mMultiLCA.__init__\u001B[0;34m(self, cs_name, log_config)\u001B[0m\n\u001B[1;32m     50\u001B[0m \u001B[38;5;28mself\u001B[39m\u001B[38;5;241m.\u001B[39mfunc_units \u001B[38;5;241m=\u001B[39m cs[\u001B[38;5;124m\"\u001B[39m\u001B[38;5;124minv\u001B[39m\u001B[38;5;124m\"\u001B[39m]\n\u001B[1;32m     51\u001B[0m \u001B[38;5;28mself\u001B[39m\u001B[38;5;241m.\u001B[39mmethods \u001B[38;5;241m=\u001B[39m cs[\u001B[38;5;124m\"\u001B[39m\u001B[38;5;124mia\u001B[39m\u001B[38;5;124m\"\u001B[39m]\n\u001B[0;32m---> 52\u001B[0m \u001B[38;5;28mself\u001B[39m\u001B[38;5;241m.\u001B[39mlca \u001B[38;5;241m=\u001B[39m \u001B[43mLCA\u001B[49m\u001B[43m(\u001B[49m\u001B[43mdemand\u001B[49m\u001B[38;5;241;43m=\u001B[39;49m\u001B[38;5;28;43mself\u001B[39;49m\u001B[38;5;241;43m.\u001B[39;49m\u001B[43mall\u001B[49m\u001B[43m,\u001B[49m\u001B[43m \u001B[49m\u001B[43mmethod\u001B[49m\u001B[38;5;241;43m=\u001B[39;49m\u001B[38;5;28;43mself\u001B[39;49m\u001B[38;5;241;43m.\u001B[39;49m\u001B[43mmethods\u001B[49m\u001B[43m[\u001B[49m\u001B[38;5;241;43m0\u001B[39;49m\u001B[43m]\u001B[49m\u001B[43m,\u001B[49m\u001B[43m \u001B[49m\u001B[43mlog_config\u001B[49m\u001B[38;5;241;43m=\u001B[39;49m\u001B[43mlog_config\u001B[49m\u001B[43m)\u001B[49m\n\u001B[1;32m     53\u001B[0m logger\u001B[38;5;241m.\u001B[39minfo(\n\u001B[1;32m     54\u001B[0m     {\n\u001B[1;32m     55\u001B[0m         \u001B[38;5;124m\"\u001B[39m\u001B[38;5;124mmessage\u001B[39m\u001B[38;5;124m\"\u001B[39m: \u001B[38;5;124m\"\u001B[39m\u001B[38;5;124mStarted MultiLCA calculation\u001B[39m\u001B[38;5;124m\"\u001B[39m,\n\u001B[0;32m   (...)\u001B[0m\n\u001B[1;32m     58\u001B[0m     }\n\u001B[1;32m     59\u001B[0m )\n\u001B[1;32m     60\u001B[0m \u001B[38;5;28mself\u001B[39m\u001B[38;5;241m.\u001B[39mlca\u001B[38;5;241m.\u001B[39mlci()\n",
      "File \u001B[0;32m/mnt/SSD/projects/LIVENLab/enbios2/venv/lib/python3.9/site-packages/bw2calc/lca.py:104\u001B[0m, in \u001B[0;36mLCA.__init__\u001B[0;34m(self, demand, method, weighting, normalization, data_objs, remapping_dicts, log_config, seed_override, use_arrays, use_distributions)\u001B[0m\n\u001B[1;32m     96\u001B[0m \u001B[38;5;28mself\u001B[39m\u001B[38;5;241m.\u001B[39mseed_override \u001B[38;5;241m=\u001B[39m seed_override\n\u001B[1;32m     98\u001B[0m message \u001B[38;5;241m=\u001B[39m \u001B[38;5;124m\"\"\"\u001B[39m\u001B[38;5;124mInitialized LCA object. Demand: \u001B[39m\u001B[38;5;132;01m{demand}\u001B[39;00m\u001B[38;5;124m, data_objs: \u001B[39m\u001B[38;5;132;01m{data_objs}\u001B[39;00m\u001B[38;5;124m\"\"\"\u001B[39m\u001B[38;5;241m.\u001B[39mformat(\n\u001B[1;32m     99\u001B[0m     demand\u001B[38;5;241m=\u001B[39m\u001B[38;5;28mself\u001B[39m\u001B[38;5;241m.\u001B[39mdemand, data_objs\u001B[38;5;241m=\u001B[39m\u001B[38;5;28mself\u001B[39m\u001B[38;5;241m.\u001B[39mpackages\n\u001B[1;32m    100\u001B[0m )\n\u001B[1;32m    101\u001B[0m logger\u001B[38;5;241m.\u001B[39minfo(\n\u001B[1;32m    102\u001B[0m     message,\n\u001B[1;32m    103\u001B[0m     extra\u001B[38;5;241m=\u001B[39m{\n\u001B[0;32m--> 104\u001B[0m         \u001B[38;5;124m\"\u001B[39m\u001B[38;5;124mdemand\u001B[39m\u001B[38;5;124m\"\u001B[39m: \u001B[43mwrap_functional_unit\u001B[49m\u001B[43m(\u001B[49m\u001B[38;5;28;43mself\u001B[39;49m\u001B[38;5;241;43m.\u001B[39;49m\u001B[43mdemand\u001B[49m\u001B[43m)\u001B[49m,\n\u001B[1;32m    105\u001B[0m         \u001B[38;5;124m\"\u001B[39m\u001B[38;5;124mdata_objs\u001B[39m\u001B[38;5;124m\"\u001B[39m: \u001B[38;5;28mstr\u001B[39m(\u001B[38;5;28mself\u001B[39m\u001B[38;5;241m.\u001B[39mpackages),\n\u001B[1;32m    106\u001B[0m         \u001B[38;5;124m\"\u001B[39m\u001B[38;5;124mbw2calc\u001B[39m\u001B[38;5;124m\"\u001B[39m: __version__,\n\u001B[1;32m    107\u001B[0m         \u001B[38;5;124m\"\u001B[39m\u001B[38;5;124mpypardiso\u001B[39m\u001B[38;5;124m\"\u001B[39m: PYPARDISO,\n\u001B[1;32m    108\u001B[0m         \u001B[38;5;124m\"\u001B[39m\u001B[38;5;124mnumpy\u001B[39m\u001B[38;5;124m\"\u001B[39m: np\u001B[38;5;241m.\u001B[39m__version__,\n\u001B[1;32m    109\u001B[0m         \u001B[38;5;124m\"\u001B[39m\u001B[38;5;124mmatrix_utils\u001B[39m\u001B[38;5;124m\"\u001B[39m: mu\u001B[38;5;241m.\u001B[39m__version__,\n\u001B[1;32m    110\u001B[0m         \u001B[38;5;124m\"\u001B[39m\u001B[38;5;124mbw_processing\u001B[39m\u001B[38;5;124m\"\u001B[39m: bwp\u001B[38;5;241m.\u001B[39m__version__,\n\u001B[1;32m    111\u001B[0m         \u001B[38;5;124m\"\u001B[39m\u001B[38;5;124mutc\u001B[39m\u001B[38;5;124m\"\u001B[39m: datetime\u001B[38;5;241m.\u001B[39mdatetime\u001B[38;5;241m.\u001B[39mutcnow(),\n\u001B[1;32m    112\u001B[0m     },\n\u001B[1;32m    113\u001B[0m )\n",
      "File \u001B[0;32m/mnt/SSD/projects/LIVENLab/enbios2/venv/lib/python3.9/site-packages/bw2calc/utils.py:36\u001B[0m, in \u001B[0;36mwrap_functional_unit\u001B[0;34m(dct)\u001B[0m\n\u001B[1;32m     33\u001B[0m \u001B[38;5;250m\u001B[39m\u001B[38;5;124;03m\"\"\"Transform functional units for effective logging.\u001B[39;00m\n\u001B[1;32m     34\u001B[0m \u001B[38;5;124;03mTurns ``Activity`` objects into their keys.\"\"\"\u001B[39;00m\n\u001B[1;32m     35\u001B[0m data \u001B[38;5;241m=\u001B[39m []\n\u001B[0;32m---> 36\u001B[0m \u001B[38;5;28;01mfor\u001B[39;00m key, amount \u001B[38;5;129;01min\u001B[39;00m \u001B[43mdct\u001B[49m\u001B[38;5;241;43m.\u001B[39;49m\u001B[43mitems\u001B[49m():\n\u001B[1;32m     37\u001B[0m     \u001B[38;5;28;01mif\u001B[39;00m \u001B[38;5;28misinstance\u001B[39m(key, \u001B[38;5;28mint\u001B[39m):\n\u001B[1;32m     38\u001B[0m         data\u001B[38;5;241m.\u001B[39mappend({\u001B[38;5;124m\"\u001B[39m\u001B[38;5;124mid\u001B[39m\u001B[38;5;124m\"\u001B[39m: key, \u001B[38;5;124m\"\u001B[39m\u001B[38;5;124mamount\u001B[39m\u001B[38;5;124m\"\u001B[39m: amount})\n",
      "\u001B[0;31mAttributeError\u001B[0m: 'NoneType' object has no attribute 'items'"
     ]
    }
   ],
   "source": [
    "exp.run()"
   ],
   "metadata": {
    "collapsed": false
   }
  },
  {
   "cell_type": "code",
   "execution_count": 11,
   "outputs": [
    {
     "data": {
      "text/plain": "{'EF v3.1_eutrophication: marine_fraction of nutrients reaching marine end compartment (N)': ExperimentMethodData(id=('EF v3.1', 'eutrophication: marine', 'fraction of nutrients reaching marine end compartment (N)'), alias='EF v3.1_eutrophication: marine_fraction of nutrients reaching marine end compartment (N)')}"
     },
     "execution_count": 11,
     "metadata": {},
     "output_type": "execute_result"
    }
   ],
   "source": [
    "exp.methods"
   ],
   "metadata": {
    "collapsed": false,
    "ExecuteTime": {
     "end_time": "2023-06-27T14:48:20.758631288Z",
     "start_time": "2023-06-27T14:48:20.744172412Z"
    }
   }
  },
  {
   "cell_type": "code",
   "execution_count": null,
   "outputs": [],
   "source": [],
   "metadata": {
    "collapsed": false
   }
  }
 ],
 "metadata": {
  "kernelspec": {
   "display_name": "Python 3",
   "language": "python",
   "name": "python3"
  },
  "language_info": {
   "codemirror_mode": {
    "name": "ipython",
    "version": 2
   },
   "file_extension": ".py",
   "mimetype": "text/x-python",
   "name": "python",
   "nbconvert_exporter": "python",
   "pygments_lexer": "ipython2",
   "version": "2.7.6"
  }
 },
 "nbformat": 4,
 "nbformat_minor": 0
}
