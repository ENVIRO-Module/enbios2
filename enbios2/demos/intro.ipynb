{
 "cells": [
  {
   "cell_type": "code",
   "execution_count": 1,
   "outputs": [],
   "source": [
    "from random import choice\n",
    "from enbios2.base.experiment import Experiment\n",
    "import bw2data\n",
    "\n",
    "from enbios2.models.experiment_models import ExperimentData"
   ],
   "metadata": {
    "collapsed": false,
    "ExecuteTime": {
     "end_time": "2023-07-06T08:18:13.280814977Z",
     "start_time": "2023-07-06T08:18:08.554252802Z"
    }
   }
  },
  {
   "cell_type": "code",
   "execution_count": 3,
   "outputs": [
    {
     "name": "stdout",
     "output_type": "stream",
     "text": [
      "2023-07-06 10:18:13,704 - enbios2.base.experiment - DEBUG - activity list\n"
     ]
    }
   ],
   "source": [
    "bw2data.projects.set_current(\"ecoinvent\")"
   ],
   "metadata": {
    "collapsed": false,
    "ExecuteTime": {
     "end_time": "2023-07-06T08:18:13.791596191Z",
     "start_time": "2023-07-06T08:18:13.283953508Z"
    }
   }
  },
  {
   "cell_type": "code",
   "execution_count": 4,
   "outputs": [
    {
     "data": {
      "text/plain": "['biosphere3',\n 'apos_3.9.1_default',\n 'consequential_3.9.1_default',\n 'cutoff_3.9.1_default',\n 'cutoff_3.9_default']"
     },
     "execution_count": 4,
     "metadata": {},
     "output_type": "execute_result"
    }
   ],
   "source": [
    "list(bw2data.databases)"
   ],
   "metadata": {
    "collapsed": false,
    "ExecuteTime": {
     "end_time": "2023-07-06T08:18:13.846077711Z",
     "start_time": "2023-07-06T08:18:13.751110389Z"
    }
   }
  },
  {
   "cell_type": "code",
   "execution_count": 5,
   "outputs": [
    {
     "data": {
      "text/plain": "['wood cladding production, softwood' (square meter, RoW, None),\n 'treatment of brake wear emissions, lorry' (kilogram, RoW, None),\n 'clay brick production' (kilogram, RoW, None),\n 'market for heat, for reuse in municipal waste incineration only' (megajoule, CH, None),\n 'land already in use, annual cropland to perennial crop' (kilogram, BR-AC, None),\n 'market for glycerine' (kilogram, RER, None),\n 'chlorothalonil production' (kilogram, RER, None),\n 'silencer production, steel, DN 315, 50 mm' (unit, CH, None),\n 'natural gas, liquefied, import from US' (cubic meter, RNA, None),\n 'market for used electric bicycle' (unit, GLO, None)]"
     },
     "execution_count": 5,
     "metadata": {},
     "output_type": "execute_result"
    }
   ],
   "source": [
    "database_name = 'cutoff_3.9.1_default'\n",
    "db = bw2data.Database(database_name)\n",
    "activities = [db.random() for _ in range(10)]\n",
    "activities"
   ],
   "metadata": {
    "collapsed": false,
    "ExecuteTime": {
     "end_time": "2023-07-06T08:18:16.165640346Z",
     "start_time": "2023-07-06T08:18:13.845781830Z"
    }
   }
  },
  {
   "cell_type": "code",
   "execution_count": 6,
   "outputs": [],
   "source": [
    "experiment_activities = [\n",
    "    {\n",
    "        \"id\": {\n",
    "            \"code\": act[\"code\"],\n",
    "            \"name\": act[\"name\"],\n",
    "        },\n",
    "        \"output\": [act[\"unit\"], 1]\n",
    "    }\n",
    "    for act in activities\n",
    "]"
   ],
   "metadata": {
    "collapsed": false,
    "ExecuteTime": {
     "end_time": "2023-07-06T08:18:16.171013006Z",
     "start_time": "2023-07-06T08:18:16.166971610Z"
    }
   }
  },
  {
   "cell_type": "code",
   "execution_count": 7,
   "outputs": [
    {
     "data": {
      "text/plain": "[{'id': {'code': '19f62a0f0efde22a0da52046b0b5b055',\n   'name': 'wood cladding production, softwood'},\n  'output': ['square meter', 1]},\n {'id': {'code': '695fdb758e5ce639870829365a15dc26',\n   'name': 'treatment of brake wear emissions, lorry'},\n  'output': ['kilogram', 1]},\n {'id': {'code': 'a3dc16552c3afede8fb60d4b44332ccf',\n   'name': 'clay brick production'},\n  'output': ['kilogram', 1]},\n {'id': {'code': 'ad924a4abb1e9994a17bb5eebaffdbe4',\n   'name': 'market for heat, for reuse in municipal waste incineration only'},\n  'output': ['megajoule', 1]},\n {'id': {'code': '446b255c4de1c27124212b15a8909cea',\n   'name': 'land already in use, annual cropland to perennial crop'},\n  'output': ['kilogram', 1]},\n {'id': {'code': 'bed0525f0c75f4eb5d59f45dcf8a036d',\n   'name': 'market for glycerine'},\n  'output': ['kilogram', 1]},\n {'id': {'code': '577e9faaeca3a1eec1f584459e5de5ee',\n   'name': 'chlorothalonil production'},\n  'output': ['kilogram', 1]},\n {'id': {'code': 'a9e9f56f6f6c8996130ed58a13445960',\n   'name': 'silencer production, steel, DN 315, 50 mm'},\n  'output': ['unit', 1]},\n {'id': {'code': 'f711c346838e126a07b0b4aaf95fc4a3',\n   'name': 'natural gas, liquefied, import from US'},\n  'output': ['cubic meter', 1]},\n {'id': {'code': '814aed77ca2f20675335715b9692a5fd',\n   'name': 'market for used electric bicycle'},\n  'output': ['unit', 1]}]"
     },
     "execution_count": 7,
     "metadata": {},
     "output_type": "execute_result"
    }
   ],
   "source": [
    "experiment_activities"
   ],
   "metadata": {
    "collapsed": false,
    "ExecuteTime": {
     "end_time": "2023-07-06T08:18:16.328128618Z",
     "start_time": "2023-07-06T08:18:16.172329395Z"
    }
   }
  },
  {
   "cell_type": "code",
   "execution_count": 8,
   "outputs": [
    {
     "data": {
      "text/plain": "[('ReCiPe 2016 v1.03, endpoint (I) no LT',\n  'human health no LT',\n  'water use: human health no LT'),\n ('ReCiPe 2016 v1.03, midpoint (E)',\n  'human toxicity: non-carcinogenic',\n  'human toxicity potential (HTPnc)'),\n ('EDIP 2003 no LT', 'non-renewable resources no LT', 'coal no LT')]"
     },
     "execution_count": 8,
     "metadata": {},
     "output_type": "execute_result"
    }
   ],
   "source": [
    "all_methods = list(bw2data.methods)\n",
    "methods = [choice(all_methods) for _ in range(3)]\n",
    "methods"
   ],
   "metadata": {
    "collapsed": false,
    "ExecuteTime": {
     "end_time": "2023-07-06T08:18:16.487735339Z",
     "start_time": "2023-07-06T08:18:16.328441062Z"
    }
   }
  },
  {
   "cell_type": "code",
   "execution_count": 9,
   "outputs": [],
   "source": [
    "experiment_methods = [\n",
    "    {\n",
    "        \"id\": method\n",
    "    }\n",
    "    for method in methods\n",
    "]"
   ],
   "metadata": {
    "collapsed": false,
    "ExecuteTime": {
     "end_time": "2023-07-06T08:18:16.654865514Z",
     "start_time": "2023-07-06T08:18:16.488007270Z"
    }
   }
  },
  {
   "cell_type": "code",
   "execution_count": 10,
   "outputs": [],
   "source": [
    "exp_data = ExperimentData(\n",
    "    bw_project=\"ecoinvent\",\n",
    "    activities=experiment_activities,\n",
    "    methods=experiment_methods\n",
    ")"
   ],
   "metadata": {
    "collapsed": false,
    "ExecuteTime": {
     "end_time": "2023-07-06T08:18:16.826659318Z",
     "start_time": "2023-07-06T08:18:16.657621963Z"
    }
   }
  },
  {
   "cell_type": "code",
   "execution_count": 11,
   "outputs": [
    {
     "name": "stdout",
     "output_type": "stream",
     "text": [
      "2023-07-06 10:18:17,002 - enbios2.base.experiment - DEBUG - activity list\n"
     ]
    }
   ],
   "source": [
    "exp: Experiment = Experiment(exp_data)"
   ],
   "metadata": {
    "collapsed": false,
    "ExecuteTime": {
     "end_time": "2023-07-06T08:18:26.186160536Z",
     "start_time": "2023-07-06T08:18:16.827625053Z"
    }
   }
  },
  {
   "cell_type": "code",
   "execution_count": 18,
   "outputs": [
    {
     "name": "stdout",
     "output_type": "stream",
     "text": [
      "2023-07-05 16:19:46,682 - enbios2.base.experiment - INFO - Running scenario 'default scenario'\n",
      "2023-07-05 16:21:30,428 - enbios2.base.experiment - WARNING - Cannot aggregate output to parent: root. From earlier children the base unit is 1.0 kilogram and from market group for natural gas, high pressure it is meter ** 3. Cannot convert from 'kilogram' ([mass]) to 'meter ** 3' ([length] ** 3)\n",
      "2023-07-05 16:21:30,431 - enbios2.base.experiment - WARNING - Cannot aggregate output to parent: root. From earlier children the base unit is 2.0 kilogram and from electricity production, hydro, pumped storage it is kilowatt_hour. Cannot convert from 'kilogram' ([mass]) to 'kilowatt_hour' ([length] ** 2 * [mass] / [time] ** 2)\n",
      "2023-07-05 16:21:30,432 - enbios2.base.experiment - WARNING - Cannot aggregate output to parent: root. From earlier children the base unit is 2.0 kilogram and from electricity production, hydro, run-of-river it is kilowatt_hour. Cannot convert from 'kilogram' ([mass]) to 'kilowatt_hour' ([length] ** 2 * [mass] / [time] ** 2)\n",
      "2023-07-05 16:21:30,435 - enbios2.base.experiment - WARNING - Cannot aggregate output to parent: root. From earlier children the base unit is 5.0 kilogram and from planing, lath, softwood, u=20% it is meter ** 3. Cannot convert from 'kilogram' ([mass]) to 'meter ** 3' ([length] ** 3)\n",
      "2023-07-05 16:21:30,436 - enbios2.base.experiment - WARNING - Cannot aggregate output to parent: root. From earlier children the base unit is 5.0 kilogram and from generator production, 200kW electrical it is micronit. Cannot convert from 'kilogram' ([mass]) to 'micronit' ([luminosity] / [length] ** 2)\n"
     ]
    }
   ],
   "source": [
    "results = exp.run()"
   ],
   "metadata": {
    "collapsed": false,
    "ExecuteTime": {
     "end_time": "2023-07-05T14:21:30.471513089Z",
     "start_time": "2023-07-05T14:19:46.690136943Z"
    }
   }
  },
  {
   "cell_type": "code",
   "execution_count": 20,
   "outputs": [
    {
     "data": {
      "text/plain": "{'default scenario': {'name': 'root',\n  'children': [{'name': 'market for waste polyethylene terephthalate',\n    'children': [],\n    'data': ScenarioResultNodeData(output=('kilogram', 1.0), results={'EF v3.1 EN15804_ozone depletion_ozone depletion potential (ODP)': -6.968850056331269e-10, 'ReCiPe 2016 v1.03, endpoint (E)_total: natural resources_natural resources': -0.0036601317945314927, 'ReCiPe 2016 v1.03, endpoint (H)_ecosystem quality_photochemical oxidant formation: terrestrial ecosystems': -6.448358281675913e-11})},\n   {'name': 'market group for natural gas, high pressure',\n    'children': [],\n    'data': ScenarioResultNodeData(output=('cubic_meter', 1.0), results={'EF v3.1 EN15804_ozone depletion_ozone depletion potential (ODP)': 6.015459474346291e-08, 'ReCiPe 2016 v1.03, endpoint (E)_total: natural resources_natural resources': 0.340832970055725, 'ReCiPe 2016 v1.03, endpoint (H)_ecosystem quality_photochemical oxidant formation: terrestrial ecosystems': 2.3076906566011318e-10})},\n   {'name': 'market for paper, woodcontaining, lightweight coated',\n    'children': [],\n    'data': ScenarioResultNodeData(output=('kilogram', 1.0), results={'EF v3.1 EN15804_ozone depletion_ozone depletion potential (ODP)': 5.3206833227755424e-08, 'ReCiPe 2016 v1.03, endpoint (E)_total: natural resources_natural resources': 0.2032238377242202, 'ReCiPe 2016 v1.03, endpoint (H)_ecosystem quality_photochemical oxidant formation: terrestrial ecosystems': 5.257583980565444e-10})},\n   {'name': 'electricity production, hydro, pumped storage',\n    'children': [],\n    'data': ScenarioResultNodeData(output=('kilowatt_hour', 1.0), results={'EF v3.1 EN15804_ozone depletion_ozone depletion potential (ODP)': 1.6525057039294427e-09, 'ReCiPe 2016 v1.03, endpoint (E)_total: natural resources_natural resources': 0.0359376805319168, 'ReCiPe 2016 v1.03, endpoint (H)_ecosystem quality_photochemical oxidant formation: terrestrial ecosystems': 4.30916242606925e-10})},\n   {'name': 'electricity production, hydro, run-of-river',\n    'children': [],\n    'data': ScenarioResultNodeData(output=('kilowatt_hour', 1.0), results={'EF v3.1 EN15804_ozone depletion_ozone depletion potential (ODP)': 4.7657352770001833e-11, 'ReCiPe 2016 v1.03, endpoint (E)_total: natural resources_natural resources': 0.00036309914959826707, 'ReCiPe 2016 v1.03, endpoint (H)_ecosystem quality_photochemical oxidant formation: terrestrial ecosystems': 2.309771682675907e-12})},\n   {'name': 'fibre production, cotton, ginning',\n    'children': [],\n    'data': ScenarioResultNodeData(output=('kilogram', 1.0), results={'EF v3.1 EN15804_ozone depletion_ozone depletion potential (ODP)': 1.0643304808349443e-08, 'ReCiPe 2016 v1.03, endpoint (E)_total: natural resources_natural resources': 0.0641691118940172, 'ReCiPe 2016 v1.03, endpoint (H)_ecosystem quality_photochemical oxidant formation: terrestrial ecosystems': 7.650503234497522e-10})},\n   {'name': 'treatment of spent antifreezer liquid, hazardous waste incineration',\n    'children': [],\n    'data': ScenarioResultNodeData(output=('kilogram', 1.0), results={'EF v3.1 EN15804_ozone depletion_ozone depletion potential (ODP)': -3.130183020495317e-08, 'ReCiPe 2016 v1.03, endpoint (E)_total: natural resources_natural resources': -0.28730012891702034, 'ReCiPe 2016 v1.03, endpoint (H)_ecosystem quality_photochemical oxidant formation: terrestrial ecosystems': -3.504771312056107e-10})},\n   {'name': 'pyridine-compound production',\n    'children': [],\n    'data': ScenarioResultNodeData(output=('kilogram', 1.0), results={'EF v3.1 EN15804_ozone depletion_ozone depletion potential (ODP)': 2.267025260979995e-06, 'ReCiPe 2016 v1.03, endpoint (E)_total: natural resources_natural resources': 1.0806061421100945, 'ReCiPe 2016 v1.03, endpoint (H)_ecosystem quality_photochemical oxidant formation: terrestrial ecosystems': 2.811710037861902e-09})},\n   {'name': 'planing, lath, softwood, u=20%',\n    'children': [],\n    'data': ScenarioResultNodeData(output=('cubic_meter', 1.0), results={'EF v3.1 EN15804_ozone depletion_ozone depletion potential (ODP)': 1.1817867799655416e-06, 'ReCiPe 2016 v1.03, endpoint (E)_total: natural resources_natural resources': 6.994867317767239, 'ReCiPe 2016 v1.03, endpoint (H)_ecosystem quality_photochemical oxidant formation: terrestrial ecosystems': 5.2035625376635794e-08})},\n   {'name': 'generator production, 200kW electrical',\n    'children': [],\n    'data': ScenarioResultNodeData(output=('unit', 1.0), results={'EF v3.1 EN15804_ozone depletion_ozone depletion potential (ODP)': 6.748581898776833e-05, 'ReCiPe 2016 v1.03, endpoint (E)_total: natural resources_natural resources': 445.08039322860265, 'ReCiPe 2016 v1.03, endpoint (H)_ecosystem quality_photochemical oxidant formation: terrestrial ecosystems': 2.879417438332e-06})}],\n  'data': ScenarioResultNodeData(output=('kilogram', 5.0), results={'EF v3.1 EN15804_ozone depletion_ozone depletion potential (ODP)': 7.102833720933955e-05, 'ReCiPe 2016 v1.03, endpoint (E)_total: natural resources_natural resources': 453.5094331271239, 'ReCiPe 2016 v1.03, endpoint (H)_ecosystem quality_photochemical oxidant formation: terrestrial ecosystems': 2.935804616833931e-06})}}"
     },
     "execution_count": 20,
     "metadata": {},
     "output_type": "execute_result"
    }
   ],
   "source": [
    "results"
   ],
   "metadata": {
    "collapsed": false,
    "ExecuteTime": {
     "end_time": "2023-07-05T14:21:30.681991879Z",
     "start_time": "2023-07-05T14:21:30.542509748Z"
    }
   }
  },
  {
   "cell_type": "code",
   "execution_count": null,
   "outputs": [],
   "source": [
    "# SCENARIOS NEED SOME REPAIR!"
   ],
   "metadata": {
    "collapsed": false
   }
  },
  {
   "cell_type": "code",
   "execution_count": 12,
   "outputs": [
    {
     "data": {
      "text/plain": "[{'market for heat, for reuse in municipal waste incineration only': ['megajoule',\n   3]},\n {'land already in use, annual cropland to perennial crop': ['kilogram', 3]},\n {'natural gas, liquefied, import from US': ['cubic meter', 3]}]"
     },
     "execution_count": 12,
     "metadata": {},
     "output_type": "execute_result"
    }
   ],
   "source": [
    "exp_data.scenarios = []\n",
    "\n",
    "for _ in range(3):\n",
    "    random_activity = choice(list(exp.activitiesMap.keys()))\n",
    "    # print(random_activity)\n",
    "    exp_data.scenarios.append(\n",
    "        {\n",
    "            random_activity: [exp.activitiesMap[random_activity].output.unit, 3]\n",
    "        }\n",
    "    )\n",
    "\n",
    "exp_data.scenarios"
   ],
   "metadata": {
    "collapsed": false,
    "ExecuteTime": {
     "end_time": "2023-07-06T08:18:26.196975396Z",
     "start_time": "2023-07-06T08:18:26.187918802Z"
    }
   }
  },
  {
   "cell_type": "code",
   "execution_count": 13,
   "outputs": [
    {
     "name": "stdout",
     "output_type": "stream",
     "text": [
      "2023-07-06 10:18:26,296 - enbios2.base.experiment - DEBUG - activity list\n"
     ]
    },
    {
     "ename": "AttributeError",
     "evalue": "'dict' object has no attribute 'alias'",
     "output_type": "error",
     "traceback": [
      "\u001B[0;31m---------------------------------------------------------------------------\u001B[0m",
      "\u001B[0;31mAttributeError\u001B[0m                            Traceback (most recent call last)",
      "Cell \u001B[0;32mIn[13], line 1\u001B[0m\n\u001B[0;32m----> 1\u001B[0m exp: Experiment \u001B[38;5;241m=\u001B[39m \u001B[43mExperiment\u001B[49m\u001B[43m(\u001B[49m\u001B[43mexp_data\u001B[49m\u001B[43m)\u001B[49m\n\u001B[1;32m      2\u001B[0m \u001B[38;5;66;03m# results = exp.run()\u001B[39;00m\n",
      "File \u001B[0;32m/mnt/SSD/projects/LIVENLab/enbios2/enbios2/base/experiment.py:184\u001B[0m, in \u001B[0;36mExperiment.__init__\u001B[0;34m(self, raw_data)\u001B[0m\n\u001B[1;32m    181\u001B[0m \u001B[38;5;28mself\u001B[39m\u001B[38;5;241m.\u001B[39mtechnology_root_node: BasicTreeNode[ScenarioResultNodeData] \u001B[38;5;241m=\u001B[39m \u001B[38;5;28mself\u001B[39m\u001B[38;5;241m.\u001B[39mcreate_technology_tree()\n\u001B[1;32m    183\u001B[0m \u001B[38;5;28mself\u001B[39m\u001B[38;5;241m.\u001B[39mmethods: \u001B[38;5;28mdict\u001B[39m[\u001B[38;5;28mstr\u001B[39m, ExperimentMethodData] \u001B[38;5;241m=\u001B[39m Experiment\u001B[38;5;241m.\u001B[39mvalidate_methods(\u001B[38;5;28mself\u001B[39m\u001B[38;5;241m.\u001B[39mprepare_methods())\n\u001B[0;32m--> 184\u001B[0m \u001B[38;5;28mself\u001B[39m\u001B[38;5;241m.\u001B[39mscenarios: \u001B[38;5;28mlist\u001B[39m[Scenario] \u001B[38;5;241m=\u001B[39m \u001B[38;5;28;43mself\u001B[39;49m\u001B[38;5;241;43m.\u001B[39;49m\u001B[43mvalidate_scenarios\u001B[49m\u001B[43m(\u001B[49m\u001B[43m)\u001B[49m\n",
      "File \u001B[0;32m/mnt/SSD/projects/LIVENLab/enbios2/enbios2/base/experiment.py:387\u001B[0m, in \u001B[0;36mExperiment.validate_scenarios\u001B[0;34m(self)\u001B[0m\n\u001B[1;32m    385\u001B[0m raw_scenarios: \u001B[38;5;28mlist\u001B[39m[ExperimentScenarioData] \u001B[38;5;241m=\u001B[39m \u001B[38;5;28mself\u001B[39m\u001B[38;5;241m.\u001B[39mraw_data\u001B[38;5;241m.\u001B[39mscenarios\n\u001B[1;32m    386\u001B[0m \u001B[38;5;28;01mfor\u001B[39;00m index, _scenario \u001B[38;5;129;01min\u001B[39;00m \u001B[38;5;28menumerate\u001B[39m(raw_scenarios):\n\u001B[0;32m--> 387\u001B[0m     \u001B[38;5;28;01mif\u001B[39;00m \u001B[38;5;129;01mnot\u001B[39;00m \u001B[43m_scenario\u001B[49m\u001B[38;5;241;43m.\u001B[39;49m\u001B[43malias\u001B[49m:\n\u001B[1;32m    388\u001B[0m         _scenario\u001B[38;5;241m.\u001B[39malias \u001B[38;5;241m=\u001B[39m ExperimentScenarioData\u001B[38;5;241m.\u001B[39malias_factory(index)\n\u001B[1;32m    389\u001B[0m     scenarios\u001B[38;5;241m.\u001B[39mappend(validate_scenario(_scenario))\n",
      "\u001B[0;31mAttributeError\u001B[0m: 'dict' object has no attribute 'alias'"
     ]
    }
   ],
   "source": [
    "exp: Experiment = Experiment(exp_data)\n",
    "# results = exp.run()"
   ],
   "metadata": {
    "collapsed": false,
    "ExecuteTime": {
     "end_time": "2023-07-06T08:18:28.832834734Z",
     "start_time": "2023-07-06T08:18:26.198320705Z"
    }
   }
  },
  {
   "cell_type": "code",
   "execution_count": null,
   "outputs": [],
   "source": [
    "exp.scenarios"
   ],
   "metadata": {
    "collapsed": false,
    "ExecuteTime": {
     "start_time": "2023-07-06T08:18:28.823054177Z"
    }
   }
  },
  {
   "cell_type": "code",
   "execution_count": null,
   "outputs": [],
   "source": [],
   "metadata": {
    "collapsed": false
   }
  }
 ],
 "metadata": {
  "kernelspec": {
   "display_name": "Python 3",
   "language": "python",
   "name": "python3"
  },
  "language_info": {
   "codemirror_mode": {
    "name": "ipython",
    "version": 2
   },
   "file_extension": ".py",
   "mimetype": "text/x-python",
   "name": "python",
   "nbconvert_exporter": "python",
   "pygments_lexer": "ipython2",
   "version": "2.7.6"
  }
 },
 "nbformat": 4,
 "nbformat_minor": 0
}
