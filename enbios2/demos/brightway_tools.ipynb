{
 "cells": [
  {
   "cell_type": "code",
   "execution_count": 1,
   "outputs": [],
   "source": [
    "%load_ext autoreload\n",
    "%autoreload 2"
   ],
   "metadata": {
    "collapsed": false,
    "ExecuteTime": {
     "end_time": "2023-08-02T07:59:13.442255220Z",
     "start_time": "2023-08-02T07:59:13.425662858Z"
    }
   },
   "id": "5532348f32e10f86"
  },
  {
   "cell_type": "code",
   "execution_count": 2,
   "outputs": [
    {
     "name": "stdout",
     "output_type": "stream",
     "text": [
      "Project: default\n",
      "['biosphere3']\n",
      "Project: ecoinvent\n",
      "['biosphere3']\n"
     ]
    }
   ],
   "source": [
    "from enbios2.bw2.util import report\n",
    "\n",
    "report()"
   ],
   "metadata": {
    "collapsed": false,
    "ExecuteTime": {
     "end_time": "2023-08-02T07:59:16.369639772Z",
     "start_time": "2023-08-02T07:59:13.448044014Z"
    }
   },
   "id": "initial_id"
  },
  {
   "cell_type": "code",
   "execution_count": 3,
   "outputs": [
    {
     "data": {
      "text/plain": "[EcoinventDataset: cutoff_3.9.1_default (no BW2 project index),\n EcoinventDataset: consequential_3.9.1_default (no BW2 project index),\n EcoinventDataset: apos_3.9.1_default (no BW2 project index)]"
     },
     "execution_count": 3,
     "metadata": {},
     "output_type": "execute_result"
    }
   ],
   "source": [
    "from enbios2.ecoinvent import get_ecoinvent_dataset_index\n",
    "\n",
    "get_ecoinvent_dataset_index()"
   ],
   "metadata": {
    "collapsed": false,
    "ExecuteTime": {
     "end_time": "2023-08-02T07:59:16.483261019Z",
     "start_time": "2023-08-02T07:59:16.373578232Z"
    }
   },
   "id": "f328c9298797d303"
  },
  {
   "cell_type": "code",
   "execution_count": 4,
   "outputs": [
    {
     "name": "stdout",
     "output_type": "stream",
     "text": [
      "2023-08-02 09:59:16,450 - enbios2.ecoinvent.ecoinvent_index - WARNING - directory format not valid: EcoinventIndex entry 'system_model' is not valid: 'LCIA'. Must be of {'consequential', 'cutoff', 'apos'} ('LCIA_3.9.1_default'/ /home/ram/projects/enbios2/data/ecoinvent/ecoinvent 3.9.1_LCIA_implementation)\n",
      "2023-08-02 09:59:16,452 - enbios2.ecoinvent.ecoinvent_index - DEBUG - Ecoinvent dataset 'cutoff_3.9.1_default' already indexed and will not be added\n",
      "2023-08-02 09:59:16,453 - enbios2.ecoinvent.ecoinvent_index - DEBUG - Ecoinvent dataset 'consequential_3.9.1_default' already indexed and will not be added\n",
      "2023-08-02 09:59:16,455 - enbios2.ecoinvent.ecoinvent_index - DEBUG - Ecoinvent dataset 'apos_3.9.1_default' already indexed and will not be added\n"
     ]
    },
    {
     "data": {
      "text/plain": "[EcoinventDataset: cutoff_3.9.1_default (no BW2 project index),\n EcoinventDataset: consequential_3.9.1_default (no BW2 project index),\n EcoinventDataset: apos_3.9.1_default (no BW2 project index)]"
     },
     "execution_count": 4,
     "metadata": {},
     "output_type": "execute_result"
    }
   ],
   "source": [
    "from enbios2.ecoinvent.ecoinvent_index import analyze_directory\n",
    "\n",
    "datasets = analyze_directory()\n",
    "datasets"
   ],
   "metadata": {
    "collapsed": false,
    "ExecuteTime": {
     "end_time": "2023-08-02T07:59:16.487710252Z",
     "start_time": "2023-08-02T07:59:16.426091112Z"
    }
   },
   "id": "3d049163c3b991e4"
  },
  {
   "cell_type": "code",
   "execution_count": 5,
   "outputs": [
    {
     "name": "stdout",
     "output_type": "stream",
     "text": [
      "2023-08-02 09:59:16,508 - enbios2.ecoinvent.ecoinvent_index - DEBUG - Project already exists: ecoinvent. switching to it.\n",
      "2023-08-02 09:59:16,522 - enbios2.ecoinvent.ecoinvent_index - INFO - Importing ecoinvent dataset to ecoinvent/cutoff_3.9.1_default\n",
      "Extracting XML data from 21238 datasets\n",
      "Extracted 21238 datasets in 95.67 seconds\n",
      "Applying strategy: normalize_units\n",
      "Applying strategy: update_ecoinvent_locations\n",
      "Applying strategy: remove_zero_amount_coproducts\n",
      "Applying strategy: remove_zero_amount_inputs_with_no_activity\n",
      "Applying strategy: remove_unnamed_parameters\n",
      "Applying strategy: es2_assign_only_product_with_amount_as_reference_product\n",
      "Applying strategy: assign_single_product_as_activity\n",
      "Applying strategy: create_composite_code\n",
      "Applying strategy: drop_unspecified_subcategories\n",
      "Applying strategy: fix_ecoinvent_flows_pre35\n",
      "Applying strategy: drop_temporary_outdated_biosphere_flows\n"
     ]
    },
    {
     "name": "stderr",
     "output_type": "stream",
     "text": [
      "/home/ram/projects/enbios2/venv/lib/python3.11/site-packages/bw2io/strategies/ecospold2.py:997: UserWarning: Skipping migration 'fix-ecoinvent-flows-pre-35' because it isn't installed\n",
      "  warnings.warn(\n"
     ]
    },
    {
     "name": "stdout",
     "output_type": "stream",
     "text": [
      "Applying strategy: link_biosphere_by_flow_uuid\n",
      "Applying strategy: link_internal_technosphere_by_composite_code\n",
      "Applying strategy: delete_exchanges_missing_activity\n",
      "Applying strategy: delete_ghost_exchanges\n",
      "Applying strategy: remove_uncertainty_from_negative_loss_exchanges\n",
      "Applying strategy: fix_unreasonably_high_lognormal_uncertainties\n",
      "Applying strategy: set_lognormal_loc_value\n",
      "Applying strategy: convert_activity_parameters_to_list\n",
      "Applying strategy: add_cpc_classification_from_single_reference_product\n",
      "Applying strategy: delete_none_synonyms\n",
      "Applying strategy: update_social_flows_in_older_consequential\n",
      "Applied 22 strategies in 7.44 seconds\n",
      "21238 datasets\n",
      "674593 exchanges\n",
      "0 unlinked exchanges\n",
      "  \n",
      "21238 datasets\n",
      "674593 exchanges\n",
      "0 unlinked exchanges\n",
      "  \n",
      "Not able to determine geocollections for all datasets. This database is not ready for regionalization.\n",
      "Warning: No valid output stream.\n",
      "Title: Writing activities to SQLite3 database:\n",
      "  Started: 08/02/2023 10:01:00\n",
      "  Finished: 08/02/2023 10:01:52\n",
      "  Total time elapsed: 00:00:52\n",
      "  CPU %: 100.00\n",
      "  Memory %: 19.69\n",
      "Created database: cutoff_3.9.1_default\n"
     ]
    },
    {
     "data": {
      "text/plain": "<bw2io.importers.ecospold2.SingleOutputEcospold2Importer at 0x7f43ff7f9110>"
     },
     "execution_count": 5,
     "metadata": {},
     "output_type": "execute_result"
    }
   ],
   "source": [
    "from enbios2.ecoinvent.ecoinvent_index import auto_import\n",
    "\n",
    "auto_import(datasets[0])"
   ],
   "metadata": {
    "collapsed": false,
    "ExecuteTime": {
     "end_time": "2023-08-02T08:04:25.465460314Z",
     "start_time": "2023-08-02T07:59:16.474402382Z"
    }
   },
   "id": "63adcf59f3042606"
  },
  {
   "cell_type": "code",
   "execution_count": 6,
   "outputs": [
    {
     "data": {
      "text/plain": "[EcoinventDataset: cutoff_3.9.1_default (BWProjectIndex: ecoinvent - cutoff_3.9.1_default),\n EcoinventDataset: consequential_3.9.1_default (no BW2 project index),\n EcoinventDataset: apos_3.9.1_default (no BW2 project index)]"
     },
     "execution_count": 6,
     "metadata": {},
     "output_type": "execute_result"
    }
   ],
   "source": [
    "get_ecoinvent_dataset_index()"
   ],
   "metadata": {
    "collapsed": false,
    "ExecuteTime": {
     "end_time": "2023-08-02T08:04:25.533464025Z",
     "start_time": "2023-08-02T08:04:25.468226501Z"
    }
   },
   "id": "66edbcd30efdd3ec"
  },
  {
   "cell_type": "code",
   "execution_count": 7,
   "outputs": [
    {
     "name": "stdout",
     "output_type": "stream",
     "text": [
      "Project: default\n",
      "['biosphere3']\n",
      "Project: ecoinvent\n",
      "['biosphere3', 'cutoff_3.9.1_default']\n"
     ]
    }
   ],
   "source": [
    "report()"
   ],
   "metadata": {
    "collapsed": false,
    "ExecuteTime": {
     "end_time": "2023-08-02T08:04:49.023805921Z",
     "start_time": "2023-08-02T08:04:45.573341486Z"
    }
   },
   "id": "3b04cf9b009cabf7"
  },
  {
   "cell_type": "code",
   "execution_count": null,
   "outputs": [],
   "source": [],
   "metadata": {
    "collapsed": false
   },
   "id": "a4bd22364d575bb6"
  }
 ],
 "metadata": {
  "kernelspec": {
   "display_name": "Python 3",
   "language": "python",
   "name": "python3"
  },
  "language_info": {
   "codemirror_mode": {
    "name": "ipython",
    "version": 2
   },
   "file_extension": ".py",
   "mimetype": "text/x-python",
   "name": "python",
   "nbconvert_exporter": "python",
   "pygments_lexer": "ipython2",
   "version": "2.7.6"
  }
 },
 "nbformat": 4,
 "nbformat_minor": 5
}
